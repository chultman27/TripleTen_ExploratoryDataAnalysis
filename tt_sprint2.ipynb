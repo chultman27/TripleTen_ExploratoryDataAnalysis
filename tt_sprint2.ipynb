{
 "cells": [
  {
   "cell_type": "markdown",
   "id": "76fffc3d",
   "metadata": {},
   "source": [
    "# Sprint 2: Exploratory Data Analysis (EDA)"
   ]
  },
  {
   "cell_type": "markdown",
   "id": "428840e2",
   "metadata": {},
   "source": [
    "## Introduction\n"
   ]
  },
  {
   "cell_type": "markdown",
   "id": "456dac03",
   "metadata": {},
   "source": [
    "This study uses various datasets from instacart, a grocery delivery service. The goal of this project is to use the given data sets to understand more about the habits of shoppers that are using the paltform.\n",
    "\n",
    "This will be done using the following steps:\n",
    "1) Cleaning up the data by removing duplicate rows and replacing missing values from all given data frames.\n",
    "\n",
    "2) Answering various questions about shopping patterns during the days and hours of the week.\n",
    "\n",
    "3) Answering various questions pertaining to the popularity of specific products.')"
   ]
  },
  {
   "cell_type": "code",
   "execution_count": 1,
   "id": "fbf1adab",
   "metadata": {
    "trusted": false
   },
   "outputs": [],
   "source": [
    "#import libraries\n",
    "import pandas as pd\n",
    "from matplotlib import pyplot as plt\n",
    "\n"
   ]
  },
  {
   "cell_type": "code",
   "execution_count": 2,
   "id": "ad36396d",
   "metadata": {
    "trusted": false
   },
   "outputs": [
    {
     "data": {
      "text/html": [
       "<div>\n",
       "<style scoped>\n",
       "    .dataframe tbody tr th:only-of-type {\n",
       "        vertical-align: middle;\n",
       "    }\n",
       "\n",
       "    .dataframe tbody tr th {\n",
       "        vertical-align: top;\n",
       "    }\n",
       "\n",
       "    .dataframe thead th {\n",
       "        text-align: right;\n",
       "    }\n",
       "</style>\n",
       "<table border=\"1\" class=\"dataframe\">\n",
       "  <thead>\n",
       "    <tr style=\"text-align: right;\">\n",
       "      <th></th>\n",
       "      <th>order_id</th>\n",
       "      <th>user_id</th>\n",
       "      <th>order_number</th>\n",
       "      <th>order_dow</th>\n",
       "      <th>order_hour_of_day</th>\n",
       "      <th>days_since_prior_order</th>\n",
       "    </tr>\n",
       "  </thead>\n",
       "  <tbody>\n",
       "    <tr>\n",
       "      <th>0</th>\n",
       "      <td>1515936</td>\n",
       "      <td>183418</td>\n",
       "      <td>11</td>\n",
       "      <td>6</td>\n",
       "      <td>13</td>\n",
       "      <td>30.0</td>\n",
       "    </tr>\n",
       "    <tr>\n",
       "      <th>1</th>\n",
       "      <td>1690866</td>\n",
       "      <td>163593</td>\n",
       "      <td>5</td>\n",
       "      <td>5</td>\n",
       "      <td>12</td>\n",
       "      <td>9.0</td>\n",
       "    </tr>\n",
       "    <tr>\n",
       "      <th>2</th>\n",
       "      <td>1454967</td>\n",
       "      <td>39980</td>\n",
       "      <td>4</td>\n",
       "      <td>5</td>\n",
       "      <td>19</td>\n",
       "      <td>2.0</td>\n",
       "    </tr>\n",
       "    <tr>\n",
       "      <th>3</th>\n",
       "      <td>1768857</td>\n",
       "      <td>82516</td>\n",
       "      <td>56</td>\n",
       "      <td>0</td>\n",
       "      <td>20</td>\n",
       "      <td>10.0</td>\n",
       "    </tr>\n",
       "    <tr>\n",
       "      <th>4</th>\n",
       "      <td>3007858</td>\n",
       "      <td>196724</td>\n",
       "      <td>2</td>\n",
       "      <td>4</td>\n",
       "      <td>12</td>\n",
       "      <td>17.0</td>\n",
       "    </tr>\n",
       "    <tr>\n",
       "      <th>...</th>\n",
       "      <td>...</td>\n",
       "      <td>...</td>\n",
       "      <td>...</td>\n",
       "      <td>...</td>\n",
       "      <td>...</td>\n",
       "      <td>...</td>\n",
       "    </tr>\n",
       "    <tr>\n",
       "      <th>478962</th>\n",
       "      <td>3210681</td>\n",
       "      <td>5617</td>\n",
       "      <td>5</td>\n",
       "      <td>1</td>\n",
       "      <td>14</td>\n",
       "      <td>7.0</td>\n",
       "    </tr>\n",
       "    <tr>\n",
       "      <th>478963</th>\n",
       "      <td>3270802</td>\n",
       "      <td>112087</td>\n",
       "      <td>2</td>\n",
       "      <td>3</td>\n",
       "      <td>13</td>\n",
       "      <td>6.0</td>\n",
       "    </tr>\n",
       "    <tr>\n",
       "      <th>478964</th>\n",
       "      <td>885349</td>\n",
       "      <td>82944</td>\n",
       "      <td>16</td>\n",
       "      <td>2</td>\n",
       "      <td>11</td>\n",
       "      <td>6.0</td>\n",
       "    </tr>\n",
       "    <tr>\n",
       "      <th>478965</th>\n",
       "      <td>216274</td>\n",
       "      <td>4391</td>\n",
       "      <td>3</td>\n",
       "      <td>3</td>\n",
       "      <td>8</td>\n",
       "      <td>8.0</td>\n",
       "    </tr>\n",
       "    <tr>\n",
       "      <th>478966</th>\n",
       "      <td>2071924</td>\n",
       "      <td>1730</td>\n",
       "      <td>18</td>\n",
       "      <td>1</td>\n",
       "      <td>14</td>\n",
       "      <td>15.0</td>\n",
       "    </tr>\n",
       "  </tbody>\n",
       "</table>\n",
       "<p>478967 rows × 6 columns</p>\n",
       "</div>"
      ],
      "text/plain": [
       "        order_id  user_id  order_number  order_dow  order_hour_of_day  \\\n",
       "0        1515936   183418            11          6                 13   \n",
       "1        1690866   163593             5          5                 12   \n",
       "2        1454967    39980             4          5                 19   \n",
       "3        1768857    82516            56          0                 20   \n",
       "4        3007858   196724             2          4                 12   \n",
       "...          ...      ...           ...        ...                ...   \n",
       "478962   3210681     5617             5          1                 14   \n",
       "478963   3270802   112087             2          3                 13   \n",
       "478964    885349    82944            16          2                 11   \n",
       "478965    216274     4391             3          3                  8   \n",
       "478966   2071924     1730            18          1                 14   \n",
       "\n",
       "        days_since_prior_order  \n",
       "0                         30.0  \n",
       "1                          9.0  \n",
       "2                          2.0  \n",
       "3                         10.0  \n",
       "4                         17.0  \n",
       "...                        ...  \n",
       "478962                     7.0  \n",
       "478963                     6.0  \n",
       "478964                     6.0  \n",
       "478965                     8.0  \n",
       "478966                    15.0  \n",
       "\n",
       "[478967 rows x 6 columns]"
      ]
     },
     "metadata": {},
     "output_type": "display_data"
    }
   ],
   "source": [
    "#read orders\n",
    "orders = pd.read_csv('/datasets/instacart_orders.csv', sep = ';')\n",
    "#check that the file uploaded properly\n",
    "display(orders)"
   ]
  },
  {
   "cell_type": "code",
   "execution_count": 3,
   "id": "ad6a1efa",
   "metadata": {
    "trusted": false
   },
   "outputs": [
    {
     "data": {
      "text/html": [
       "<div>\n",
       "<style scoped>\n",
       "    .dataframe tbody tr th:only-of-type {\n",
       "        vertical-align: middle;\n",
       "    }\n",
       "\n",
       "    .dataframe tbody tr th {\n",
       "        vertical-align: top;\n",
       "    }\n",
       "\n",
       "    .dataframe thead th {\n",
       "        text-align: right;\n",
       "    }\n",
       "</style>\n",
       "<table border=\"1\" class=\"dataframe\">\n",
       "  <thead>\n",
       "    <tr style=\"text-align: right;\">\n",
       "      <th></th>\n",
       "      <th>product_id</th>\n",
       "      <th>product_name</th>\n",
       "      <th>aisle_id</th>\n",
       "      <th>department_id</th>\n",
       "    </tr>\n",
       "  </thead>\n",
       "  <tbody>\n",
       "    <tr>\n",
       "      <th>0</th>\n",
       "      <td>1</td>\n",
       "      <td>Chocolate Sandwich Cookies</td>\n",
       "      <td>61</td>\n",
       "      <td>19</td>\n",
       "    </tr>\n",
       "    <tr>\n",
       "      <th>1</th>\n",
       "      <td>2</td>\n",
       "      <td>All-Seasons Salt</td>\n",
       "      <td>104</td>\n",
       "      <td>13</td>\n",
       "    </tr>\n",
       "    <tr>\n",
       "      <th>2</th>\n",
       "      <td>3</td>\n",
       "      <td>Robust Golden Unsweetened Oolong Tea</td>\n",
       "      <td>94</td>\n",
       "      <td>7</td>\n",
       "    </tr>\n",
       "    <tr>\n",
       "      <th>3</th>\n",
       "      <td>4</td>\n",
       "      <td>Smart Ones Classic Favorites Mini Rigatoni Wit...</td>\n",
       "      <td>38</td>\n",
       "      <td>1</td>\n",
       "    </tr>\n",
       "    <tr>\n",
       "      <th>4</th>\n",
       "      <td>5</td>\n",
       "      <td>Green Chile Anytime Sauce</td>\n",
       "      <td>5</td>\n",
       "      <td>13</td>\n",
       "    </tr>\n",
       "    <tr>\n",
       "      <th>...</th>\n",
       "      <td>...</td>\n",
       "      <td>...</td>\n",
       "      <td>...</td>\n",
       "      <td>...</td>\n",
       "    </tr>\n",
       "    <tr>\n",
       "      <th>49689</th>\n",
       "      <td>49690</td>\n",
       "      <td>HIGH PERFORMANCE ENERGY DRINK</td>\n",
       "      <td>64</td>\n",
       "      <td>7</td>\n",
       "    </tr>\n",
       "    <tr>\n",
       "      <th>49690</th>\n",
       "      <td>49691</td>\n",
       "      <td>ORIGINAL PANCAKE &amp; WAFFLE MIX</td>\n",
       "      <td>130</td>\n",
       "      <td>14</td>\n",
       "    </tr>\n",
       "    <tr>\n",
       "      <th>49691</th>\n",
       "      <td>49692</td>\n",
       "      <td>ORGANIC INSTANT OATMEAL LIGHT MAPLE BROWN SUGAR</td>\n",
       "      <td>130</td>\n",
       "      <td>14</td>\n",
       "    </tr>\n",
       "    <tr>\n",
       "      <th>49692</th>\n",
       "      <td>49693</td>\n",
       "      <td>SPRING WATER BODY WASH</td>\n",
       "      <td>127</td>\n",
       "      <td>11</td>\n",
       "    </tr>\n",
       "    <tr>\n",
       "      <th>49693</th>\n",
       "      <td>49694</td>\n",
       "      <td>BURRITO- STEAK &amp; CHEESE</td>\n",
       "      <td>38</td>\n",
       "      <td>1</td>\n",
       "    </tr>\n",
       "  </tbody>\n",
       "</table>\n",
       "<p>49694 rows × 4 columns</p>\n",
       "</div>"
      ],
      "text/plain": [
       "       product_id                                       product_name  \\\n",
       "0               1                         Chocolate Sandwich Cookies   \n",
       "1               2                                   All-Seasons Salt   \n",
       "2               3               Robust Golden Unsweetened Oolong Tea   \n",
       "3               4  Smart Ones Classic Favorites Mini Rigatoni Wit...   \n",
       "4               5                          Green Chile Anytime Sauce   \n",
       "...           ...                                                ...   \n",
       "49689       49690                      HIGH PERFORMANCE ENERGY DRINK   \n",
       "49690       49691                      ORIGINAL PANCAKE & WAFFLE MIX   \n",
       "49691       49692    ORGANIC INSTANT OATMEAL LIGHT MAPLE BROWN SUGAR   \n",
       "49692       49693                             SPRING WATER BODY WASH   \n",
       "49693       49694                            BURRITO- STEAK & CHEESE   \n",
       "\n",
       "       aisle_id  department_id  \n",
       "0            61             19  \n",
       "1           104             13  \n",
       "2            94              7  \n",
       "3            38              1  \n",
       "4             5             13  \n",
       "...         ...            ...  \n",
       "49689        64              7  \n",
       "49690       130             14  \n",
       "49691       130             14  \n",
       "49692       127             11  \n",
       "49693        38              1  \n",
       "\n",
       "[49694 rows x 4 columns]"
      ]
     },
     "metadata": {},
     "output_type": "display_data"
    }
   ],
   "source": [
    "#read products\n",
    "products = pd.read_csv('/datasets/products.csv', sep = ';')\n",
    "#check that the file uploaded properly\n",
    "display(products)"
   ]
  },
  {
   "cell_type": "code",
   "execution_count": 4,
   "id": "5130e05e",
   "metadata": {
    "trusted": false
   },
   "outputs": [
    {
     "data": {
      "text/html": [
       "<div>\n",
       "<style scoped>\n",
       "    .dataframe tbody tr th:only-of-type {\n",
       "        vertical-align: middle;\n",
       "    }\n",
       "\n",
       "    .dataframe tbody tr th {\n",
       "        vertical-align: top;\n",
       "    }\n",
       "\n",
       "    .dataframe thead th {\n",
       "        text-align: right;\n",
       "    }\n",
       "</style>\n",
       "<table border=\"1\" class=\"dataframe\">\n",
       "  <thead>\n",
       "    <tr style=\"text-align: right;\">\n",
       "      <th></th>\n",
       "      <th>department_id</th>\n",
       "      <th>department</th>\n",
       "    </tr>\n",
       "  </thead>\n",
       "  <tbody>\n",
       "    <tr>\n",
       "      <th>0</th>\n",
       "      <td>1</td>\n",
       "      <td>frozen</td>\n",
       "    </tr>\n",
       "    <tr>\n",
       "      <th>1</th>\n",
       "      <td>2</td>\n",
       "      <td>other</td>\n",
       "    </tr>\n",
       "    <tr>\n",
       "      <th>2</th>\n",
       "      <td>3</td>\n",
       "      <td>bakery</td>\n",
       "    </tr>\n",
       "    <tr>\n",
       "      <th>3</th>\n",
       "      <td>4</td>\n",
       "      <td>produce</td>\n",
       "    </tr>\n",
       "    <tr>\n",
       "      <th>4</th>\n",
       "      <td>5</td>\n",
       "      <td>alcohol</td>\n",
       "    </tr>\n",
       "    <tr>\n",
       "      <th>5</th>\n",
       "      <td>6</td>\n",
       "      <td>international</td>\n",
       "    </tr>\n",
       "    <tr>\n",
       "      <th>6</th>\n",
       "      <td>7</td>\n",
       "      <td>beverages</td>\n",
       "    </tr>\n",
       "    <tr>\n",
       "      <th>7</th>\n",
       "      <td>8</td>\n",
       "      <td>pets</td>\n",
       "    </tr>\n",
       "    <tr>\n",
       "      <th>8</th>\n",
       "      <td>9</td>\n",
       "      <td>dry goods pasta</td>\n",
       "    </tr>\n",
       "    <tr>\n",
       "      <th>9</th>\n",
       "      <td>10</td>\n",
       "      <td>bulk</td>\n",
       "    </tr>\n",
       "    <tr>\n",
       "      <th>10</th>\n",
       "      <td>11</td>\n",
       "      <td>personal care</td>\n",
       "    </tr>\n",
       "    <tr>\n",
       "      <th>11</th>\n",
       "      <td>12</td>\n",
       "      <td>meat seafood</td>\n",
       "    </tr>\n",
       "    <tr>\n",
       "      <th>12</th>\n",
       "      <td>13</td>\n",
       "      <td>pantry</td>\n",
       "    </tr>\n",
       "    <tr>\n",
       "      <th>13</th>\n",
       "      <td>14</td>\n",
       "      <td>breakfast</td>\n",
       "    </tr>\n",
       "    <tr>\n",
       "      <th>14</th>\n",
       "      <td>15</td>\n",
       "      <td>canned goods</td>\n",
       "    </tr>\n",
       "    <tr>\n",
       "      <th>15</th>\n",
       "      <td>16</td>\n",
       "      <td>dairy eggs</td>\n",
       "    </tr>\n",
       "    <tr>\n",
       "      <th>16</th>\n",
       "      <td>17</td>\n",
       "      <td>household</td>\n",
       "    </tr>\n",
       "    <tr>\n",
       "      <th>17</th>\n",
       "      <td>18</td>\n",
       "      <td>babies</td>\n",
       "    </tr>\n",
       "    <tr>\n",
       "      <th>18</th>\n",
       "      <td>19</td>\n",
       "      <td>snacks</td>\n",
       "    </tr>\n",
       "    <tr>\n",
       "      <th>19</th>\n",
       "      <td>20</td>\n",
       "      <td>deli</td>\n",
       "    </tr>\n",
       "    <tr>\n",
       "      <th>20</th>\n",
       "      <td>21</td>\n",
       "      <td>missing</td>\n",
       "    </tr>\n",
       "  </tbody>\n",
       "</table>\n",
       "</div>"
      ],
      "text/plain": [
       "    department_id       department\n",
       "0               1           frozen\n",
       "1               2            other\n",
       "2               3           bakery\n",
       "3               4          produce\n",
       "4               5          alcohol\n",
       "5               6    international\n",
       "6               7        beverages\n",
       "7               8             pets\n",
       "8               9  dry goods pasta\n",
       "9              10             bulk\n",
       "10             11    personal care\n",
       "11             12     meat seafood\n",
       "12             13           pantry\n",
       "13             14        breakfast\n",
       "14             15     canned goods\n",
       "15             16       dairy eggs\n",
       "16             17        household\n",
       "17             18           babies\n",
       "18             19           snacks\n",
       "19             20             deli\n",
       "20             21          missing"
      ]
     },
     "metadata": {},
     "output_type": "display_data"
    }
   ],
   "source": [
    "#read departments\n",
    "departments = pd.read_csv('/datasets/departments.csv', sep = ';')\n",
    "#check that the file uploaded properly\n",
    "display(departments)"
   ]
  },
  {
   "cell_type": "code",
   "execution_count": 5,
   "id": "d8370c05",
   "metadata": {
    "trusted": false
   },
   "outputs": [
    {
     "data": {
      "text/html": [
       "<div>\n",
       "<style scoped>\n",
       "    .dataframe tbody tr th:only-of-type {\n",
       "        vertical-align: middle;\n",
       "    }\n",
       "\n",
       "    .dataframe tbody tr th {\n",
       "        vertical-align: top;\n",
       "    }\n",
       "\n",
       "    .dataframe thead th {\n",
       "        text-align: right;\n",
       "    }\n",
       "</style>\n",
       "<table border=\"1\" class=\"dataframe\">\n",
       "  <thead>\n",
       "    <tr style=\"text-align: right;\">\n",
       "      <th></th>\n",
       "      <th>aisle_id</th>\n",
       "      <th>aisle</th>\n",
       "    </tr>\n",
       "  </thead>\n",
       "  <tbody>\n",
       "    <tr>\n",
       "      <th>0</th>\n",
       "      <td>1</td>\n",
       "      <td>prepared soups salads</td>\n",
       "    </tr>\n",
       "    <tr>\n",
       "      <th>1</th>\n",
       "      <td>2</td>\n",
       "      <td>specialty cheeses</td>\n",
       "    </tr>\n",
       "    <tr>\n",
       "      <th>2</th>\n",
       "      <td>3</td>\n",
       "      <td>energy granola bars</td>\n",
       "    </tr>\n",
       "    <tr>\n",
       "      <th>3</th>\n",
       "      <td>4</td>\n",
       "      <td>instant foods</td>\n",
       "    </tr>\n",
       "    <tr>\n",
       "      <th>4</th>\n",
       "      <td>5</td>\n",
       "      <td>marinades meat preparation</td>\n",
       "    </tr>\n",
       "    <tr>\n",
       "      <th>...</th>\n",
       "      <td>...</td>\n",
       "      <td>...</td>\n",
       "    </tr>\n",
       "    <tr>\n",
       "      <th>129</th>\n",
       "      <td>130</td>\n",
       "      <td>hot cereal pancake mixes</td>\n",
       "    </tr>\n",
       "    <tr>\n",
       "      <th>130</th>\n",
       "      <td>131</td>\n",
       "      <td>dry pasta</td>\n",
       "    </tr>\n",
       "    <tr>\n",
       "      <th>131</th>\n",
       "      <td>132</td>\n",
       "      <td>beauty</td>\n",
       "    </tr>\n",
       "    <tr>\n",
       "      <th>132</th>\n",
       "      <td>133</td>\n",
       "      <td>muscles joints pain relief</td>\n",
       "    </tr>\n",
       "    <tr>\n",
       "      <th>133</th>\n",
       "      <td>134</td>\n",
       "      <td>specialty wines champagnes</td>\n",
       "    </tr>\n",
       "  </tbody>\n",
       "</table>\n",
       "<p>134 rows × 2 columns</p>\n",
       "</div>"
      ],
      "text/plain": [
       "     aisle_id                       aisle\n",
       "0           1       prepared soups salads\n",
       "1           2           specialty cheeses\n",
       "2           3         energy granola bars\n",
       "3           4               instant foods\n",
       "4           5  marinades meat preparation\n",
       "..        ...                         ...\n",
       "129       130    hot cereal pancake mixes\n",
       "130       131                   dry pasta\n",
       "131       132                      beauty\n",
       "132       133  muscles joints pain relief\n",
       "133       134  specialty wines champagnes\n",
       "\n",
       "[134 rows x 2 columns]"
      ]
     },
     "metadata": {},
     "output_type": "display_data"
    }
   ],
   "source": [
    "#read aisles\n",
    "aisles = pd.read_csv('/datasets/aisles.csv', sep = ';')\n",
    "#check that the file uploaded properly\n",
    "display(aisles)"
   ]
  },
  {
   "cell_type": "code",
   "execution_count": 6,
   "id": "59e2090f",
   "metadata": {
    "scrolled": true,
    "trusted": false
   },
   "outputs": [
    {
     "data": {
      "text/html": [
       "<div>\n",
       "<style scoped>\n",
       "    .dataframe tbody tr th:only-of-type {\n",
       "        vertical-align: middle;\n",
       "    }\n",
       "\n",
       "    .dataframe tbody tr th {\n",
       "        vertical-align: top;\n",
       "    }\n",
       "\n",
       "    .dataframe thead th {\n",
       "        text-align: right;\n",
       "    }\n",
       "</style>\n",
       "<table border=\"1\" class=\"dataframe\">\n",
       "  <thead>\n",
       "    <tr style=\"text-align: right;\">\n",
       "      <th></th>\n",
       "      <th>order_id</th>\n",
       "      <th>product_id</th>\n",
       "      <th>add_to_cart_order</th>\n",
       "      <th>reordered</th>\n",
       "    </tr>\n",
       "  </thead>\n",
       "  <tbody>\n",
       "    <tr>\n",
       "      <th>0</th>\n",
       "      <td>2141543</td>\n",
       "      <td>11440</td>\n",
       "      <td>17.0</td>\n",
       "      <td>0</td>\n",
       "    </tr>\n",
       "    <tr>\n",
       "      <th>1</th>\n",
       "      <td>567889</td>\n",
       "      <td>1560</td>\n",
       "      <td>1.0</td>\n",
       "      <td>1</td>\n",
       "    </tr>\n",
       "    <tr>\n",
       "      <th>2</th>\n",
       "      <td>2261212</td>\n",
       "      <td>26683</td>\n",
       "      <td>1.0</td>\n",
       "      <td>1</td>\n",
       "    </tr>\n",
       "    <tr>\n",
       "      <th>3</th>\n",
       "      <td>491251</td>\n",
       "      <td>8670</td>\n",
       "      <td>35.0</td>\n",
       "      <td>1</td>\n",
       "    </tr>\n",
       "    <tr>\n",
       "      <th>4</th>\n",
       "      <td>2571142</td>\n",
       "      <td>1940</td>\n",
       "      <td>5.0</td>\n",
       "      <td>1</td>\n",
       "    </tr>\n",
       "    <tr>\n",
       "      <th>...</th>\n",
       "      <td>...</td>\n",
       "      <td>...</td>\n",
       "      <td>...</td>\n",
       "      <td>...</td>\n",
       "    </tr>\n",
       "    <tr>\n",
       "      <th>4545002</th>\n",
       "      <td>577211</td>\n",
       "      <td>15290</td>\n",
       "      <td>12.0</td>\n",
       "      <td>1</td>\n",
       "    </tr>\n",
       "    <tr>\n",
       "      <th>4545003</th>\n",
       "      <td>1219554</td>\n",
       "      <td>21914</td>\n",
       "      <td>9.0</td>\n",
       "      <td>0</td>\n",
       "    </tr>\n",
       "    <tr>\n",
       "      <th>4545004</th>\n",
       "      <td>692640</td>\n",
       "      <td>47766</td>\n",
       "      <td>4.0</td>\n",
       "      <td>1</td>\n",
       "    </tr>\n",
       "    <tr>\n",
       "      <th>4545005</th>\n",
       "      <td>319435</td>\n",
       "      <td>691</td>\n",
       "      <td>8.0</td>\n",
       "      <td>1</td>\n",
       "    </tr>\n",
       "    <tr>\n",
       "      <th>4545006</th>\n",
       "      <td>1398151</td>\n",
       "      <td>28733</td>\n",
       "      <td>9.0</td>\n",
       "      <td>0</td>\n",
       "    </tr>\n",
       "  </tbody>\n",
       "</table>\n",
       "<p>4545007 rows × 4 columns</p>\n",
       "</div>"
      ],
      "text/plain": [
       "         order_id  product_id  add_to_cart_order  reordered\n",
       "0         2141543       11440               17.0          0\n",
       "1          567889        1560                1.0          1\n",
       "2         2261212       26683                1.0          1\n",
       "3          491251        8670               35.0          1\n",
       "4         2571142        1940                5.0          1\n",
       "...           ...         ...                ...        ...\n",
       "4545002    577211       15290               12.0          1\n",
       "4545003   1219554       21914                9.0          0\n",
       "4545004    692640       47766                4.0          1\n",
       "4545005    319435         691                8.0          1\n",
       "4545006   1398151       28733                9.0          0\n",
       "\n",
       "[4545007 rows x 4 columns]"
      ]
     },
     "metadata": {},
     "output_type": "display_data"
    }
   ],
   "source": [
    "#read order_products\n",
    "order_products = pd.read_csv('/datasets/order_products.csv', sep = ';')\n",
    "#check that the file uploaded properly\n",
    "display(order_products)"
   ]
  },
  {
   "cell_type": "markdown",
   "id": "07357848-dc64-4156-9cc3-01ff4365226d",
   "metadata": {},
   "source": [
    "## Find and Remove Duplicate Values"
   ]
  },
  {
   "cell_type": "markdown",
   "id": "f179f0a9",
   "metadata": {},
   "source": [
    "### `orders` data frame"
   ]
  },
  {
   "cell_type": "code",
   "execution_count": 7,
   "id": "e18ee63a",
   "metadata": {
    "trusted": false
   },
   "outputs": [
    {
     "name": "stdout",
     "output_type": "stream",
     "text": [
      "<class 'pandas.core.frame.DataFrame'>\n",
      "RangeIndex: 478967 entries, 0 to 478966\n",
      "Data columns (total 6 columns):\n",
      " #   Column                  Non-Null Count   Dtype  \n",
      "---  ------                  --------------   -----  \n",
      " 0   order_id                478967 non-null  int64  \n",
      " 1   user_id                 478967 non-null  int64  \n",
      " 2   order_number            478967 non-null  int64  \n",
      " 3   order_dow               478967 non-null  int64  \n",
      " 4   order_hour_of_day       478967 non-null  int64  \n",
      " 5   days_since_prior_order  450148 non-null  float64\n",
      "dtypes: float64(1), int64(5)\n",
      "memory usage: 21.9 MB\n",
      "None\n",
      "\n"
     ]
    }
   ],
   "source": [
    "#call info on orders data frame to get an overall view of the data\n",
    "print(orders.info())\n",
    "print()"
   ]
  },
  {
   "cell_type": "code",
   "execution_count": 8,
   "id": "b99297a5-405a-463d-8535-9adc3da4ad74",
   "metadata": {
    "trusted": false
   },
   "outputs": [
    {
     "name": "stdout",
     "output_type": "stream",
     "text": [
      "There are 15 duplicated orders.\n"
     ]
    }
   ],
   "source": [
    "# Check for duplicated orders\n",
    "orders_duplicated = orders.duplicated().sum()\n",
    "print(f\"There are {orders_duplicated} duplicated orders.\")"
   ]
  },
  {
   "cell_type": "code",
   "execution_count": 9,
   "id": "0d44de5d",
   "metadata": {
    "trusted": false
   },
   "outputs": [
    {
     "name": "stdout",
     "output_type": "stream",
     "text": [
      "<class 'pandas.core.frame.DataFrame'>\n",
      "Int64Index: 121 entries, 4838 to 477526\n",
      "Data columns (total 6 columns):\n",
      " #   Column                  Non-Null Count  Dtype  \n",
      "---  ------                  --------------  -----  \n",
      " 0   order_id                121 non-null    int64  \n",
      " 1   user_id                 121 non-null    int64  \n",
      " 2   order_number            121 non-null    int64  \n",
      " 3   order_dow               121 non-null    int64  \n",
      " 4   order_hour_of_day       121 non-null    int64  \n",
      " 5   days_since_prior_order  114 non-null    float64\n",
      "dtypes: float64(1), int64(5)\n",
      "memory usage: 6.6 KB\n",
      "None\n"
     ]
    }
   ],
   "source": [
    "# Check for all orders placed Wednesday at 2:00 AM\n",
    "filtered_orders = orders.query(\"order_dow == 3 and order_hour_of_day == 2\")\n",
    "print(filtered_orders.info())"
   ]
  },
  {
   "cell_type": "code",
   "execution_count": 10,
   "id": "480563c7",
   "metadata": {
    "trusted": false
   },
   "outputs": [],
   "source": [
    "# Remove duplicate orders\n",
    "orders= orders.drop_duplicates().reset_index()"
   ]
  },
  {
   "cell_type": "code",
   "execution_count": 11,
   "id": "0b2396a2",
   "metadata": {
    "trusted": false
   },
   "outputs": [
    {
     "name": "stdout",
     "output_type": "stream",
     "text": [
      "There are 0 duplicated orders.\n"
     ]
    }
   ],
   "source": [
    "# Double check for duplicate rows\n",
    "orders_duplicated = orders.duplicated().sum()\n",
    "print(f\"There are {orders_duplicated} duplicated orders.\")"
   ]
  },
  {
   "cell_type": "code",
   "execution_count": 12,
   "id": "f6113ef1",
   "metadata": {
    "trusted": false
   },
   "outputs": [
    {
     "name": "stdout",
     "output_type": "stream",
     "text": [
      "There are 0 duplicated order IDs.\n"
     ]
    }
   ],
   "source": [
    "# Double check for duplicate order IDs only\n",
    "orders_id_duplicated = orders['order_id'].duplicated().sum()\n",
    "print(f\"There are {orders_id_duplicated} duplicated order IDs.\")"
   ]
  },
  {
   "cell_type": "markdown",
   "id": "45e6bc46",
   "metadata": {},
   "source": [
    "### `products` data frame"
   ]
  },
  {
   "cell_type": "code",
   "execution_count": 13,
   "id": "05608501",
   "metadata": {
    "trusted": false
   },
   "outputs": [
    {
     "name": "stdout",
     "output_type": "stream",
     "text": [
      "<class 'pandas.core.frame.DataFrame'>\n",
      "RangeIndex: 49694 entries, 0 to 49693\n",
      "Data columns (total 4 columns):\n",
      " #   Column         Non-Null Count  Dtype \n",
      "---  ------         --------------  ----- \n",
      " 0   product_id     49694 non-null  int64 \n",
      " 1   product_name   48436 non-null  object\n",
      " 2   aisle_id       49694 non-null  int64 \n",
      " 3   department_id  49694 non-null  int64 \n",
      "dtypes: int64(3), object(1)\n",
      "memory usage: 1.5+ MB\n",
      "None\n",
      "\n"
     ]
    }
   ],
   "source": [
    "#call info on products data frame to get an overall view of the data\n",
    "print(products.info())\n",
    "print()"
   ]
  },
  {
   "cell_type": "code",
   "execution_count": 14,
   "id": "5f526b5b-8175-46fa-a0fd-441767d50e64",
   "metadata": {
    "trusted": false
   },
   "outputs": [
    {
     "name": "stdout",
     "output_type": "stream",
     "text": [
      "There are 0 duplicated orders.\n"
     ]
    }
   ],
   "source": [
    "# Check for fully duplicate rows\n",
    "products_duplicated = products.duplicated().sum()\n",
    "print(f\"There are {products_duplicated} duplicated orders.\")"
   ]
  },
  {
   "cell_type": "code",
   "execution_count": 15,
   "id": "88daa4f4",
   "metadata": {
    "trusted": false
   },
   "outputs": [
    {
     "name": "stdout",
     "output_type": "stream",
     "text": [
      "There are 0 duplicated order IDs.\n"
     ]
    }
   ],
   "source": [
    "# Check for just duplicate product IDs\n",
    "product_id_duplicated = products['product_id'].duplicated().sum()\n",
    "print(f\"There are {product_id_duplicated} duplicated order IDs.\")"
   ]
  },
  {
   "cell_type": "code",
   "execution_count": 16,
   "id": "c773f0bf",
   "metadata": {
    "trusted": false
   },
   "outputs": [
    {
     "name": "stdout",
     "output_type": "stream",
     "text": [
      "There are 1361 duplicated product names.\n"
     ]
    }
   ],
   "source": [
    "# Check for just duplicate product names (convert names to lowercase to compare better)\n",
    "products['product_name'] =products['product_name'].str.lower()\n",
    "products_lower = products['product_name'].duplicated().sum()\n",
    "print(f\"There are {products_lower} duplicated product names.\")"
   ]
  },
  {
   "cell_type": "code",
   "execution_count": 17,
   "id": "01efd02e",
   "metadata": {
    "trusted": false
   },
   "outputs": [
    {
     "name": "stdout",
     "output_type": "stream",
     "text": [
      "<bound method IndexOpsMixin.value_counts of 0                               chocolate sandwich cookies\n",
      "1                                         all-seasons salt\n",
      "2                     robust golden unsweetened oolong tea\n",
      "3        smart ones classic favorites mini rigatoni wit...\n",
      "4                                green chile anytime sauce\n",
      "                               ...                        \n",
      "49689                        high performance energy drink\n",
      "49690                        original pancake & waffle mix\n",
      "49691      organic instant oatmeal light maple brown sugar\n",
      "49692                               spring water body wash\n",
      "49693                              burrito- steak & cheese\n",
      "Name: product_name, Length: 49694, dtype: object>\n"
     ]
    }
   ],
   "source": [
    "# Check for duplicate product names that aren't missing\n",
    "print(products['product_name'].value_counts)"
   ]
  },
  {
   "cell_type": "markdown",
   "id": "60f30db1",
   "metadata": {},
   "source": [
    "### `departments` data frame"
   ]
  },
  {
   "cell_type": "code",
   "execution_count": 18,
   "id": "fb410ad4-0fbf-4b80-bb09-23fdea79afe3",
   "metadata": {
    "trusted": false
   },
   "outputs": [
    {
     "name": "stdout",
     "output_type": "stream",
     "text": [
      "<class 'pandas.core.frame.DataFrame'>\n",
      "RangeIndex: 21 entries, 0 to 20\n",
      "Data columns (total 2 columns):\n",
      " #   Column         Non-Null Count  Dtype \n",
      "---  ------         --------------  ----- \n",
      " 0   department_id  21 non-null     int64 \n",
      " 1   department     21 non-null     object\n",
      "dtypes: int64(1), object(1)\n",
      "memory usage: 464.0+ bytes\n",
      "None\n",
      "\n",
      "   department_id department\n",
      "0              1     frozen\n",
      "1              2      other\n",
      "2              3     bakery\n",
      "3              4    produce\n",
      "4              5    alcohol\n",
      "\n"
     ]
    }
   ],
   "source": [
    "#call info on departments data frame to get an overall view of the data\n",
    "print(departments.info())\n",
    "print()\n",
    "print(departments.head(5))\n",
    "print()"
   ]
  },
  {
   "cell_type": "code",
   "execution_count": 19,
   "id": "332b12bb",
   "metadata": {
    "trusted": false
   },
   "outputs": [
    {
     "name": "stdout",
     "output_type": "stream",
     "text": [
      "There are 0 duplicated rows in the departments data frame.\n"
     ]
    }
   ],
   "source": [
    "#check for entire duplicate rows\n",
    "departments_duplicated = departments.duplicated().sum()\n",
    "print(f\"There are {departments_duplicated} duplicated rows in the departments data frame.\")"
   ]
  },
  {
   "cell_type": "code",
   "execution_count": 20,
   "id": "920d070c",
   "metadata": {
    "trusted": false
   },
   "outputs": [
    {
     "name": "stdout",
     "output_type": "stream",
     "text": [
      "There are 21 unique departments in this data frame.\n",
      "\n",
      "There are 0 duplicated rows in this data frame.\n"
     ]
    }
   ],
   "source": [
    "#check for duplicates after the department has been put in lower cased(eliminate sneaky duplicates)\n",
    "departments['department'] =departments['department'].str.lower()\n",
    "departments_unique = departments['department'].nunique()\n",
    "print(f\"There are {departments_unique} unique departments in this data frame.\")\n",
    "print()\n",
    "departments_duplicated = departments.duplicated().sum()\n",
    "print(f\"There are {departments_duplicated} duplicated rows in this data frame.\")"
   ]
  },
  {
   "cell_type": "markdown",
   "id": "2927ab88",
   "metadata": {},
   "source": [
    "No duplicates found using nunique() to count the number of unique values further supports this. The number of unique departments matches the number of row entries. The sum of duplicated rows is also found to be zero."
   ]
  },
  {
   "cell_type": "markdown",
   "id": "889349c1",
   "metadata": {},
   "source": [
    "### `aisles` data frame"
   ]
  },
  {
   "cell_type": "code",
   "execution_count": 21,
   "id": "9da89fb9-4679-40f5-ad0d-c34df753a3f8",
   "metadata": {
    "trusted": false
   },
   "outputs": [
    {
     "name": "stdout",
     "output_type": "stream",
     "text": [
      "<class 'pandas.core.frame.DataFrame'>\n",
      "RangeIndex: 134 entries, 0 to 133\n",
      "Data columns (total 2 columns):\n",
      " #   Column    Non-Null Count  Dtype \n",
      "---  ------    --------------  ----- \n",
      " 0   aisle_id  134 non-null    int64 \n",
      " 1   aisle     134 non-null    object\n",
      "dtypes: int64(1), object(1)\n",
      "memory usage: 2.2+ KB\n",
      "None\n",
      "\n",
      "   aisle_id                       aisle\n",
      "0         1       prepared soups salads\n",
      "1         2           specialty cheeses\n",
      "2         3         energy granola bars\n",
      "3         4               instant foods\n",
      "4         5  marinades meat preparation\n"
     ]
    }
   ],
   "source": [
    "#call info on orders data frame to get an overall view of the data\n",
    "print(aisles.info())\n",
    "print()\n",
    "print(aisles.head(5))"
   ]
  },
  {
   "cell_type": "code",
   "execution_count": 22,
   "id": "da7c2822",
   "metadata": {
    "trusted": false
   },
   "outputs": [
    {
     "name": "stdout",
     "output_type": "stream",
     "text": [
      "There are 0 duplicated aisles in the aisles data frame.\n"
     ]
    }
   ],
   "source": [
    "#check for entire duplicate rows\n",
    "aisles_duplicated = aisles.duplicated().sum()\n",
    "print(f\"There are {aisles_duplicated} duplicated aisles in the aisles data frame.\")"
   ]
  },
  {
   "cell_type": "code",
   "execution_count": 23,
   "id": "b0eafff9",
   "metadata": {
    "trusted": false
   },
   "outputs": [
    {
     "name": "stdout",
     "output_type": "stream",
     "text": [
      "There are 134 unique aisles in this data frame.\n",
      "\n",
      "There are 0 duplicated aisles in this data frame.\n"
     ]
    }
   ],
   "source": [
    "#check for duplicates after the aisle has been put in lower cased(eliminate sneaky duplicates)\n",
    "aisles['aisle'] =aisles['aisle'].str.lower()\n",
    "aisles_unique = aisles['aisle'].nunique()\n",
    "print(f\"There are {aisles_unique} unique aisles in this data frame.\")\n",
    "print()\n",
    "aisles_duplicated = aisles.duplicated().sum()\n",
    "print(f\"There are {aisles_duplicated} duplicated aisles in this data frame.\")"
   ]
  },
  {
   "cell_type": "markdown",
   "id": "0c4540d3",
   "metadata": {},
   "source": [
    "No duplicates found. using nunique() to count the number of unique values further supports this. The number of unique aisles matches the number of row entries. the sum of duplicated rows is also found to be zero."
   ]
  },
  {
   "cell_type": "markdown",
   "id": "274cd06a",
   "metadata": {},
   "source": [
    "### `order_products` data frame"
   ]
  },
  {
   "cell_type": "code",
   "execution_count": 24,
   "id": "0bd3c42b",
   "metadata": {
    "trusted": false
   },
   "outputs": [
    {
     "name": "stdout",
     "output_type": "stream",
     "text": [
      "<class 'pandas.core.frame.DataFrame'>\n",
      "RangeIndex: 4545007 entries, 0 to 4545006\n",
      "Data columns (total 4 columns):\n",
      " #   Column             Dtype  \n",
      "---  ------             -----  \n",
      " 0   order_id           int64  \n",
      " 1   product_id         int64  \n",
      " 2   add_to_cart_order  float64\n",
      " 3   reordered          int64  \n",
      "dtypes: float64(1), int64(3)\n",
      "memory usage: 138.7 MB\n",
      "None\n",
      "\n",
      "   order_id  product_id  add_to_cart_order  reordered\n",
      "0   2141543       11440               17.0          0\n",
      "1    567889        1560                1.0          1\n",
      "2   2261212       26683                1.0          1\n",
      "3    491251        8670               35.0          1\n",
      "4   2571142        1940                5.0          1\n"
     ]
    }
   ],
   "source": [
    "#call info on order_products data frame to get an overall view of the data\n",
    "print(order_products.info())\n",
    "print()\n",
    "print(order_products.head(5))"
   ]
  },
  {
   "cell_type": "code",
   "execution_count": 25,
   "id": "52326689-84a8-4b8f-a881-7c68780f62c9",
   "metadata": {
    "trusted": false
   },
   "outputs": [
    {
     "name": "stdout",
     "output_type": "stream",
     "text": [
      "There are 0 duplicated rows in this data frame.\n"
     ]
    }
   ],
   "source": [
    "# Check for fully duplicate rows\n",
    "order_products_duplicated = order_products.duplicated().sum()\n",
    "print(f\"There are {order_products_duplicated} duplicated rows in this data frame.\")"
   ]
  },
  {
   "cell_type": "code",
   "execution_count": 53,
   "id": "7b861391",
   "metadata": {
    "trusted": false
   },
   "outputs": [
    {
     "name": "stdout",
     "output_type": "stream",
     "text": [
      "There are 450046 unique order_id values in this data frame. Because the number of unique IDs is the same\n",
      "as the number of unique rows, it shows that there are no duplicate rows present.\n",
      "\n",
      "<class 'pandas.core.frame.DataFrame'>\n",
      "RangeIndex: 4545007 entries, 0 to 4545006\n",
      "Data columns (total 4 columns):\n",
      " #   Column             Dtype\n",
      "---  ------             -----\n",
      " 0   order_id           int64\n",
      " 1   product_id         int64\n",
      " 2   add_to_cart_order  int64\n",
      " 3   reordered          int64\n",
      "dtypes: int64(4)\n",
      "memory usage: 138.7 MB\n",
      "None\n"
     ]
    }
   ],
   "source": [
    "# Double check for any other tricky duplicates\n",
    "#check for sneaky duplicates\n",
    "order_products_unique = order_products['order_id'].nunique()\n",
    "print(f\"There are {order_products_unique} unique order_id values in this data frame. Because the number of unique IDs is the same\\nas the number of unique rows, it shows that there are no duplicate rows present.\")\n",
    "#drop all orders that do not have unique order ids\n",
    "print()\n",
    "print(order_products.info())"
   ]
  },
  {
   "cell_type": "code",
   "execution_count": 65,
   "id": "9d8d0ffc",
   "metadata": {
    "trusted": false
   },
   "outputs": [
    {
     "data": {
      "text/html": [
       "<div>\n",
       "<style scoped>\n",
       "    .dataframe tbody tr th:only-of-type {\n",
       "        vertical-align: middle;\n",
       "    }\n",
       "\n",
       "    .dataframe tbody tr th {\n",
       "        vertical-align: top;\n",
       "    }\n",
       "\n",
       "    .dataframe thead th {\n",
       "        text-align: right;\n",
       "    }\n",
       "</style>\n",
       "<table border=\"1\" class=\"dataframe\">\n",
       "  <thead>\n",
       "    <tr style=\"text-align: right;\">\n",
       "      <th></th>\n",
       "      <th>order_id</th>\n",
       "      <th>product_id</th>\n",
       "      <th>add_to_cart_order</th>\n",
       "      <th>reordered</th>\n",
       "    </tr>\n",
       "  </thead>\n",
       "  <tbody>\n",
       "  </tbody>\n",
       "</table>\n",
       "</div>"
      ],
      "text/plain": [
       "Empty DataFrame\n",
       "Columns: [order_id, product_id, add_to_cart_order, reordered]\n",
       "Index: []"
      ]
     },
     "metadata": {},
     "output_type": "display_data"
    }
   ],
   "source": [
    "display(order_products[order_products.duplicated(subset=['order_id', 'product_id'])])"
   ]
  },
  {
   "cell_type": "markdown",
   "id": "81118197",
   "metadata": {},
   "source": [
    "This data frame contains no data, meaning no duplicates were found."
   ]
  },
  {
   "cell_type": "markdown",
   "id": "1e46de76",
   "metadata": {},
   "source": [
    "## Find and remove missing values\n"
   ]
  },
  {
   "cell_type": "markdown",
   "id": "c0aebd78",
   "metadata": {},
   "source": [
    "### `products` data frame"
   ]
  },
  {
   "cell_type": "code",
   "execution_count": 27,
   "id": "fe4a8b0f",
   "metadata": {
    "trusted": false
   },
   "outputs": [
    {
     "name": "stdout",
     "output_type": "stream",
     "text": [
      "<class 'pandas.core.frame.DataFrame'>\n",
      "RangeIndex: 49694 entries, 0 to 49693\n",
      "Data columns (total 4 columns):\n",
      " #   Column         Non-Null Count  Dtype \n",
      "---  ------         --------------  ----- \n",
      " 0   product_id     49694 non-null  int64 \n",
      " 1   product_name   48436 non-null  object\n",
      " 2   aisle_id       49694 non-null  int64 \n",
      " 3   department_id  49694 non-null  int64 \n",
      "dtypes: int64(3), object(1)\n",
      "memory usage: 1.5+ MB\n",
      "None\n",
      "\n",
      "The product_name column is the only column where there are missing values.\n"
     ]
    }
   ],
   "source": [
    "#call info to look at which columns (if any) contain missing data points\n",
    "print(products.info())\n",
    "print()\n",
    "print(\"The product_name column is the only column where there are missing values.\")"
   ]
  },
  {
   "cell_type": "code",
   "execution_count": 28,
   "id": "932167b9",
   "metadata": {
    "trusted": false
   },
   "outputs": [
    {
     "data": {
      "text/html": [
       "<div>\n",
       "<style scoped>\n",
       "    .dataframe tbody tr th:only-of-type {\n",
       "        vertical-align: middle;\n",
       "    }\n",
       "\n",
       "    .dataframe tbody tr th {\n",
       "        vertical-align: top;\n",
       "    }\n",
       "\n",
       "    .dataframe thead th {\n",
       "        text-align: right;\n",
       "    }\n",
       "</style>\n",
       "<table border=\"1\" class=\"dataframe\">\n",
       "  <thead>\n",
       "    <tr style=\"text-align: right;\">\n",
       "      <th></th>\n",
       "      <th>product_id</th>\n",
       "      <th>product_name</th>\n",
       "      <th>aisle_id</th>\n",
       "      <th>department_id</th>\n",
       "    </tr>\n",
       "  </thead>\n",
       "  <tbody>\n",
       "    <tr>\n",
       "      <th>37</th>\n",
       "      <td>38</td>\n",
       "      <td>NaN</td>\n",
       "      <td>100</td>\n",
       "      <td>21</td>\n",
       "    </tr>\n",
       "    <tr>\n",
       "      <th>71</th>\n",
       "      <td>72</td>\n",
       "      <td>NaN</td>\n",
       "      <td>100</td>\n",
       "      <td>21</td>\n",
       "    </tr>\n",
       "    <tr>\n",
       "      <th>109</th>\n",
       "      <td>110</td>\n",
       "      <td>NaN</td>\n",
       "      <td>100</td>\n",
       "      <td>21</td>\n",
       "    </tr>\n",
       "    <tr>\n",
       "      <th>296</th>\n",
       "      <td>297</td>\n",
       "      <td>NaN</td>\n",
       "      <td>100</td>\n",
       "      <td>21</td>\n",
       "    </tr>\n",
       "    <tr>\n",
       "      <th>416</th>\n",
       "      <td>417</td>\n",
       "      <td>NaN</td>\n",
       "      <td>100</td>\n",
       "      <td>21</td>\n",
       "    </tr>\n",
       "    <tr>\n",
       "      <th>...</th>\n",
       "      <td>...</td>\n",
       "      <td>...</td>\n",
       "      <td>...</td>\n",
       "      <td>...</td>\n",
       "    </tr>\n",
       "    <tr>\n",
       "      <th>49552</th>\n",
       "      <td>49553</td>\n",
       "      <td>NaN</td>\n",
       "      <td>100</td>\n",
       "      <td>21</td>\n",
       "    </tr>\n",
       "    <tr>\n",
       "      <th>49574</th>\n",
       "      <td>49575</td>\n",
       "      <td>NaN</td>\n",
       "      <td>100</td>\n",
       "      <td>21</td>\n",
       "    </tr>\n",
       "    <tr>\n",
       "      <th>49640</th>\n",
       "      <td>49641</td>\n",
       "      <td>NaN</td>\n",
       "      <td>100</td>\n",
       "      <td>21</td>\n",
       "    </tr>\n",
       "    <tr>\n",
       "      <th>49663</th>\n",
       "      <td>49664</td>\n",
       "      <td>NaN</td>\n",
       "      <td>100</td>\n",
       "      <td>21</td>\n",
       "    </tr>\n",
       "    <tr>\n",
       "      <th>49668</th>\n",
       "      <td>49669</td>\n",
       "      <td>NaN</td>\n",
       "      <td>100</td>\n",
       "      <td>21</td>\n",
       "    </tr>\n",
       "  </tbody>\n",
       "</table>\n",
       "<p>1258 rows × 4 columns</p>\n",
       "</div>"
      ],
      "text/plain": [
       "       product_id product_name  aisle_id  department_id\n",
       "37             38          NaN       100             21\n",
       "71             72          NaN       100             21\n",
       "109           110          NaN       100             21\n",
       "296           297          NaN       100             21\n",
       "416           417          NaN       100             21\n",
       "...           ...          ...       ...            ...\n",
       "49552       49553          NaN       100             21\n",
       "49574       49575          NaN       100             21\n",
       "49640       49641          NaN       100             21\n",
       "49663       49664          NaN       100             21\n",
       "49668       49669          NaN       100             21\n",
       "\n",
       "[1258 rows x 4 columns]"
      ]
     },
     "metadata": {},
     "output_type": "display_data"
    }
   ],
   "source": [
    "#create a data frame that contains all the rows with missing values\n",
    "products_missing = products[(products['product_name'].isna())]\n",
    "display(products_missing)"
   ]
  },
  {
   "cell_type": "code",
   "execution_count": 29,
   "id": "e96167bc",
   "metadata": {
    "trusted": false
   },
   "outputs": [
    {
     "name": "stdout",
     "output_type": "stream",
     "text": [
      "100    1258\n",
      "Name: aisle_id, dtype: int64\n",
      "As shown here, all of the rows with missing values are associated with aisle_id 100\n"
     ]
    }
   ],
   "source": [
    "# Are all of the missing product names associated with aisle ID 100?\n",
    "#use the value counts function on the aisle ID to see if all the rows in the missing products data frame contain the same aisle ID\n",
    "print(products_missing['aisle_id'].value_counts())\n",
    "print('As shown here, all of the rows with missing values are associated with aisle_id 100')"
   ]
  },
  {
   "cell_type": "code",
   "execution_count": 30,
   "id": "8fd0a541",
   "metadata": {
    "trusted": false
   },
   "outputs": [
    {
     "name": "stdout",
     "output_type": "stream",
     "text": [
      "21    1258\n",
      "Name: department_id, dtype: int64\n",
      "As shown here, all of the rows with missing values are associated with department_id 21\n"
     ]
    }
   ],
   "source": [
    "# Are all of the missing product names associated with department ID 21?\n",
    "#use the value counts function on the department ID to see if all the rows in the missing products data frame contain the same department ID\n",
    "print(products_missing['department_id'].value_counts())\n",
    "print('As shown here, all of the rows with missing values are associated with department_id 21')"
   ]
  },
  {
   "cell_type": "code",
   "execution_count": 31,
   "id": "325c3464",
   "metadata": {
    "trusted": false
   },
   "outputs": [
    {
     "data": {
      "text/html": [
       "<div>\n",
       "<style scoped>\n",
       "    .dataframe tbody tr th:only-of-type {\n",
       "        vertical-align: middle;\n",
       "    }\n",
       "\n",
       "    .dataframe tbody tr th {\n",
       "        vertical-align: top;\n",
       "    }\n",
       "\n",
       "    .dataframe thead th {\n",
       "        text-align: right;\n",
       "    }\n",
       "</style>\n",
       "<table border=\"1\" class=\"dataframe\">\n",
       "  <thead>\n",
       "    <tr style=\"text-align: right;\">\n",
       "      <th></th>\n",
       "      <th>aisle_id</th>\n",
       "      <th>aisle</th>\n",
       "    </tr>\n",
       "  </thead>\n",
       "  <tbody>\n",
       "    <tr>\n",
       "      <th>0</th>\n",
       "      <td>1</td>\n",
       "      <td>prepared soups salads</td>\n",
       "    </tr>\n",
       "    <tr>\n",
       "      <th>1</th>\n",
       "      <td>2</td>\n",
       "      <td>specialty cheeses</td>\n",
       "    </tr>\n",
       "    <tr>\n",
       "      <th>2</th>\n",
       "      <td>3</td>\n",
       "      <td>energy granola bars</td>\n",
       "    </tr>\n",
       "    <tr>\n",
       "      <th>3</th>\n",
       "      <td>4</td>\n",
       "      <td>instant foods</td>\n",
       "    </tr>\n",
       "    <tr>\n",
       "      <th>4</th>\n",
       "      <td>5</td>\n",
       "      <td>marinades meat preparation</td>\n",
       "    </tr>\n",
       "    <tr>\n",
       "      <th>...</th>\n",
       "      <td>...</td>\n",
       "      <td>...</td>\n",
       "    </tr>\n",
       "    <tr>\n",
       "      <th>129</th>\n",
       "      <td>130</td>\n",
       "      <td>hot cereal pancake mixes</td>\n",
       "    </tr>\n",
       "    <tr>\n",
       "      <th>130</th>\n",
       "      <td>131</td>\n",
       "      <td>dry pasta</td>\n",
       "    </tr>\n",
       "    <tr>\n",
       "      <th>131</th>\n",
       "      <td>132</td>\n",
       "      <td>beauty</td>\n",
       "    </tr>\n",
       "    <tr>\n",
       "      <th>132</th>\n",
       "      <td>133</td>\n",
       "      <td>muscles joints pain relief</td>\n",
       "    </tr>\n",
       "    <tr>\n",
       "      <th>133</th>\n",
       "      <td>134</td>\n",
       "      <td>specialty wines champagnes</td>\n",
       "    </tr>\n",
       "  </tbody>\n",
       "</table>\n",
       "<p>134 rows × 2 columns</p>\n",
       "</div>"
      ],
      "text/plain": [
       "     aisle_id                       aisle\n",
       "0           1       prepared soups salads\n",
       "1           2           specialty cheeses\n",
       "2           3         energy granola bars\n",
       "3           4               instant foods\n",
       "4           5  marinades meat preparation\n",
       "..        ...                         ...\n",
       "129       130    hot cereal pancake mixes\n",
       "130       131                   dry pasta\n",
       "131       132                      beauty\n",
       "132       133  muscles joints pain relief\n",
       "133       134  specialty wines champagnes\n",
       "\n",
       "[134 rows x 2 columns]"
      ]
     },
     "metadata": {},
     "output_type": "display_data"
    },
    {
     "name": "stdout",
     "output_type": "stream",
     "text": [
      "The aisle is catergorized as missing.\n"
     ]
    }
   ],
   "source": [
    "# What is this ailse and department?\n",
    "#find the aisle\n",
    "display(aisles)\n",
    "aisles.loc[99]\n",
    "print('The aisle is catergorized as missing.')"
   ]
  },
  {
   "cell_type": "code",
   "execution_count": 32,
   "id": "3ca453ec",
   "metadata": {
    "trusted": false
   },
   "outputs": [
    {
     "data": {
      "text/html": [
       "<div>\n",
       "<style scoped>\n",
       "    .dataframe tbody tr th:only-of-type {\n",
       "        vertical-align: middle;\n",
       "    }\n",
       "\n",
       "    .dataframe tbody tr th {\n",
       "        vertical-align: top;\n",
       "    }\n",
       "\n",
       "    .dataframe thead th {\n",
       "        text-align: right;\n",
       "    }\n",
       "</style>\n",
       "<table border=\"1\" class=\"dataframe\">\n",
       "  <thead>\n",
       "    <tr style=\"text-align: right;\">\n",
       "      <th></th>\n",
       "      <th>department_id</th>\n",
       "      <th>department</th>\n",
       "    </tr>\n",
       "  </thead>\n",
       "  <tbody>\n",
       "    <tr>\n",
       "      <th>0</th>\n",
       "      <td>1</td>\n",
       "      <td>frozen</td>\n",
       "    </tr>\n",
       "    <tr>\n",
       "      <th>1</th>\n",
       "      <td>2</td>\n",
       "      <td>other</td>\n",
       "    </tr>\n",
       "    <tr>\n",
       "      <th>2</th>\n",
       "      <td>3</td>\n",
       "      <td>bakery</td>\n",
       "    </tr>\n",
       "    <tr>\n",
       "      <th>3</th>\n",
       "      <td>4</td>\n",
       "      <td>produce</td>\n",
       "    </tr>\n",
       "    <tr>\n",
       "      <th>4</th>\n",
       "      <td>5</td>\n",
       "      <td>alcohol</td>\n",
       "    </tr>\n",
       "    <tr>\n",
       "      <th>5</th>\n",
       "      <td>6</td>\n",
       "      <td>international</td>\n",
       "    </tr>\n",
       "    <tr>\n",
       "      <th>6</th>\n",
       "      <td>7</td>\n",
       "      <td>beverages</td>\n",
       "    </tr>\n",
       "    <tr>\n",
       "      <th>7</th>\n",
       "      <td>8</td>\n",
       "      <td>pets</td>\n",
       "    </tr>\n",
       "    <tr>\n",
       "      <th>8</th>\n",
       "      <td>9</td>\n",
       "      <td>dry goods pasta</td>\n",
       "    </tr>\n",
       "    <tr>\n",
       "      <th>9</th>\n",
       "      <td>10</td>\n",
       "      <td>bulk</td>\n",
       "    </tr>\n",
       "    <tr>\n",
       "      <th>10</th>\n",
       "      <td>11</td>\n",
       "      <td>personal care</td>\n",
       "    </tr>\n",
       "    <tr>\n",
       "      <th>11</th>\n",
       "      <td>12</td>\n",
       "      <td>meat seafood</td>\n",
       "    </tr>\n",
       "    <tr>\n",
       "      <th>12</th>\n",
       "      <td>13</td>\n",
       "      <td>pantry</td>\n",
       "    </tr>\n",
       "    <tr>\n",
       "      <th>13</th>\n",
       "      <td>14</td>\n",
       "      <td>breakfast</td>\n",
       "    </tr>\n",
       "    <tr>\n",
       "      <th>14</th>\n",
       "      <td>15</td>\n",
       "      <td>canned goods</td>\n",
       "    </tr>\n",
       "    <tr>\n",
       "      <th>15</th>\n",
       "      <td>16</td>\n",
       "      <td>dairy eggs</td>\n",
       "    </tr>\n",
       "    <tr>\n",
       "      <th>16</th>\n",
       "      <td>17</td>\n",
       "      <td>household</td>\n",
       "    </tr>\n",
       "    <tr>\n",
       "      <th>17</th>\n",
       "      <td>18</td>\n",
       "      <td>babies</td>\n",
       "    </tr>\n",
       "    <tr>\n",
       "      <th>18</th>\n",
       "      <td>19</td>\n",
       "      <td>snacks</td>\n",
       "    </tr>\n",
       "    <tr>\n",
       "      <th>19</th>\n",
       "      <td>20</td>\n",
       "      <td>deli</td>\n",
       "    </tr>\n",
       "    <tr>\n",
       "      <th>20</th>\n",
       "      <td>21</td>\n",
       "      <td>missing</td>\n",
       "    </tr>\n",
       "  </tbody>\n",
       "</table>\n",
       "</div>"
      ],
      "text/plain": [
       "    department_id       department\n",
       "0               1           frozen\n",
       "1               2            other\n",
       "2               3           bakery\n",
       "3               4          produce\n",
       "4               5          alcohol\n",
       "5               6    international\n",
       "6               7        beverages\n",
       "7               8             pets\n",
       "8               9  dry goods pasta\n",
       "9              10             bulk\n",
       "10             11    personal care\n",
       "11             12     meat seafood\n",
       "12             13           pantry\n",
       "13             14        breakfast\n",
       "14             15     canned goods\n",
       "15             16       dairy eggs\n",
       "16             17        household\n",
       "17             18           babies\n",
       "18             19           snacks\n",
       "19             20             deli\n",
       "20             21          missing"
      ]
     },
     "metadata": {},
     "output_type": "display_data"
    },
    {
     "name": "stdout",
     "output_type": "stream",
     "text": [
      "The department is categorized as missing.\n"
     ]
    }
   ],
   "source": [
    "#find the department\n",
    "display(departments)\n",
    "departments.loc[20]\n",
    "print('The department is categorized as missing.')"
   ]
  },
  {
   "cell_type": "code",
   "execution_count": 33,
   "id": "6b295120",
   "metadata": {
    "trusted": false
   },
   "outputs": [
    {
     "name": "stdout",
     "output_type": "stream",
     "text": [
      "<class 'pandas.core.frame.DataFrame'>\n",
      "RangeIndex: 49694 entries, 0 to 49693\n",
      "Data columns (total 4 columns):\n",
      " #   Column         Non-Null Count  Dtype \n",
      "---  ------         --------------  ----- \n",
      " 0   product_id     49694 non-null  int64 \n",
      " 1   product_name   49694 non-null  object\n",
      " 2   aisle_id       49694 non-null  int64 \n",
      " 3   department_id  49694 non-null  int64 \n",
      "dtypes: int64(3), object(1)\n",
      "memory usage: 1.5+ MB\n",
      "None\n",
      "There are no found null values.\n"
     ]
    }
   ],
   "source": [
    "# Fill missing product names with 'Unknown'\n",
    "products['product_name'].fillna('Unknown', inplace=True)\n",
    "#double check the number of non null values\n",
    "print(products.info())\n",
    "print('There are no found null values.')"
   ]
  },
  {
   "cell_type": "markdown",
   "id": "7eb45c86",
   "metadata": {},
   "source": [
    "### `orders` data frame"
   ]
  },
  {
   "cell_type": "code",
   "execution_count": 34,
   "id": "93e41d96",
   "metadata": {
    "trusted": false
   },
   "outputs": [
    {
     "name": "stdout",
     "output_type": "stream",
     "text": [
      "<class 'pandas.core.frame.DataFrame'>\n",
      "RangeIndex: 478952 entries, 0 to 478951\n",
      "Data columns (total 7 columns):\n",
      " #   Column                  Non-Null Count   Dtype  \n",
      "---  ------                  --------------   -----  \n",
      " 0   index                   478952 non-null  int64  \n",
      " 1   order_id                478952 non-null  int64  \n",
      " 2   user_id                 478952 non-null  int64  \n",
      " 3   order_number            478952 non-null  int64  \n",
      " 4   order_dow               478952 non-null  int64  \n",
      " 5   order_hour_of_day       478952 non-null  int64  \n",
      " 6   days_since_prior_order  450135 non-null  float64\n",
      "dtypes: float64(1), int64(6)\n",
      "memory usage: 25.6 MB\n",
      "None\n"
     ]
    }
   ],
   "source": [
    "#call info to look at which columns (if any) contain missing data points\n",
    "print(orders.info())\n",
    "#days_since_last_prior order is a float type column that is missing values"
   ]
  },
  {
   "cell_type": "code",
   "execution_count": 35,
   "id": "8b725186",
   "metadata": {
    "trusted": false
   },
   "outputs": [
    {
     "data": {
      "text/html": [
       "<div>\n",
       "<style scoped>\n",
       "    .dataframe tbody tr th:only-of-type {\n",
       "        vertical-align: middle;\n",
       "    }\n",
       "\n",
       "    .dataframe tbody tr th {\n",
       "        vertical-align: top;\n",
       "    }\n",
       "\n",
       "    .dataframe thead th {\n",
       "        text-align: right;\n",
       "    }\n",
       "</style>\n",
       "<table border=\"1\" class=\"dataframe\">\n",
       "  <thead>\n",
       "    <tr style=\"text-align: right;\">\n",
       "      <th></th>\n",
       "      <th>index</th>\n",
       "      <th>order_id</th>\n",
       "      <th>user_id</th>\n",
       "      <th>order_number</th>\n",
       "      <th>order_dow</th>\n",
       "      <th>order_hour_of_day</th>\n",
       "      <th>days_since_prior_order</th>\n",
       "    </tr>\n",
       "  </thead>\n",
       "  <tbody>\n",
       "    <tr>\n",
       "      <th>28</th>\n",
       "      <td>28</td>\n",
       "      <td>133707</td>\n",
       "      <td>182261</td>\n",
       "      <td>1</td>\n",
       "      <td>3</td>\n",
       "      <td>10</td>\n",
       "      <td>NaN</td>\n",
       "    </tr>\n",
       "    <tr>\n",
       "      <th>96</th>\n",
       "      <td>96</td>\n",
       "      <td>787445</td>\n",
       "      <td>25685</td>\n",
       "      <td>1</td>\n",
       "      <td>6</td>\n",
       "      <td>18</td>\n",
       "      <td>NaN</td>\n",
       "    </tr>\n",
       "    <tr>\n",
       "      <th>100</th>\n",
       "      <td>100</td>\n",
       "      <td>294410</td>\n",
       "      <td>111449</td>\n",
       "      <td>1</td>\n",
       "      <td>0</td>\n",
       "      <td>19</td>\n",
       "      <td>NaN</td>\n",
       "    </tr>\n",
       "    <tr>\n",
       "      <th>103</th>\n",
       "      <td>103</td>\n",
       "      <td>2869915</td>\n",
       "      <td>123958</td>\n",
       "      <td>1</td>\n",
       "      <td>4</td>\n",
       "      <td>16</td>\n",
       "      <td>NaN</td>\n",
       "    </tr>\n",
       "    <tr>\n",
       "      <th>104</th>\n",
       "      <td>104</td>\n",
       "      <td>2521921</td>\n",
       "      <td>42286</td>\n",
       "      <td>1</td>\n",
       "      <td>3</td>\n",
       "      <td>18</td>\n",
       "      <td>NaN</td>\n",
       "    </tr>\n",
       "    <tr>\n",
       "      <th>...</th>\n",
       "      <td>...</td>\n",
       "      <td>...</td>\n",
       "      <td>...</td>\n",
       "      <td>...</td>\n",
       "      <td>...</td>\n",
       "      <td>...</td>\n",
       "      <td>...</td>\n",
       "    </tr>\n",
       "    <tr>\n",
       "      <th>478880</th>\n",
       "      <td>478895</td>\n",
       "      <td>2589657</td>\n",
       "      <td>205028</td>\n",
       "      <td>1</td>\n",
       "      <td>0</td>\n",
       "      <td>16</td>\n",
       "      <td>NaN</td>\n",
       "    </tr>\n",
       "    <tr>\n",
       "      <th>478881</th>\n",
       "      <td>478896</td>\n",
       "      <td>2222353</td>\n",
       "      <td>141211</td>\n",
       "      <td>1</td>\n",
       "      <td>2</td>\n",
       "      <td>13</td>\n",
       "      <td>NaN</td>\n",
       "    </tr>\n",
       "    <tr>\n",
       "      <th>478907</th>\n",
       "      <td>478922</td>\n",
       "      <td>2272807</td>\n",
       "      <td>204154</td>\n",
       "      <td>1</td>\n",
       "      <td>1</td>\n",
       "      <td>15</td>\n",
       "      <td>NaN</td>\n",
       "    </tr>\n",
       "    <tr>\n",
       "      <th>478911</th>\n",
       "      <td>478926</td>\n",
       "      <td>2499542</td>\n",
       "      <td>68810</td>\n",
       "      <td>1</td>\n",
       "      <td>4</td>\n",
       "      <td>19</td>\n",
       "      <td>NaN</td>\n",
       "    </tr>\n",
       "    <tr>\n",
       "      <th>478930</th>\n",
       "      <td>478945</td>\n",
       "      <td>1387033</td>\n",
       "      <td>22496</td>\n",
       "      <td>1</td>\n",
       "      <td>5</td>\n",
       "      <td>14</td>\n",
       "      <td>NaN</td>\n",
       "    </tr>\n",
       "  </tbody>\n",
       "</table>\n",
       "<p>28817 rows × 7 columns</p>\n",
       "</div>"
      ],
      "text/plain": [
       "         index  order_id  user_id  order_number  order_dow  order_hour_of_day  \\\n",
       "28          28    133707   182261             1          3                 10   \n",
       "96          96    787445    25685             1          6                 18   \n",
       "100        100    294410   111449             1          0                 19   \n",
       "103        103   2869915   123958             1          4                 16   \n",
       "104        104   2521921    42286             1          3                 18   \n",
       "...        ...       ...      ...           ...        ...                ...   \n",
       "478880  478895   2589657   205028             1          0                 16   \n",
       "478881  478896   2222353   141211             1          2                 13   \n",
       "478907  478922   2272807   204154             1          1                 15   \n",
       "478911  478926   2499542    68810             1          4                 19   \n",
       "478930  478945   1387033    22496             1          5                 14   \n",
       "\n",
       "        days_since_prior_order  \n",
       "28                         NaN  \n",
       "96                         NaN  \n",
       "100                        NaN  \n",
       "103                        NaN  \n",
       "104                        NaN  \n",
       "...                        ...  \n",
       "478880                     NaN  \n",
       "478881                     NaN  \n",
       "478907                     NaN  \n",
       "478911                     NaN  \n",
       "478930                     NaN  \n",
       "\n",
       "[28817 rows x 7 columns]"
      ]
     },
     "metadata": {},
     "output_type": "display_data"
    }
   ],
   "source": [
    "#create a data frame that contains all the rows with missing values\n",
    "orders_missing = orders[(orders['days_since_prior_order'].isna())]\n",
    "display(orders_missing)"
   ]
  },
  {
   "cell_type": "code",
   "execution_count": 54,
   "id": "166e5a86",
   "metadata": {
    "trusted": false
   },
   "outputs": [
    {
     "name": "stdout",
     "output_type": "stream",
     "text": [
      "1    28817\n",
      "Name: order_number, dtype: int64\n"
     ]
    }
   ],
   "source": [
    "# Are there any missing values where it's not a customer's first order?\n",
    "print(orders_missing['order_number'].value_counts())"
   ]
  },
  {
   "cell_type": "markdown",
   "id": "0a0d862c",
   "metadata": {},
   "source": [
    "No, there are no rows with missing values that are not a customers first order. Therefore it stand to reason that the missing days since prior orders values should be represented by zeros instead."
   ]
  },
  {
   "cell_type": "code",
   "execution_count": 37,
   "id": "45972f06",
   "metadata": {
    "trusted": false
   },
   "outputs": [
    {
     "name": "stdout",
     "output_type": "stream",
     "text": [
      "<class 'pandas.core.frame.DataFrame'>\n",
      "RangeIndex: 478952 entries, 0 to 478951\n",
      "Data columns (total 7 columns):\n",
      " #   Column                  Non-Null Count   Dtype \n",
      "---  ------                  --------------   ----- \n",
      " 0   index                   478952 non-null  int64 \n",
      " 1   order_id                478952 non-null  int64 \n",
      " 2   user_id                 478952 non-null  int64 \n",
      " 3   order_number            478952 non-null  int64 \n",
      " 4   order_dow               478952 non-null  int64 \n",
      " 5   order_hour_of_day       478952 non-null  int64 \n",
      " 6   days_since_prior_order  478952 non-null  object\n",
      "dtypes: int64(6), object(1)\n",
      "memory usage: 25.6+ MB\n",
      "None\n"
     ]
    }
   ],
   "source": [
    "#replace missing values with zero\n",
    "orders['days_since_prior_order'].fillna('0', inplace=True)\n",
    "#double check the number of non null values\n",
    "print(orders.info())"
   ]
  },
  {
   "cell_type": "markdown",
   "id": "69dc9ca4",
   "metadata": {},
   "source": [
    "### `order_products` data frame"
   ]
  },
  {
   "cell_type": "code",
   "execution_count": 38,
   "id": "b8240253",
   "metadata": {
    "trusted": false
   },
   "outputs": [
    {
     "name": "stdout",
     "output_type": "stream",
     "text": [
      "<class 'pandas.core.frame.DataFrame'>\n",
      "RangeIndex: 4545007 entries, 0 to 4545006\n",
      "Data columns (total 4 columns):\n",
      " #   Column             Dtype  \n",
      "---  ------             -----  \n",
      " 0   order_id           int64  \n",
      " 1   product_id         int64  \n",
      " 2   add_to_cart_order  float64\n",
      " 3   reordered          int64  \n",
      "dtypes: float64(1), int64(3)\n",
      "memory usage: 138.7 MB\n",
      "None\n"
     ]
    }
   ],
   "source": [
    "#call info to look at which columns (if any) contain missing data points\n",
    "print(order_products.info())\n",
    "#the float column 'add_to_cart_order' is missing values"
   ]
  },
  {
   "cell_type": "code",
   "execution_count": 39,
   "id": "9a78e5ee",
   "metadata": {
    "trusted": false
   },
   "outputs": [
    {
     "name": "stdout",
     "output_type": "stream",
     "text": [
      "The minimum value for the add_to_cart_order is 1.0\n",
      "The maximum value for the add_to_cart_order is 64.0\n"
     ]
    }
   ],
   "source": [
    "# What are the min and max values in this column?\n",
    "#find minimum\n",
    "add_to_cart_min = order_products['add_to_cart_order'].min()\n",
    "print(f\"The minimum value for the add_to_cart_order is {add_to_cart_min}\")\n",
    "#find maximum\n",
    "add_to_cart_max = order_products['add_to_cart_order'].max()\n",
    "print(f\"The maximum value for the add_to_cart_order is {add_to_cart_max}\")"
   ]
  },
  {
   "cell_type": "code",
   "execution_count": 40,
   "id": "ab9d0c2b",
   "metadata": {
    "trusted": false
   },
   "outputs": [
    {
     "data": {
      "text/html": [
       "<div>\n",
       "<style scoped>\n",
       "    .dataframe tbody tr th:only-of-type {\n",
       "        vertical-align: middle;\n",
       "    }\n",
       "\n",
       "    .dataframe tbody tr th {\n",
       "        vertical-align: top;\n",
       "    }\n",
       "\n",
       "    .dataframe thead th {\n",
       "        text-align: right;\n",
       "    }\n",
       "</style>\n",
       "<table border=\"1\" class=\"dataframe\">\n",
       "  <thead>\n",
       "    <tr style=\"text-align: right;\">\n",
       "      <th></th>\n",
       "      <th>order_id</th>\n",
       "      <th>product_id</th>\n",
       "      <th>add_to_cart_order</th>\n",
       "      <th>reordered</th>\n",
       "    </tr>\n",
       "  </thead>\n",
       "  <tbody>\n",
       "    <tr>\n",
       "      <th>737</th>\n",
       "      <td>2449164</td>\n",
       "      <td>5068</td>\n",
       "      <td>NaN</td>\n",
       "      <td>0</td>\n",
       "    </tr>\n",
       "    <tr>\n",
       "      <th>9926</th>\n",
       "      <td>1968313</td>\n",
       "      <td>43867</td>\n",
       "      <td>NaN</td>\n",
       "      <td>0</td>\n",
       "    </tr>\n",
       "    <tr>\n",
       "      <th>14394</th>\n",
       "      <td>2926893</td>\n",
       "      <td>11688</td>\n",
       "      <td>NaN</td>\n",
       "      <td>0</td>\n",
       "    </tr>\n",
       "    <tr>\n",
       "      <th>16418</th>\n",
       "      <td>1717990</td>\n",
       "      <td>4142</td>\n",
       "      <td>NaN</td>\n",
       "      <td>0</td>\n",
       "    </tr>\n",
       "    <tr>\n",
       "      <th>30114</th>\n",
       "      <td>1959075</td>\n",
       "      <td>42828</td>\n",
       "      <td>NaN</td>\n",
       "      <td>1</td>\n",
       "    </tr>\n",
       "    <tr>\n",
       "      <th>...</th>\n",
       "      <td>...</td>\n",
       "      <td>...</td>\n",
       "      <td>...</td>\n",
       "      <td>...</td>\n",
       "    </tr>\n",
       "    <tr>\n",
       "      <th>4505662</th>\n",
       "      <td>1800005</td>\n",
       "      <td>7411</td>\n",
       "      <td>NaN</td>\n",
       "      <td>0</td>\n",
       "    </tr>\n",
       "    <tr>\n",
       "      <th>4511400</th>\n",
       "      <td>1633337</td>\n",
       "      <td>260</td>\n",
       "      <td>NaN</td>\n",
       "      <td>0</td>\n",
       "    </tr>\n",
       "    <tr>\n",
       "      <th>4517562</th>\n",
       "      <td>404157</td>\n",
       "      <td>9517</td>\n",
       "      <td>NaN</td>\n",
       "      <td>0</td>\n",
       "    </tr>\n",
       "    <tr>\n",
       "      <th>4534112</th>\n",
       "      <td>1673227</td>\n",
       "      <td>17835</td>\n",
       "      <td>NaN</td>\n",
       "      <td>0</td>\n",
       "    </tr>\n",
       "    <tr>\n",
       "      <th>4535739</th>\n",
       "      <td>1832957</td>\n",
       "      <td>17949</td>\n",
       "      <td>NaN</td>\n",
       "      <td>1</td>\n",
       "    </tr>\n",
       "  </tbody>\n",
       "</table>\n",
       "<p>836 rows × 4 columns</p>\n",
       "</div>"
      ],
      "text/plain": [
       "         order_id  product_id  add_to_cart_order  reordered\n",
       "737       2449164        5068                NaN          0\n",
       "9926      1968313       43867                NaN          0\n",
       "14394     2926893       11688                NaN          0\n",
       "16418     1717990        4142                NaN          0\n",
       "30114     1959075       42828                NaN          1\n",
       "...           ...         ...                ...        ...\n",
       "4505662   1800005        7411                NaN          0\n",
       "4511400   1633337         260                NaN          0\n",
       "4517562    404157        9517                NaN          0\n",
       "4534112   1673227       17835                NaN          0\n",
       "4535739   1832957       17949                NaN          1\n",
       "\n",
       "[836 rows x 4 columns]"
      ]
     },
     "metadata": {},
     "output_type": "display_data"
    },
    {
     "name": "stdout",
     "output_type": "stream",
     "text": [
      "<class 'pandas.core.frame.DataFrame'>\n",
      "Int64Index: 836 entries, 737 to 4535739\n",
      "Data columns (total 4 columns):\n",
      " #   Column             Non-Null Count  Dtype  \n",
      "---  ------             --------------  -----  \n",
      " 0   order_id           836 non-null    int64  \n",
      " 1   product_id         836 non-null    int64  \n",
      " 2   add_to_cart_order  0 non-null      float64\n",
      " 3   reordered          836 non-null    int64  \n",
      "dtypes: float64(1), int64(3)\n",
      "memory usage: 32.7 KB\n",
      "None\n"
     ]
    }
   ],
   "source": [
    "# Save all order IDs with at least one missing value in 'add_to_cart_order'\n",
    "orders_products_missing = order_products[(order_products['add_to_cart_order'].isna())]\n",
    "display(orders_products_missing)\n",
    "print(orders_products_missing.info())"
   ]
  },
  {
   "cell_type": "code",
   "execution_count": 41,
   "id": "54c31695",
   "metadata": {
    "trusted": false
   },
   "outputs": [
    {
     "name": "stdout",
     "output_type": "stream",
     "text": [
      "61355      63\n",
      "3308010    51\n",
      "2136777    44\n",
      "171934     40\n",
      "1959075    34\n",
      "           ..\n",
      "2652650     1\n",
      "2729254     1\n",
      "2621907     1\n",
      "888470      1\n",
      "1677118     1\n",
      "Name: order_id, Length: 70, dtype: int64\n"
     ]
    }
   ],
   "source": [
    "# Do all orders with missing values have more than 64 products?\n",
    "print(orders_products_missing['order_id'].value_counts())"
   ]
  },
  {
   "cell_type": "markdown",
   "id": "10ecf223",
   "metadata": {},
   "source": [
    "No since each order ID does not repeat and does not contain more than one corresponding product_id."
   ]
  },
  {
   "cell_type": "code",
   "execution_count": 42,
   "id": "7a987d08",
   "metadata": {
    "trusted": false
   },
   "outputs": [
    {
     "name": "stdout",
     "output_type": "stream",
     "text": [
      "<class 'pandas.core.frame.DataFrame'>\n",
      "RangeIndex: 4545007 entries, 0 to 4545006\n",
      "Data columns (total 4 columns):\n",
      " #   Column             Dtype\n",
      "---  ------             -----\n",
      " 0   order_id           int64\n",
      " 1   product_id         int64\n",
      " 2   add_to_cart_order  int64\n",
      " 3   reordered          int64\n",
      "dtypes: int64(4)\n",
      "memory usage: 138.7 MB\n",
      "None\n"
     ]
    }
   ],
   "source": [
    "# Replace missing values with 999 and convert column to integer type\n",
    "order_products['add_to_cart_order'].fillna('999', inplace=True)\n",
    "order_products['add_to_cart_order'] = order_products['add_to_cart_order'].astype(int)\n",
    "#double check that missing values are filled in and that the 'add_to_cart_order' column is an integer type\n",
    "print(order_products.info())"
   ]
  },
  {
   "cell_type": "markdown",
   "id": "turkish-kidney",
   "metadata": {},
   "source": [
    "# [A] Easy (must complete all to pass)"
   ]
  },
  {
   "cell_type": "markdown",
   "id": "short-capability",
   "metadata": {},
   "source": [
    "### [A1] Verify that the `'order_hour_of_day'` and `'order_dow'` values in the `orders` tables are sensible (i.e. `'order_hour_of_day'` ranges from 0 to 23 and `'order_dow'` ranges from 0 to 6)"
   ]
  },
  {
   "cell_type": "code",
   "execution_count": 43,
   "id": "growing-fruit",
   "metadata": {
    "trusted": false
   },
   "outputs": [
    {
     "name": "stdout",
     "output_type": "stream",
     "text": [
      "The minimum value for the order_hour_of_day is 0\n",
      "The maximum value for the order_hour_of_day is 23\n"
     ]
    }
   ],
   "source": [
    "#find min and max for 'order_hour_of_day'\n",
    "#find minimum\n",
    "order_hour_of_day_min = orders['order_hour_of_day'].min()\n",
    "print(f\"The minimum value for the order_hour_of_day is {order_hour_of_day_min}\")\n",
    "#find maximum\n",
    "order_hour_of_day_max = orders['order_hour_of_day'].max()\n",
    "print(f\"The maximum value for the order_hour_of_day is {order_hour_of_day_max}\")"
   ]
  },
  {
   "cell_type": "code",
   "execution_count": 44,
   "id": "accessory-malaysia",
   "metadata": {
    "trusted": false
   },
   "outputs": [
    {
     "name": "stdout",
     "output_type": "stream",
     "text": [
      "The minimum value for the order_dow is 0\n",
      "The maximum value for the order_dow is 6\n"
     ]
    }
   ],
   "source": [
    "#find min and max for 'order_dow'#find minimum\n",
    "order_dow_min = orders['order_dow'].min()\n",
    "print(f\"The minimum value for the order_dow is {order_dow_min}\")\n",
    "#find maximum\n",
    "order_dow_max = orders['order_dow'].max()\n",
    "print(f\"The maximum value for the order_dow is {order_dow_max}\")"
   ]
  },
  {
   "cell_type": "markdown",
   "id": "a6743a70",
   "metadata": {},
   "source": [
    "### [A2] What time of day do people shop for groceries?"
   ]
  },
  {
   "cell_type": "code",
   "execution_count": 75,
   "id": "a36cca27",
   "metadata": {
    "scrolled": true,
    "trusted": false
   },
   "outputs": [
    {
     "data": {
      "image/png": "[encoded data removed]",
      "text/plain": [
       "<Figure size 640x480 with 1 Axes>"
      ]
     },
     "metadata": {},
     "output_type": "display_data"
    }
   ],
   "source": [
    "orders['order_hour_of_day'].plot(kind='hist',title = 'Time of Day People Shop for Groceries', color='lightpink', edgecolor='black', bins = 24)\n",
    "plt.ylabel('Frequency of orders')\n",
    "plt.xlabel('Hour of the Day (military time)')\n",
    "plt.show()"
   ]
  },
  {
   "cell_type": "markdown",
   "id": "5907b762",
   "metadata": {},
   "source": [
    "According to this graphic, people are most frequently shopping between 10 am and 4 pm, with the highest instances occuring between 10 and 11 am."
   ]
  },
  {
   "cell_type": "markdown",
   "id": "documented-command",
   "metadata": {},
   "source": [
    "### [A3] What day of the week do people shop for groceries?"
   ]
  },
  {
   "cell_type": "code",
   "execution_count": 56,
   "id": "chief-digit",
   "metadata": {
    "trusted": false
   },
   "outputs": [
    {
     "name": "stdout",
     "output_type": "stream",
     "text": [
      "count     478952\n",
      "unique         7\n",
      "top            0\n",
      "freq       84090\n",
      "Name: order_dow, dtype: int64\n"
     ]
    }
   ],
   "source": [
    "#since 0-6 represent categories not actual integers, the data type must be changed to object type to get data that makes more sense\n",
    "orders['order_dow'] = orders['order_dow'].astype('object')\n",
    "print(orders['order_dow'].describe())"
   ]
  },
  {
   "cell_type": "markdown",
   "id": "a876b453",
   "metadata": {},
   "source": [
    "Keeping in mind that the numbers for dow correspond with zero as sunday and thus proceeding to Saturday at 6, it appears that shoppers are ordering items most frequently on the 0 day in the list, or Sunday. Sunday occurs 84090 times, representing 17.55% of the total data set."
   ]
  },
  {
   "cell_type": "markdown",
   "id": "cutting-concert",
   "metadata": {},
   "source": [
    "### [A4] How long do people wait until placing another order?"
   ]
  },
  {
   "cell_type": "code",
   "execution_count": 57,
   "id": "c231f523",
   "metadata": {
    "trusted": false
   },
   "outputs": [
    {
     "name": "stdout",
     "output_type": "stream",
     "text": [
      "<class 'pandas.core.frame.DataFrame'>\n",
      "RangeIndex: 478952 entries, 0 to 478951\n",
      "Data columns (total 7 columns):\n",
      " #   Column                  Non-Null Count   Dtype \n",
      "---  ------                  --------------   ----- \n",
      " 0   index                   478952 non-null  int64 \n",
      " 1   order_id                478952 non-null  int64 \n",
      " 2   user_id                 478952 non-null  int64 \n",
      " 3   order_number            478952 non-null  int64 \n",
      " 4   order_dow               478952 non-null  object\n",
      " 5   order_hour_of_day       478952 non-null  int64 \n",
      " 6   days_since_prior_order  478952 non-null  int64 \n",
      "dtypes: int64(6), object(1)\n",
      "memory usage: 25.6+ MB\n",
      "None\n",
      "\n",
      "Description of days_since_prior_order column:\n",
      "count    478952.000000\n",
      "mean         10.433853\n",
      "std           9.292153\n",
      "min           0.000000\n",
      "25%           4.000000\n",
      "50%           7.000000\n",
      "75%          15.000000\n",
      "max          30.000000\n",
      "Name: days_since_prior_order, dtype: float64\n"
     ]
    }
   ],
   "source": [
    "#since the days_since_prior_order is an object type, it should be converted to an integer to get more descriptive data \n",
    "orders['days_since_prior_order'] = orders['days_since_prior_order'].astype(int)\n",
    "#confirm that the data type has been changed to an integer\n",
    "print(orders.info())\n",
    "print()\n",
    "print('Description of days_since_prior_order column:')\n",
    "print(orders['days_since_prior_order'].describe())"
   ]
  },
  {
   "cell_type": "markdown",
   "id": "d998da39",
   "metadata": {},
   "source": [
    "On average, people are waiting ten days before placing their next order. While some are waiting zero days and others are waiting as long as thirty, 75% of people are reordering within 15 days of their previous purchase."
   ]
  },
  {
   "cell_type": "markdown",
   "id": "tight-staff",
   "metadata": {},
   "source": [
    "# [B] Medium "
   ]
  },
  {
   "cell_type": "markdown",
   "id": "packed-classic",
   "metadata": {},
   "source": [
    "### [B1] Is there a difference in `'order_hour_of_day'` distributions on Wednesdays and Saturdays? Plot the histograms for both days and describe the differences that you see."
   ]
  },
  {
   "cell_type": "code",
   "execution_count": 58,
   "id": "797c90a8",
   "metadata": {
    "scrolled": true,
    "trusted": false
   },
   "outputs": [
    {
     "data": {
      "image/png": "[encoded data removed]",
      "text/plain": [
       "<Figure size 640x480 with 1 Axes>"
      ]
     },
     "metadata": {},
     "output_type": "display_data"
    },
    {
     "name": "stdout",
     "output_type": "stream",
     "text": [
      "\n"
     ]
    },
    {
     "data": {
      "image/png": "[encoded data removed]",
      "text/plain": [
       "<Figure size 640x480 with 1 Axes>"
      ]
     },
     "metadata": {},
     "output_type": "display_data"
    }
   ],
   "source": [
    "#plot the histogram for wednesday\n",
    "orders[orders['order_dow']==3]['order_hour_of_day'].plot(kind='hist',xlim=(0,24), title='Distribution of Wednesday Orders Throughout the Day', bins=24, edgecolor='black', color = 'orange', alpha = 0.75)\n",
    "plt.xticks([0,2,4,6,8,10,12,14,16,18,20,22,24])\n",
    "plt.xlabel('Hour of the Day (Military Time)')\n",
    "plt.ylabel('Frequency of Orders')\n",
    "plt.show()\n",
    "print()\n",
    "#plot the histogram for saturday\n",
    "orders[orders['order_dow']==6]['order_hour_of_day'].plot(kind='hist',xlim=(0,24), title='Distribution of Saturday Orders Throughout the Day', bins=24, edgecolor='black', color = 'purple', alpha = 0.5)\n",
    "plt.xticks([0,2,4,6,8,10,12,14,16,18,20,22,24])\n",
    "plt.xlabel('Hour of the Day (Military Time)')\n",
    "plt.ylabel('Frequency of Orders')\n",
    "plt.show()"
   ]
  },
  {
   "cell_type": "markdown",
   "id": "c8bc6a98",
   "metadata": {},
   "source": [
    "While both graphs show similar distributions in that more purchases are common in the middle of the day, the peak hours of purchases on Wednesdays are between 10-11 am (10 and 11 hours) and 3-4 pm (15 and 16 hours) with a decrease in purchasing between then. On Saturdays however, purchasing tends to rise in frequency and peak a1 1-2 pm (13 and 14 hours) with a decreasing in purchases as the day goes on.\n"
   ]
  },
  {
   "cell_type": "markdown",
   "id": "e3891143",
   "metadata": {},
   "source": [
    "### [B2] What's the distribution for the number of orders per customer?"
   ]
  },
  {
   "cell_type": "code",
   "execution_count": 59,
   "id": "00e69a66",
   "metadata": {
    "trusted": false
   },
   "outputs": [
    {
     "data": {
      "text/html": [
       "<div>\n",
       "<style scoped>\n",
       "    .dataframe tbody tr th:only-of-type {\n",
       "        vertical-align: middle;\n",
       "    }\n",
       "\n",
       "    .dataframe tbody tr th {\n",
       "        vertical-align: top;\n",
       "    }\n",
       "\n",
       "    .dataframe thead th {\n",
       "        text-align: right;\n",
       "    }\n",
       "</style>\n",
       "<table border=\"1\" class=\"dataframe\">\n",
       "  <thead>\n",
       "    <tr style=\"text-align: right;\">\n",
       "      <th></th>\n",
       "      <th>order_number</th>\n",
       "      <th>unique_user_count</th>\n",
       "    </tr>\n",
       "  </thead>\n",
       "  <tbody>\n",
       "    <tr>\n",
       "      <th>0</th>\n",
       "      <td>1</td>\n",
       "      <td>28817</td>\n",
       "    </tr>\n",
       "    <tr>\n",
       "      <th>1</th>\n",
       "      <td>2</td>\n",
       "      <td>28633</td>\n",
       "    </tr>\n",
       "    <tr>\n",
       "      <th>2</th>\n",
       "      <td>3</td>\n",
       "      <td>28685</td>\n",
       "    </tr>\n",
       "    <tr>\n",
       "      <th>3</th>\n",
       "      <td>4</td>\n",
       "      <td>28703</td>\n",
       "    </tr>\n",
       "    <tr>\n",
       "      <th>4</th>\n",
       "      <td>5</td>\n",
       "      <td>25661</td>\n",
       "    </tr>\n",
       "    <tr>\n",
       "      <th>...</th>\n",
       "      <td>...</td>\n",
       "      <td>...</td>\n",
       "    </tr>\n",
       "    <tr>\n",
       "      <th>95</th>\n",
       "      <td>96</td>\n",
       "      <td>220</td>\n",
       "    </tr>\n",
       "    <tr>\n",
       "      <th>96</th>\n",
       "      <td>97</td>\n",
       "      <td>221</td>\n",
       "    </tr>\n",
       "    <tr>\n",
       "      <th>97</th>\n",
       "      <td>98</td>\n",
       "      <td>191</td>\n",
       "    </tr>\n",
       "    <tr>\n",
       "      <th>98</th>\n",
       "      <td>99</td>\n",
       "      <td>169</td>\n",
       "    </tr>\n",
       "    <tr>\n",
       "      <th>99</th>\n",
       "      <td>100</td>\n",
       "      <td>194</td>\n",
       "    </tr>\n",
       "  </tbody>\n",
       "</table>\n",
       "<p>100 rows × 2 columns</p>\n",
       "</div>"
      ],
      "text/plain": [
       "    order_number  unique_user_count\n",
       "0              1              28817\n",
       "1              2              28633\n",
       "2              3              28685\n",
       "3              4              28703\n",
       "4              5              25661\n",
       "..           ...                ...\n",
       "95            96                220\n",
       "96            97                221\n",
       "97            98                191\n",
       "98            99                169\n",
       "99           100                194\n",
       "\n",
       "[100 rows x 2 columns]"
      ]
     },
     "metadata": {},
     "output_type": "display_data"
    },
    {
     "data": {
      "image/png": "[encoded data removed]",
      "text/plain": [
       "<Figure size 1200x800 with 1 Axes>"
      ]
     },
     "metadata": {},
     "output_type": "display_data"
    }
   ],
   "source": [
    "user_count_per_order = orders.groupby('order_number')['user_id'].nunique().reset_index(name='unique_user_count')\n",
    "display(user_count_per_order)\n",
    "user_count_per_order.plot(kind = 'bar', legend=False, x = 'order_number', figsize = [12,8], title = 'Distribution of the Number of Orders Customers Place', xlabel = 'Number of Orders', ylabel='Number of Customers')\n",
    "plt.xticks(ticks=range(min(user_count_per_order['order_number']), max(user_count_per_order['order_number']), 2))\n",
    "plt.show()"
   ]
  },
  {
   "cell_type": "markdown",
   "id": "d87d0fa8",
   "metadata": {},
   "source": [
    "The bar graph shows the distribution of how many customers ordered how many orders. A majority of customers placed between 1-4 orders. As the number of orders increases, the number of customers placing that number of orders decreases."
   ]
  },
  {
   "cell_type": "markdown",
   "id": "54a0319c",
   "metadata": {},
   "source": [
    "### [B3] What are the top 20 popular products"
   ]
  },
  {
   "cell_type": "code",
   "execution_count": 60,
   "id": "exterior-arizona",
   "metadata": {
    "scrolled": true,
    "trusted": false
   },
   "outputs": [
    {
     "data": {
      "text/html": [
       "<div>\n",
       "<style scoped>\n",
       "    .dataframe tbody tr th:only-of-type {\n",
       "        vertical-align: middle;\n",
       "    }\n",
       "\n",
       "    .dataframe tbody tr th {\n",
       "        vertical-align: top;\n",
       "    }\n",
       "\n",
       "    .dataframe thead th {\n",
       "        text-align: right;\n",
       "    }\n",
       "</style>\n",
       "<table border=\"1\" class=\"dataframe\">\n",
       "  <thead>\n",
       "    <tr style=\"text-align: right;\">\n",
       "      <th></th>\n",
       "      <th>product_id</th>\n",
       "      <th>product_name</th>\n",
       "    </tr>\n",
       "  </thead>\n",
       "  <tbody>\n",
       "    <tr>\n",
       "      <th>0</th>\n",
       "      <td>24852</td>\n",
       "      <td>banana</td>\n",
       "    </tr>\n",
       "    <tr>\n",
       "      <th>1</th>\n",
       "      <td>13176</td>\n",
       "      <td>bag of organic bananas</td>\n",
       "    </tr>\n",
       "    <tr>\n",
       "      <th>2</th>\n",
       "      <td>21137</td>\n",
       "      <td>organic strawberries</td>\n",
       "    </tr>\n",
       "    <tr>\n",
       "      <th>3</th>\n",
       "      <td>21903</td>\n",
       "      <td>organic baby spinach</td>\n",
       "    </tr>\n",
       "    <tr>\n",
       "      <th>4</th>\n",
       "      <td>47209</td>\n",
       "      <td>organic hass avocado</td>\n",
       "    </tr>\n",
       "    <tr>\n",
       "      <th>5</th>\n",
       "      <td>47766</td>\n",
       "      <td>organic avocado</td>\n",
       "    </tr>\n",
       "    <tr>\n",
       "      <th>6</th>\n",
       "      <td>47626</td>\n",
       "      <td>large lemon</td>\n",
       "    </tr>\n",
       "    <tr>\n",
       "      <th>7</th>\n",
       "      <td>16797</td>\n",
       "      <td>strawberries</td>\n",
       "    </tr>\n",
       "    <tr>\n",
       "      <th>8</th>\n",
       "      <td>26209</td>\n",
       "      <td>limes</td>\n",
       "    </tr>\n",
       "    <tr>\n",
       "      <th>9</th>\n",
       "      <td>27845</td>\n",
       "      <td>organic whole milk</td>\n",
       "    </tr>\n",
       "    <tr>\n",
       "      <th>10</th>\n",
       "      <td>27966</td>\n",
       "      <td>organic raspberries</td>\n",
       "    </tr>\n",
       "    <tr>\n",
       "      <th>11</th>\n",
       "      <td>22935</td>\n",
       "      <td>organic yellow onion</td>\n",
       "    </tr>\n",
       "    <tr>\n",
       "      <th>12</th>\n",
       "      <td>24964</td>\n",
       "      <td>organic garlic</td>\n",
       "    </tr>\n",
       "    <tr>\n",
       "      <th>13</th>\n",
       "      <td>45007</td>\n",
       "      <td>organic zucchini</td>\n",
       "    </tr>\n",
       "    <tr>\n",
       "      <th>14</th>\n",
       "      <td>39275</td>\n",
       "      <td>organic blueberries</td>\n",
       "    </tr>\n",
       "    <tr>\n",
       "      <th>15</th>\n",
       "      <td>49683</td>\n",
       "      <td>cucumber kirby</td>\n",
       "    </tr>\n",
       "    <tr>\n",
       "      <th>16</th>\n",
       "      <td>28204</td>\n",
       "      <td>organic fuji apple</td>\n",
       "    </tr>\n",
       "    <tr>\n",
       "      <th>17</th>\n",
       "      <td>5876</td>\n",
       "      <td>organic lemon</td>\n",
       "    </tr>\n",
       "    <tr>\n",
       "      <th>18</th>\n",
       "      <td>8277</td>\n",
       "      <td>apple honeycrisp organic</td>\n",
       "    </tr>\n",
       "    <tr>\n",
       "      <th>19</th>\n",
       "      <td>40706</td>\n",
       "      <td>organic grape tomatoes</td>\n",
       "    </tr>\n",
       "  </tbody>\n",
       "</table>\n",
       "</div>"
      ],
      "text/plain": [
       "    product_id              product_name\n",
       "0        24852                    banana\n",
       "1        13176    bag of organic bananas\n",
       "2        21137      organic strawberries\n",
       "3        21903      organic baby spinach\n",
       "4        47209      organic hass avocado\n",
       "5        47766           organic avocado\n",
       "6        47626               large lemon\n",
       "7        16797              strawberries\n",
       "8        26209                     limes\n",
       "9        27845        organic whole milk\n",
       "10       27966       organic raspberries\n",
       "11       22935      organic yellow onion\n",
       "12       24964            organic garlic\n",
       "13       45007          organic zucchini\n",
       "14       39275       organic blueberries\n",
       "15       49683            cucumber kirby\n",
       "16       28204        organic fuji apple\n",
       "17        5876             organic lemon\n",
       "18        8277  apple honeycrisp organic\n",
       "19       40706    organic grape tomatoes"
      ]
     },
     "metadata": {},
     "output_type": "display_data"
    }
   ],
   "source": [
    "#group product ids by how many order ids included it\n",
    "popular_products = order_products.groupby('product_id')['order_id'].nunique().reset_index(name='unique_product_count')\n",
    "#sort the product ids by the ones with the highest order id count\n",
    "popular_products = popular_products.sort_values(by='unique_product_count', ascending=False).reset_index()\n",
    "# create a new data frame containing just the top 20 products\n",
    "popular_products = popular_products.head(20)\n",
    "#merge with products data frame so the product name is included\n",
    "popular_products_merged = popular_products.merge(products, on ='product_id')\n",
    "#display the product id and name only\n",
    "popular_products_final = popular_products_merged[['product_id', 'product_name']]\n",
    "display(popular_products_final)"
   ]
  },
  {
   "cell_type": "markdown",
   "id": "602d73d8",
   "metadata": {},
   "source": [
    "This data frame shows the twenty most popular products to be purchased in this given data set."
   ]
  },
  {
   "cell_type": "markdown",
   "id": "gross-theme",
   "metadata": {},
   "source": [
    "# [C] Hard"
   ]
  },
  {
   "cell_type": "markdown",
   "id": "romantic-deposit",
   "metadata": {},
   "source": [
    "### [C1] How many items do people typically buy in one order? What does the distribution look like?"
   ]
  },
  {
   "cell_type": "code",
   "execution_count": 61,
   "id": "7ae71e9d",
   "metadata": {
    "trusted": false
   },
   "outputs": [
    {
     "name": "stdout",
     "output_type": "stream",
     "text": [
      "Statistics describing the number of products in each order:\n"
     ]
    },
    {
     "data": {
      "text/plain": [
       "count    450046.000000\n",
       "mean         10.098983\n",
       "std           7.540206\n",
       "min           1.000000\n",
       "25%           5.000000\n",
       "50%           8.000000\n",
       "75%          14.000000\n",
       "max         127.000000\n",
       "dtype: float64"
      ]
     },
     "metadata": {},
     "output_type": "display_data"
    },
    {
     "name": "stdout",
     "output_type": "stream",
     "text": [
      "On average, customers buy 10 products per order.\n"
     ]
    },
    {
     "data": {
      "image/png": "[encoded data removed]",
      "text/plain": [
       "<Figure size 1200x800 with 1 Axes>"
      ]
     },
     "metadata": {},
     "output_type": "display_data"
    }
   ],
   "source": [
    "# group by 'order_id' and count the number of products in each order\n",
    "products_per_order = order_products.groupby('order_id').size()\n",
    "\n",
    "# Calculate the average number of products per order\n",
    "average_products_per_order = products_per_order.mean()\n",
    "\n",
    "# Display the result\n",
    "print('Statistics describing the number of products in each order:')\n",
    "display(products_per_order.describe())\n",
    "print(f\"On average, customers buy {average_products_per_order:.0f} products per order.\")\n",
    "\n",
    "# count how many order_ids have each product count\n",
    "order_count_by_product_count = products_per_order.value_counts().sort_index()\n",
    "\n",
    "# create the bar graph\n",
    "plt.figure(figsize=(12, 8))\n",
    "plt.bar(order_count_by_product_count.index, order_count_by_product_count.values, color='lightgreen')\n",
    "plt.title('Number of Products Typically Purchased in an Order')\n",
    "plt.xlabel('Number of Products in an Order')\n",
    "plt.ylabel('Number of Orders')\n",
    "plt.xlim(0,127)\n",
    "plt.show()"
   ]
  },
  {
   "cell_type": "markdown",
   "id": "f9fa0ee1",
   "metadata": {},
   "source": [
    "This graphic shows the distribution of the number of products typically contained in online orders. Orders most frequently contain 4-7 items."
   ]
  },
  {
   "cell_type": "markdown",
   "id": "92d35137",
   "metadata": {},
   "source": [
    "### [C5] What are the top 20 items that people put in their carts first? "
   ]
  },
  {
   "cell_type": "code",
   "execution_count": 52,
   "id": "0ae57274",
   "metadata": {
    "scrolled": true,
    "trusted": false
   },
   "outputs": [
    {
     "data": {
      "text/html": [
       "<div>\n",
       "<style scoped>\n",
       "    .dataframe tbody tr th:only-of-type {\n",
       "        vertical-align: middle;\n",
       "    }\n",
       "\n",
       "    .dataframe tbody tr th {\n",
       "        vertical-align: top;\n",
       "    }\n",
       "\n",
       "    .dataframe thead th {\n",
       "        text-align: right;\n",
       "    }\n",
       "</style>\n",
       "<table border=\"1\" class=\"dataframe\">\n",
       "  <thead>\n",
       "    <tr style=\"text-align: right;\">\n",
       "      <th></th>\n",
       "      <th>index</th>\n",
       "      <th>product_id</th>\n",
       "      <th>product_count</th>\n",
       "      <th>product_name</th>\n",
       "      <th>aisle_id</th>\n",
       "      <th>department_id</th>\n",
       "    </tr>\n",
       "  </thead>\n",
       "  <tbody>\n",
       "    <tr>\n",
       "      <th>0</th>\n",
       "      <td>13414</td>\n",
       "      <td>24852</td>\n",
       "      <td>15562</td>\n",
       "      <td>banana</td>\n",
       "      <td>24</td>\n",
       "      <td>4</td>\n",
       "    </tr>\n",
       "    <tr>\n",
       "      <th>1</th>\n",
       "      <td>7127</td>\n",
       "      <td>13176</td>\n",
       "      <td>11026</td>\n",
       "      <td>bag of organic bananas</td>\n",
       "      <td>24</td>\n",
       "      <td>4</td>\n",
       "    </tr>\n",
       "    <tr>\n",
       "      <th>2</th>\n",
       "      <td>15028</td>\n",
       "      <td>27845</td>\n",
       "      <td>4363</td>\n",
       "      <td>organic whole milk</td>\n",
       "      <td>84</td>\n",
       "      <td>16</td>\n",
       "    </tr>\n",
       "    <tr>\n",
       "      <th>3</th>\n",
       "      <td>11384</td>\n",
       "      <td>21137</td>\n",
       "      <td>3946</td>\n",
       "      <td>organic strawberries</td>\n",
       "      <td>24</td>\n",
       "      <td>4</td>\n",
       "    </tr>\n",
       "    <tr>\n",
       "      <th>4</th>\n",
       "      <td>25439</td>\n",
       "      <td>47209</td>\n",
       "      <td>3390</td>\n",
       "      <td>organic hass avocado</td>\n",
       "      <td>24</td>\n",
       "      <td>4</td>\n",
       "    </tr>\n",
       "    <tr>\n",
       "      <th>5</th>\n",
       "      <td>11786</td>\n",
       "      <td>21903</td>\n",
       "      <td>3336</td>\n",
       "      <td>organic baby spinach</td>\n",
       "      <td>123</td>\n",
       "      <td>4</td>\n",
       "    </tr>\n",
       "    <tr>\n",
       "      <th>6</th>\n",
       "      <td>25732</td>\n",
       "      <td>47766</td>\n",
       "      <td>3044</td>\n",
       "      <td>organic avocado</td>\n",
       "      <td>24</td>\n",
       "      <td>4</td>\n",
       "    </tr>\n",
       "    <tr>\n",
       "      <th>7</th>\n",
       "      <td>10622</td>\n",
       "      <td>19660</td>\n",
       "      <td>2336</td>\n",
       "      <td>spring water</td>\n",
       "      <td>115</td>\n",
       "      <td>7</td>\n",
       "    </tr>\n",
       "    <tr>\n",
       "      <th>8</th>\n",
       "      <td>9050</td>\n",
       "      <td>16797</td>\n",
       "      <td>2308</td>\n",
       "      <td>strawberries</td>\n",
       "      <td>24</td>\n",
       "      <td>4</td>\n",
       "    </tr>\n",
       "    <tr>\n",
       "      <th>9</th>\n",
       "      <td>15102</td>\n",
       "      <td>27966</td>\n",
       "      <td>2024</td>\n",
       "      <td>organic raspberries</td>\n",
       "      <td>123</td>\n",
       "      <td>4</td>\n",
       "    </tr>\n",
       "    <tr>\n",
       "      <th>10</th>\n",
       "      <td>24024</td>\n",
       "      <td>44632</td>\n",
       "      <td>1914</td>\n",
       "      <td>sparkling water grapefruit</td>\n",
       "      <td>115</td>\n",
       "      <td>7</td>\n",
       "    </tr>\n",
       "    <tr>\n",
       "      <th>11</th>\n",
       "      <td>26519</td>\n",
       "      <td>49235</td>\n",
       "      <td>1797</td>\n",
       "      <td>organic half &amp; half</td>\n",
       "      <td>53</td>\n",
       "      <td>16</td>\n",
       "    </tr>\n",
       "    <tr>\n",
       "      <th>12</th>\n",
       "      <td>25658</td>\n",
       "      <td>47626</td>\n",
       "      <td>1737</td>\n",
       "      <td>large lemon</td>\n",
       "      <td>24</td>\n",
       "      <td>4</td>\n",
       "    </tr>\n",
       "    <tr>\n",
       "      <th>13</th>\n",
       "      <td>115</td>\n",
       "      <td>196</td>\n",
       "      <td>1733</td>\n",
       "      <td>soda</td>\n",
       "      <td>77</td>\n",
       "      <td>7</td>\n",
       "    </tr>\n",
       "    <tr>\n",
       "      <th>14</th>\n",
       "      <td>20853</td>\n",
       "      <td>38689</td>\n",
       "      <td>1397</td>\n",
       "      <td>organic reduced fat milk</td>\n",
       "      <td>84</td>\n",
       "      <td>16</td>\n",
       "    </tr>\n",
       "    <tr>\n",
       "      <th>15</th>\n",
       "      <td>14158</td>\n",
       "      <td>26209</td>\n",
       "      <td>1370</td>\n",
       "      <td>limes</td>\n",
       "      <td>24</td>\n",
       "      <td>4</td>\n",
       "    </tr>\n",
       "    <tr>\n",
       "      <th>16</th>\n",
       "      <td>6660</td>\n",
       "      <td>12341</td>\n",
       "      <td>1340</td>\n",
       "      <td>hass avocados</td>\n",
       "      <td>32</td>\n",
       "      <td>4</td>\n",
       "    </tr>\n",
       "    <tr>\n",
       "      <th>17</th>\n",
       "      <td>3153</td>\n",
       "      <td>5785</td>\n",
       "      <td>1310</td>\n",
       "      <td>organic reduced fat 2% milk</td>\n",
       "      <td>84</td>\n",
       "      <td>16</td>\n",
       "    </tr>\n",
       "    <tr>\n",
       "      <th>18</th>\n",
       "      <td>14639</td>\n",
       "      <td>27086</td>\n",
       "      <td>1309</td>\n",
       "      <td>half &amp; half</td>\n",
       "      <td>53</td>\n",
       "      <td>16</td>\n",
       "    </tr>\n",
       "    <tr>\n",
       "      <th>19</th>\n",
       "      <td>23335</td>\n",
       "      <td>43352</td>\n",
       "      <td>1246</td>\n",
       "      <td>raspberries</td>\n",
       "      <td>32</td>\n",
       "      <td>4</td>\n",
       "    </tr>\n",
       "  </tbody>\n",
       "</table>\n",
       "</div>"
      ],
      "text/plain": [
       "    index  product_id  product_count                 product_name  aisle_id  \\\n",
       "0   13414       24852          15562                       banana        24   \n",
       "1    7127       13176          11026       bag of organic bananas        24   \n",
       "2   15028       27845           4363           organic whole milk        84   \n",
       "3   11384       21137           3946         organic strawberries        24   \n",
       "4   25439       47209           3390         organic hass avocado        24   \n",
       "5   11786       21903           3336         organic baby spinach       123   \n",
       "6   25732       47766           3044              organic avocado        24   \n",
       "7   10622       19660           2336                 spring water       115   \n",
       "8    9050       16797           2308                 strawberries        24   \n",
       "9   15102       27966           2024          organic raspberries       123   \n",
       "10  24024       44632           1914   sparkling water grapefruit       115   \n",
       "11  26519       49235           1797          organic half & half        53   \n",
       "12  25658       47626           1737                  large lemon        24   \n",
       "13    115         196           1733                         soda        77   \n",
       "14  20853       38689           1397     organic reduced fat milk        84   \n",
       "15  14158       26209           1370                        limes        24   \n",
       "16   6660       12341           1340                hass avocados        32   \n",
       "17   3153        5785           1310  organic reduced fat 2% milk        84   \n",
       "18  14639       27086           1309                  half & half        53   \n",
       "19  23335       43352           1246                  raspberries        32   \n",
       "\n",
       "    department_id  \n",
       "0               4  \n",
       "1               4  \n",
       "2              16  \n",
       "3               4  \n",
       "4               4  \n",
       "5               4  \n",
       "6               4  \n",
       "7               7  \n",
       "8               4  \n",
       "9               4  \n",
       "10              7  \n",
       "11             16  \n",
       "12              4  \n",
       "13              7  \n",
       "14             16  \n",
       "15              4  \n",
       "16              4  \n",
       "17             16  \n",
       "18             16  \n",
       "19              4  "
      ]
     },
     "metadata": {},
     "output_type": "display_data"
    },
    {
     "name": "stdout",
     "output_type": "stream",
     "text": [
      "\n",
      "These are the top twenty products that most frequently put in a shopping cart first.\n"
     ]
    }
   ],
   "source": [
    "# creat a data frame containing all products where the add_to_cart_order == 1\n",
    "first_cart_products = order_products[order_products['add_to_cart_order'] == 1]\n",
    "# Count the occurrences of each 'product_id' in the 'first_cart_products' df\n",
    "top_20_products = first_cart_products.groupby('product_id')['order_id'].nunique().reset_index(name='product_count')\n",
    "#arrange the products in descending order from most commonly occuring to least\n",
    "top_20_products = top_20_products.sort_values(by='product_count', ascending=False).reset_index()\n",
    "top_20_products = top_20_products.head(20)\n",
    "#merge with product information to get item names\n",
    "top_20_products = top_20_products.merge(products, on ='product_id')\n",
    "#show results\n",
    "display(top_20_products)"
   ]
  },
  {
   "cell_type": "markdown",
   "id": "7c090bb7",
   "metadata": {},
   "source": [
    "These are the top twenty products that most frequently put in a shopping cart first.\n"
   ]
  },
  {
   "cell_type": "markdown",
   "id": "132f4dfc",
   "metadata": {},
   "source": [
    "Conclusion: \n",
    "Shoppers using instacart are most frequently shopping on Sundays between 10 am and 4 pm. On average, they are waiting approximately ten days before ordering again. On Wednesdays, shoppers are ordering most frequently between 10-11 am and 3-4 pm while on Saturdays they're ordering between 1-2 pm. Most customers place anywhere between 1 and 4 orders using instacart with orders most frequently containing 4-7 items. The top twenty products to be reorders incluse a lot of produce such as bananas, strawberries, avocados, and spinach. All of this information can be useful to understand shopper habits and help future endeavors to make shopping more convenient for the consumer and more profitable for the company.   "
   ]
  }
 ],
 "metadata": {
  "ExecuteTimeLog": [
   {
    "duration": 2102,
    "start_time": "2024-10-30T17:11:57.347Z"
   },
   {
    "duration": 535,
    "start_time": "2024-10-30T17:11:59.451Z"
   },
   {
    "duration": 59,
    "start_time": "2024-10-30T17:12:46.002Z"
   },
   {
    "duration": 58,
    "start_time": "2024-10-30T17:13:23.734Z"
   },
   {
    "duration": 2,
    "start_time": "2024-10-30T17:20:32.945Z"
   },
   {
    "duration": 242,
    "start_time": "2024-10-30T17:21:17.968Z"
   },
   {
    "duration": 128,
    "start_time": "2024-10-30T17:21:31.617Z"
   },
   {
    "duration": 41,
    "start_time": "2024-10-30T17:25:39.194Z"
   },
   {
    "duration": 37,
    "start_time": "2024-10-30T17:25:48.613Z"
   },
   {
    "duration": 9,
    "start_time": "2024-10-30T17:26:50.142Z"
   },
   {
    "duration": 10,
    "start_time": "2024-10-30T17:27:01.439Z"
   },
   {
    "duration": 847,
    "start_time": "2024-10-30T17:27:21.595Z"
   },
   {
    "duration": 12,
    "start_time": "2024-10-30T17:30:48.371Z"
   },
   {
    "duration": 15,
    "start_time": "2024-10-30T17:39:07.789Z"
   },
   {
    "duration": 13,
    "start_time": "2024-10-30T17:39:40.615Z"
   },
   {
    "duration": 11,
    "start_time": "2024-10-30T17:39:53.704Z"
   },
   {
    "duration": 418,
    "start_time": "2024-10-30T17:46:36.343Z"
   },
   {
    "duration": 11,
    "start_time": "2024-10-30T17:48:14.970Z"
   },
   {
    "duration": 392,
    "start_time": "2024-10-30T17:48:30.752Z"
   },
   {
    "duration": 166,
    "start_time": "2024-10-30T17:48:31.146Z"
   },
   {
    "duration": 42,
    "start_time": "2024-10-30T17:48:31.314Z"
   },
   {
    "duration": 16,
    "start_time": "2024-10-30T17:48:31.358Z"
   },
   {
    "duration": 10,
    "start_time": "2024-10-30T17:48:31.378Z"
   },
   {
    "duration": 715,
    "start_time": "2024-10-30T17:48:31.391Z"
   },
   {
    "duration": 3,
    "start_time": "2024-10-30T17:48:32.107Z"
   },
   {
    "duration": 10,
    "start_time": "2024-10-30T17:48:32.112Z"
   },
   {
    "duration": 105,
    "start_time": "2024-10-30T17:48:32.123Z"
   },
   {
    "duration": 2,
    "start_time": "2024-10-30T17:48:32.230Z"
   },
   {
    "duration": 2,
    "start_time": "2024-10-30T17:48:32.234Z"
   },
   {
    "duration": 3,
    "start_time": "2024-10-30T17:48:32.238Z"
   },
   {
    "duration": 6,
    "start_time": "2024-10-30T17:48:32.242Z"
   },
   {
    "duration": 2,
    "start_time": "2024-10-30T17:48:32.270Z"
   },
   {
    "duration": 2,
    "start_time": "2024-10-30T17:48:32.274Z"
   },
   {
    "duration": 2,
    "start_time": "2024-10-30T17:48:32.278Z"
   },
   {
    "duration": 3,
    "start_time": "2024-10-30T17:48:32.282Z"
   },
   {
    "duration": 2,
    "start_time": "2024-10-30T17:48:32.286Z"
   },
   {
    "duration": 3,
    "start_time": "2024-10-30T17:48:32.290Z"
   },
   {
    "duration": 2,
    "start_time": "2024-10-30T17:48:32.295Z"
   },
   {
    "duration": 3,
    "start_time": "2024-10-30T17:48:32.298Z"
   },
   {
    "duration": 4,
    "start_time": "2024-10-30T17:48:32.302Z"
   },
   {
    "duration": 3,
    "start_time": "2024-10-30T17:48:32.307Z"
   },
   {
    "duration": 2,
    "start_time": "2024-10-30T17:48:32.312Z"
   },
   {
    "duration": 55,
    "start_time": "2024-10-30T17:48:32.316Z"
   },
   {
    "duration": 2,
    "start_time": "2024-10-30T17:48:32.373Z"
   },
   {
    "duration": 3,
    "start_time": "2024-10-30T17:48:32.377Z"
   },
   {
    "duration": 4,
    "start_time": "2024-10-30T17:48:32.381Z"
   },
   {
    "duration": 3,
    "start_time": "2024-10-30T17:49:23.885Z"
   },
   {
    "duration": 25,
    "start_time": "2024-10-30T17:49:37.397Z"
   },
   {
    "duration": 29,
    "start_time": "2024-10-30T17:49:46.336Z"
   },
   {
    "duration": 89,
    "start_time": "2024-10-30T17:51:24.966Z"
   },
   {
    "duration": 188,
    "start_time": "2024-10-30T17:52:46.585Z"
   },
   {
    "duration": 106,
    "start_time": "2024-10-30T17:52:56.375Z"
   },
   {
    "duration": 134,
    "start_time": "2024-10-30T17:52:59.301Z"
   },
   {
    "duration": 33,
    "start_time": "2024-10-30T17:53:01.519Z"
   },
   {
    "duration": 3,
    "start_time": "2024-10-30T18:02:07.261Z"
   },
   {
    "duration": 3,
    "start_time": "2024-10-30T18:02:51.415Z"
   },
   {
    "duration": 21,
    "start_time": "2024-10-30T18:05:20.174Z"
   },
   {
    "duration": 9,
    "start_time": "2024-10-30T18:05:34.700Z"
   },
   {
    "duration": 8,
    "start_time": "2024-10-30T18:05:50.569Z"
   },
   {
    "duration": 391,
    "start_time": "2024-10-30T18:06:48.448Z"
   },
   {
    "duration": 167,
    "start_time": "2024-10-30T18:06:48.841Z"
   },
   {
    "duration": 42,
    "start_time": "2024-10-30T18:06:49.010Z"
   },
   {
    "duration": 17,
    "start_time": "2024-10-30T18:06:49.055Z"
   },
   {
    "duration": 9,
    "start_time": "2024-10-30T18:06:49.074Z"
   },
   {
    "duration": 724,
    "start_time": "2024-10-30T18:06:49.085Z"
   },
   {
    "duration": 2,
    "start_time": "2024-10-30T18:06:49.811Z"
   },
   {
    "duration": 11,
    "start_time": "2024-10-30T18:06:49.815Z"
   },
   {
    "duration": 104,
    "start_time": "2024-10-30T18:06:49.827Z"
   },
   {
    "duration": 9,
    "start_time": "2024-10-30T18:06:49.935Z"
   },
   {
    "duration": 117,
    "start_time": "2024-10-30T18:06:49.946Z"
   },
   {
    "duration": 144,
    "start_time": "2024-10-30T18:06:50.065Z"
   },
   {
    "duration": 30,
    "start_time": "2024-10-30T18:06:50.211Z"
   },
   {
    "duration": 2,
    "start_time": "2024-10-30T18:06:50.243Z"
   },
   {
    "duration": 2,
    "start_time": "2024-10-30T18:06:50.247Z"
   },
   {
    "duration": 3,
    "start_time": "2024-10-30T18:06:50.270Z"
   },
   {
    "duration": 2,
    "start_time": "2024-10-30T18:06:50.275Z"
   },
   {
    "duration": 2,
    "start_time": "2024-10-30T18:06:50.279Z"
   },
   {
    "duration": 3,
    "start_time": "2024-10-30T18:06:50.282Z"
   },
   {
    "duration": 2,
    "start_time": "2024-10-30T18:06:50.287Z"
   },
   {
    "duration": 2,
    "start_time": "2024-10-30T18:06:50.291Z"
   },
   {
    "duration": 3,
    "start_time": "2024-10-30T18:06:50.294Z"
   },
   {
    "duration": 3,
    "start_time": "2024-10-30T18:06:50.298Z"
   },
   {
    "duration": 2,
    "start_time": "2024-10-30T18:06:50.303Z"
   },
   {
    "duration": 2,
    "start_time": "2024-10-30T18:06:50.307Z"
   },
   {
    "duration": 2,
    "start_time": "2024-10-30T18:06:50.311Z"
   },
   {
    "duration": 55,
    "start_time": "2024-10-30T18:06:50.315Z"
   },
   {
    "duration": 2,
    "start_time": "2024-10-30T18:06:50.373Z"
   },
   {
    "duration": 11,
    "start_time": "2024-10-30T18:08:27.616Z"
   },
   {
    "duration": 14,
    "start_time": "2024-10-30T18:09:41.803Z"
   },
   {
    "duration": 4,
    "start_time": "2024-10-30T18:10:20.813Z"
   },
   {
    "duration": 9,
    "start_time": "2024-10-30T18:11:19.348Z"
   },
   {
    "duration": 16,
    "start_time": "2024-10-30T18:11:35.085Z"
   },
   {
    "duration": 16,
    "start_time": "2024-10-30T18:24:05.522Z"
   },
   {
    "duration": 14,
    "start_time": "2024-10-30T18:24:13.349Z"
   },
   {
    "duration": 7,
    "start_time": "2024-10-30T18:27:27.156Z"
   },
   {
    "duration": 20,
    "start_time": "2024-10-30T18:27:33.179Z"
   },
   {
    "duration": 22,
    "start_time": "2024-10-30T18:27:50.200Z"
   },
   {
    "duration": 7,
    "start_time": "2024-10-30T18:28:18.037Z"
   },
   {
    "duration": 17,
    "start_time": "2024-10-30T18:29:58.762Z"
   },
   {
    "duration": 11,
    "start_time": "2024-10-30T18:31:46.143Z"
   },
   {
    "duration": 4,
    "start_time": "2024-10-30T18:31:48.444Z"
   },
   {
    "duration": 19,
    "start_time": "2024-10-30T18:31:49.114Z"
   },
   {
    "duration": 4,
    "start_time": "2024-10-30T18:33:17.633Z"
   },
   {
    "duration": 3,
    "start_time": "2024-10-30T18:33:32.008Z"
   },
   {
    "duration": 2544,
    "start_time": "2024-10-31T01:44:01.240Z"
   },
   {
    "duration": 223,
    "start_time": "2024-10-31T01:44:03.786Z"
   },
   {
    "duration": 75,
    "start_time": "2024-10-31T01:44:04.011Z"
   },
   {
    "duration": 15,
    "start_time": "2024-10-31T01:44:04.088Z"
   },
   {
    "duration": 15,
    "start_time": "2024-10-31T01:44:04.106Z"
   },
   {
    "duration": 886,
    "start_time": "2024-10-31T01:44:04.122Z"
   },
   {
    "duration": 3,
    "start_time": "2024-10-31T01:44:05.011Z"
   },
   {
    "duration": 15,
    "start_time": "2024-10-31T01:44:05.016Z"
   },
   {
    "duration": 144,
    "start_time": "2024-10-31T01:44:05.034Z"
   },
   {
    "duration": 19,
    "start_time": "2024-10-31T01:44:05.180Z"
   },
   {
    "duration": 144,
    "start_time": "2024-10-31T01:44:05.201Z"
   },
   {
    "duration": 155,
    "start_time": "2024-10-31T01:44:05.347Z"
   },
   {
    "duration": 39,
    "start_time": "2024-10-31T01:44:05.504Z"
   },
   {
    "duration": 10,
    "start_time": "2024-10-31T01:44:05.546Z"
   },
   {
    "duration": 18,
    "start_time": "2024-10-31T01:44:05.558Z"
   },
   {
    "duration": 5,
    "start_time": "2024-10-31T01:44:05.579Z"
   },
   {
    "duration": 27,
    "start_time": "2024-10-31T01:44:05.585Z"
   },
   {
    "duration": 7,
    "start_time": "2024-10-31T01:44:05.643Z"
   },
   {
    "duration": 3,
    "start_time": "2024-10-31T01:44:05.651Z"
   },
   {
    "duration": 3,
    "start_time": "2024-10-31T01:44:05.655Z"
   },
   {
    "duration": 3,
    "start_time": "2024-10-31T01:44:05.660Z"
   },
   {
    "duration": 3,
    "start_time": "2024-10-31T01:44:05.664Z"
   },
   {
    "duration": 3,
    "start_time": "2024-10-31T01:44:05.669Z"
   },
   {
    "duration": 3,
    "start_time": "2024-10-31T01:44:05.673Z"
   },
   {
    "duration": 4,
    "start_time": "2024-10-31T01:44:05.677Z"
   },
   {
    "duration": 3,
    "start_time": "2024-10-31T01:44:05.682Z"
   },
   {
    "duration": 2,
    "start_time": "2024-10-31T01:44:05.687Z"
   },
   {
    "duration": 2,
    "start_time": "2024-10-31T01:44:05.691Z"
   },
   {
    "duration": 3,
    "start_time": "2024-10-31T01:44:05.695Z"
   },
   {
    "duration": 18,
    "start_time": "2024-10-31T01:48:03.075Z"
   },
   {
    "duration": 11,
    "start_time": "2024-10-31T01:48:26.550Z"
   },
   {
    "duration": 8,
    "start_time": "2024-10-31T01:51:33.587Z"
   },
   {
    "duration": 9,
    "start_time": "2024-10-31T01:52:06.060Z"
   },
   {
    "duration": 4,
    "start_time": "2024-10-31T01:53:48.308Z"
   },
   {
    "duration": 3,
    "start_time": "2024-10-31T01:55:49.446Z"
   },
   {
    "duration": 96,
    "start_time": "2024-10-31T01:58:13.193Z"
   },
   {
    "duration": 4,
    "start_time": "2024-10-31T01:58:32.897Z"
   },
   {
    "duration": 3,
    "start_time": "2024-10-31T01:59:07.675Z"
   },
   {
    "duration": 8,
    "start_time": "2024-10-31T01:59:25.944Z"
   },
   {
    "duration": 10,
    "start_time": "2024-10-31T02:05:52.006Z"
   },
   {
    "duration": 4,
    "start_time": "2024-10-31T02:06:33.427Z"
   },
   {
    "duration": 6,
    "start_time": "2024-10-31T02:08:04.074Z"
   },
   {
    "duration": 3,
    "start_time": "2024-10-31T02:08:25.595Z"
   },
   {
    "duration": 922,
    "start_time": "2024-10-31T02:09:27.772Z"
   },
   {
    "duration": 8,
    "start_time": "2024-10-31T02:10:35.398Z"
   },
   {
    "duration": 95,
    "start_time": "2024-10-31T02:12:22.884Z"
   },
   {
    "duration": 455,
    "start_time": "2024-10-31T02:12:35.568Z"
   },
   {
    "duration": 172,
    "start_time": "2024-10-31T02:12:36.025Z"
   },
   {
    "duration": 49,
    "start_time": "2024-10-31T02:12:36.199Z"
   },
   {
    "duration": 12,
    "start_time": "2024-10-31T02:12:36.250Z"
   },
   {
    "duration": 10,
    "start_time": "2024-10-31T02:12:36.264Z"
   },
   {
    "duration": 744,
    "start_time": "2024-10-31T02:12:36.276Z"
   },
   {
    "duration": 2,
    "start_time": "2024-10-31T02:12:37.022Z"
   },
   {
    "duration": 19,
    "start_time": "2024-10-31T02:12:37.026Z"
   },
   {
    "duration": 107,
    "start_time": "2024-10-31T02:12:37.047Z"
   },
   {
    "duration": 10,
    "start_time": "2024-10-31T02:12:37.155Z"
   },
   {
    "duration": 125,
    "start_time": "2024-10-31T02:12:37.167Z"
   },
   {
    "duration": 154,
    "start_time": "2024-10-31T02:12:37.293Z"
   },
   {
    "duration": 31,
    "start_time": "2024-10-31T02:12:37.449Z"
   },
   {
    "duration": 10,
    "start_time": "2024-10-31T02:12:37.484Z"
   },
   {
    "duration": 12,
    "start_time": "2024-10-31T02:12:37.496Z"
   },
   {
    "duration": 4,
    "start_time": "2024-10-31T02:12:37.509Z"
   },
   {
    "duration": 19,
    "start_time": "2024-10-31T02:12:37.544Z"
   },
   {
    "duration": 3,
    "start_time": "2024-10-31T02:12:37.565Z"
   },
   {
    "duration": 10,
    "start_time": "2024-10-31T02:12:37.570Z"
   },
   {
    "duration": 4,
    "start_time": "2024-10-31T02:12:37.581Z"
   },
   {
    "duration": 4,
    "start_time": "2024-10-31T02:12:37.587Z"
   },
   {
    "duration": 2,
    "start_time": "2024-10-31T02:12:37.593Z"
   },
   {
    "duration": 47,
    "start_time": "2024-10-31T02:12:37.598Z"
   },
   {
    "duration": 3,
    "start_time": "2024-10-31T02:12:37.647Z"
   },
   {
    "duration": 5,
    "start_time": "2024-10-31T02:12:37.652Z"
   },
   {
    "duration": 5,
    "start_time": "2024-10-31T02:12:37.660Z"
   },
   {
    "duration": 8,
    "start_time": "2024-10-31T02:12:37.667Z"
   },
   {
    "duration": 825,
    "start_time": "2024-10-31T02:12:37.678Z"
   },
   {
    "duration": 527,
    "start_time": "2024-10-31T02:12:38.505Z"
   },
   {
    "duration": 0,
    "start_time": "2024-10-31T02:12:39.034Z"
   },
   {
    "duration": 0,
    "start_time": "2024-10-31T02:12:39.036Z"
   },
   {
    "duration": 0,
    "start_time": "2024-10-31T02:12:39.043Z"
   },
   {
    "duration": 0,
    "start_time": "2024-10-31T02:12:39.044Z"
   },
   {
    "duration": 0,
    "start_time": "2024-10-31T02:12:39.045Z"
   },
   {
    "duration": 0,
    "start_time": "2024-10-31T02:12:39.046Z"
   },
   {
    "duration": 0,
    "start_time": "2024-10-31T02:12:39.048Z"
   },
   {
    "duration": 0,
    "start_time": "2024-10-31T02:12:39.049Z"
   },
   {
    "duration": 0,
    "start_time": "2024-10-31T02:12:39.050Z"
   },
   {
    "duration": 883,
    "start_time": "2024-10-31T02:14:43.524Z"
   },
   {
    "duration": 318,
    "start_time": "2024-10-31T02:18:46.099Z"
   },
   {
    "duration": 2155,
    "start_time": "2024-10-31T16:33:39.839Z"
   },
   {
    "duration": 176,
    "start_time": "2024-10-31T16:33:41.998Z"
   },
   {
    "duration": 60,
    "start_time": "2024-10-31T16:33:42.176Z"
   },
   {
    "duration": 13,
    "start_time": "2024-10-31T16:33:42.238Z"
   },
   {
    "duration": 13,
    "start_time": "2024-10-31T16:33:42.253Z"
   },
   {
    "duration": 803,
    "start_time": "2024-10-31T16:33:42.268Z"
   },
   {
    "duration": 2,
    "start_time": "2024-10-31T16:33:43.073Z"
   },
   {
    "duration": 11,
    "start_time": "2024-10-31T16:33:43.077Z"
   },
   {
    "duration": 117,
    "start_time": "2024-10-31T16:33:43.090Z"
   },
   {
    "duration": 9,
    "start_time": "2024-10-31T16:33:43.212Z"
   },
   {
    "duration": 121,
    "start_time": "2024-10-31T16:33:43.223Z"
   },
   {
    "duration": 141,
    "start_time": "2024-10-31T16:33:43.346Z"
   },
   {
    "duration": 37,
    "start_time": "2024-10-31T16:33:43.490Z"
   },
   {
    "duration": 10,
    "start_time": "2024-10-31T16:33:43.529Z"
   },
   {
    "duration": 13,
    "start_time": "2024-10-31T16:33:43.540Z"
   },
   {
    "duration": 4,
    "start_time": "2024-10-31T16:33:43.554Z"
   },
   {
    "duration": 19,
    "start_time": "2024-10-31T16:33:43.560Z"
   },
   {
    "duration": 33,
    "start_time": "2024-10-31T16:33:43.581Z"
   },
   {
    "duration": 10,
    "start_time": "2024-10-31T16:33:43.616Z"
   },
   {
    "duration": 4,
    "start_time": "2024-10-31T16:33:43.627Z"
   },
   {
    "duration": 5,
    "start_time": "2024-10-31T16:33:43.633Z"
   },
   {
    "duration": 2,
    "start_time": "2024-10-31T16:33:43.640Z"
   },
   {
    "duration": 8,
    "start_time": "2024-10-31T16:33:43.644Z"
   },
   {
    "duration": 3,
    "start_time": "2024-10-31T16:33:43.654Z"
   },
   {
    "duration": 5,
    "start_time": "2024-10-31T16:33:43.658Z"
   },
   {
    "duration": 48,
    "start_time": "2024-10-31T16:33:43.664Z"
   },
   {
    "duration": 9,
    "start_time": "2024-10-31T16:33:43.716Z"
   },
   {
    "duration": 834,
    "start_time": "2024-10-31T16:33:43.726Z"
   },
   {
    "duration": 419,
    "start_time": "2024-10-31T16:33:44.563Z"
   },
   {
    "duration": 2,
    "start_time": "2024-10-31T16:33:44.984Z"
   },
   {
    "duration": 2,
    "start_time": "2024-10-31T16:33:44.988Z"
   },
   {
    "duration": 22,
    "start_time": "2024-10-31T16:33:44.992Z"
   },
   {
    "duration": 3,
    "start_time": "2024-10-31T16:33:45.017Z"
   },
   {
    "duration": 3,
    "start_time": "2024-10-31T16:33:45.022Z"
   },
   {
    "duration": 2,
    "start_time": "2024-10-31T16:33:45.027Z"
   },
   {
    "duration": 2,
    "start_time": "2024-10-31T16:33:45.031Z"
   },
   {
    "duration": 3,
    "start_time": "2024-10-31T16:33:45.035Z"
   },
   {
    "duration": 3,
    "start_time": "2024-10-31T16:33:45.039Z"
   },
   {
    "duration": 3,
    "start_time": "2024-10-31T16:33:45.044Z"
   },
   {
    "duration": 3,
    "start_time": "2024-10-31T16:33:45.048Z"
   },
   {
    "duration": 2153,
    "start_time": "2024-11-05T17:48:44.869Z"
   },
   {
    "duration": 191,
    "start_time": "2024-11-05T17:48:47.025Z"
   },
   {
    "duration": 59,
    "start_time": "2024-11-05T17:48:47.218Z"
   },
   {
    "duration": 11,
    "start_time": "2024-11-05T17:48:47.280Z"
   },
   {
    "duration": 12,
    "start_time": "2024-11-05T17:48:47.295Z"
   },
   {
    "duration": 822,
    "start_time": "2024-11-05T17:48:47.308Z"
   },
   {
    "duration": 4,
    "start_time": "2024-11-05T17:48:48.132Z"
   },
   {
    "duration": 12,
    "start_time": "2024-11-05T17:48:48.138Z"
   },
   {
    "duration": 125,
    "start_time": "2024-11-05T17:48:48.152Z"
   },
   {
    "duration": 10,
    "start_time": "2024-11-05T17:48:48.281Z"
   },
   {
    "duration": 115,
    "start_time": "2024-11-05T17:48:48.294Z"
   },
   {
    "duration": 134,
    "start_time": "2024-11-05T17:48:48.410Z"
   },
   {
    "duration": 37,
    "start_time": "2024-11-05T17:48:48.546Z"
   },
   {
    "duration": 21,
    "start_time": "2024-11-05T17:48:48.585Z"
   },
   {
    "duration": 11,
    "start_time": "2024-11-05T17:48:48.608Z"
   },
   {
    "duration": 3,
    "start_time": "2024-11-05T17:48:48.623Z"
   },
   {
    "duration": 19,
    "start_time": "2024-11-05T17:48:48.628Z"
   },
   {
    "duration": 3,
    "start_time": "2024-11-05T17:48:48.650Z"
   },
   {
    "duration": 9,
    "start_time": "2024-11-05T17:48:48.655Z"
   },
   {
    "duration": 4,
    "start_time": "2024-11-05T17:48:48.666Z"
   },
   {
    "duration": 9,
    "start_time": "2024-11-05T17:48:48.707Z"
   },
   {
    "duration": 5,
    "start_time": "2024-11-05T17:48:48.718Z"
   },
   {
    "duration": 10,
    "start_time": "2024-11-05T17:48:48.727Z"
   },
   {
    "duration": 4,
    "start_time": "2024-11-05T17:48:48.739Z"
   },
   {
    "duration": 5,
    "start_time": "2024-11-05T17:48:48.745Z"
   },
   {
    "duration": 3,
    "start_time": "2024-11-05T17:48:48.752Z"
   },
   {
    "duration": 9,
    "start_time": "2024-11-05T17:48:48.757Z"
   },
   {
    "duration": 789,
    "start_time": "2024-11-05T17:48:48.771Z"
   },
   {
    "duration": 333,
    "start_time": "2024-11-05T17:48:49.562Z"
   },
   {
    "duration": 8,
    "start_time": "2024-11-05T17:48:49.897Z"
   },
   {
    "duration": 4,
    "start_time": "2024-11-05T17:48:49.907Z"
   },
   {
    "duration": 3,
    "start_time": "2024-11-05T17:48:49.912Z"
   },
   {
    "duration": 2,
    "start_time": "2024-11-05T17:48:49.917Z"
   },
   {
    "duration": 2,
    "start_time": "2024-11-05T17:48:49.921Z"
   },
   {
    "duration": 2,
    "start_time": "2024-11-05T17:48:49.925Z"
   },
   {
    "duration": 2,
    "start_time": "2024-11-05T17:48:49.930Z"
   },
   {
    "duration": 2,
    "start_time": "2024-11-05T17:48:49.935Z"
   },
   {
    "duration": 2,
    "start_time": "2024-11-05T17:48:49.939Z"
   },
   {
    "duration": 2,
    "start_time": "2024-11-05T17:48:49.943Z"
   },
   {
    "duration": 5,
    "start_time": "2024-11-05T17:48:49.947Z"
   },
   {
    "duration": 14,
    "start_time": "2024-11-05T17:52:54.127Z"
   },
   {
    "duration": 11,
    "start_time": "2024-11-05T17:57:17.101Z"
   },
   {
    "duration": 4,
    "start_time": "2024-11-05T17:59:31.026Z"
   },
   {
    "duration": 4,
    "start_time": "2024-11-05T18:01:03.688Z"
   },
   {
    "duration": 8,
    "start_time": "2024-11-05T18:03:07.772Z"
   },
   {
    "duration": 5,
    "start_time": "2024-11-05T18:06:42.016Z"
   },
   {
    "duration": 3,
    "start_time": "2024-11-05T18:06:46.670Z"
   },
   {
    "duration": 13,
    "start_time": "2024-11-05T18:06:51.244Z"
   },
   {
    "duration": 319,
    "start_time": "2024-11-05T18:07:10.063Z"
   },
   {
    "duration": 9,
    "start_time": "2024-11-05T18:07:28.788Z"
   },
   {
    "duration": 12,
    "start_time": "2024-11-05T18:09:40.384Z"
   },
   {
    "duration": 390,
    "start_time": "2024-11-05T18:11:24.154Z"
   },
   {
    "duration": 11,
    "start_time": "2024-11-05T18:12:08.919Z"
   },
   {
    "duration": 10,
    "start_time": "2024-11-05T18:12:55.301Z"
   },
   {
    "duration": 15,
    "start_time": "2024-11-05T18:13:43.551Z"
   },
   {
    "duration": 11,
    "start_time": "2024-11-05T18:18:47.606Z"
   },
   {
    "duration": 14,
    "start_time": "2024-11-05T18:18:55.187Z"
   },
   {
    "duration": 12,
    "start_time": "2024-11-05T18:19:11.438Z"
   },
   {
    "duration": 11,
    "start_time": "2024-11-05T18:20:06.621Z"
   },
   {
    "duration": 22,
    "start_time": "2024-11-05T18:24:37.500Z"
   },
   {
    "duration": 4,
    "start_time": "2024-11-05T18:26:28.112Z"
   },
   {
    "duration": 26,
    "start_time": "2024-11-05T18:29:14.789Z"
   },
   {
    "duration": 29,
    "start_time": "2024-11-05T18:29:49.841Z"
   },
   {
    "duration": 10,
    "start_time": "2024-11-05T18:30:27.323Z"
   },
   {
    "duration": 9,
    "start_time": "2024-11-05T18:31:20.033Z"
   },
   {
    "duration": 7,
    "start_time": "2024-11-05T18:32:20.536Z"
   },
   {
    "duration": 3,
    "start_time": "2024-11-05T18:34:22.561Z"
   },
   {
    "duration": 6,
    "start_time": "2024-11-05T18:34:31.739Z"
   },
   {
    "duration": 7,
    "start_time": "2024-11-05T18:35:08.793Z"
   },
   {
    "duration": 8,
    "start_time": "2024-11-05T18:46:30.873Z"
   },
   {
    "duration": 4,
    "start_time": "2024-11-05T18:50:08.703Z"
   },
   {
    "duration": 4,
    "start_time": "2024-11-05T18:50:21.082Z"
   },
   {
    "duration": 4,
    "start_time": "2024-11-05T18:50:45.438Z"
   },
   {
    "duration": 5,
    "start_time": "2024-11-05T18:50:49.834Z"
   },
   {
    "duration": 13,
    "start_time": "2024-11-05T18:52:37.947Z"
   },
   {
    "duration": 37,
    "start_time": "2024-11-05T18:55:11.483Z"
   },
   {
    "duration": 30,
    "start_time": "2024-11-05T18:55:26.271Z"
   },
   {
    "duration": 64,
    "start_time": "2024-11-05T19:00:48.516Z"
   },
   {
    "duration": 15,
    "start_time": "2024-11-05T19:01:21.702Z"
   },
   {
    "duration": 12,
    "start_time": "2024-11-05T19:01:28.924Z"
   },
   {
    "duration": 12,
    "start_time": "2024-11-05T19:02:29.167Z"
   },
   {
    "duration": 4,
    "start_time": "2024-11-05T19:06:00.753Z"
   },
   {
    "duration": 4,
    "start_time": "2024-11-05T19:07:14.847Z"
   },
   {
    "duration": 4,
    "start_time": "2024-11-05T19:07:57.607Z"
   },
   {
    "duration": 2209,
    "start_time": "2024-11-05T19:35:50.230Z"
   },
   {
    "duration": 159,
    "start_time": "2024-11-05T19:35:52.441Z"
   },
   {
    "duration": 64,
    "start_time": "2024-11-05T19:35:52.602Z"
   },
   {
    "duration": 20,
    "start_time": "2024-11-05T19:35:52.668Z"
   },
   {
    "duration": 14,
    "start_time": "2024-11-05T19:35:52.691Z"
   },
   {
    "duration": 836,
    "start_time": "2024-11-05T19:35:52.706Z"
   },
   {
    "duration": 3,
    "start_time": "2024-11-05T19:35:53.544Z"
   },
   {
    "duration": 11,
    "start_time": "2024-11-05T19:35:53.548Z"
   },
   {
    "duration": 116,
    "start_time": "2024-11-05T19:35:53.561Z"
   },
   {
    "duration": 9,
    "start_time": "2024-11-05T19:35:53.679Z"
   },
   {
    "duration": 129,
    "start_time": "2024-11-05T19:35:53.690Z"
   },
   {
    "duration": 151,
    "start_time": "2024-11-05T19:35:53.821Z"
   },
   {
    "duration": 29,
    "start_time": "2024-11-05T19:35:53.974Z"
   },
   {
    "duration": 11,
    "start_time": "2024-11-05T19:35:54.007Z"
   },
   {
    "duration": 32,
    "start_time": "2024-11-05T19:35:54.021Z"
   },
   {
    "duration": 4,
    "start_time": "2024-11-05T19:35:54.054Z"
   },
   {
    "duration": 20,
    "start_time": "2024-11-05T19:35:54.059Z"
   },
   {
    "duration": 4,
    "start_time": "2024-11-05T19:35:54.081Z"
   },
   {
    "duration": 9,
    "start_time": "2024-11-05T19:35:54.087Z"
   },
   {
    "duration": 3,
    "start_time": "2024-11-05T19:35:54.098Z"
   },
   {
    "duration": 43,
    "start_time": "2024-11-05T19:35:54.103Z"
   },
   {
    "duration": 3,
    "start_time": "2024-11-05T19:35:54.148Z"
   },
   {
    "duration": 9,
    "start_time": "2024-11-05T19:35:54.152Z"
   },
   {
    "duration": 3,
    "start_time": "2024-11-05T19:35:54.163Z"
   },
   {
    "duration": 6,
    "start_time": "2024-11-05T19:35:54.168Z"
   },
   {
    "duration": 3,
    "start_time": "2024-11-05T19:35:54.175Z"
   },
   {
    "duration": 8,
    "start_time": "2024-11-05T19:35:54.180Z"
   },
   {
    "duration": 840,
    "start_time": "2024-11-05T19:35:54.190Z"
   },
   {
    "duration": 363,
    "start_time": "2024-11-05T19:35:55.032Z"
   },
   {
    "duration": 2,
    "start_time": "2024-11-05T19:35:55.397Z"
   },
   {
    "duration": 3,
    "start_time": "2024-11-05T19:35:55.401Z"
   },
   {
    "duration": 9,
    "start_time": "2024-11-05T19:35:55.406Z"
   },
   {
    "duration": 26,
    "start_time": "2024-11-05T19:35:55.417Z"
   },
   {
    "duration": 12,
    "start_time": "2024-11-05T19:35:55.445Z"
   },
   {
    "duration": 6,
    "start_time": "2024-11-05T19:35:55.459Z"
   },
   {
    "duration": 3,
    "start_time": "2024-11-05T19:35:55.467Z"
   },
   {
    "duration": 4,
    "start_time": "2024-11-05T19:35:55.472Z"
   },
   {
    "duration": 3,
    "start_time": "2024-11-05T19:35:55.478Z"
   },
   {
    "duration": 11,
    "start_time": "2024-11-05T19:35:55.482Z"
   },
   {
    "duration": 49,
    "start_time": "2024-11-05T19:35:55.495Z"
   },
   {
    "duration": 2,
    "start_time": "2024-11-05T19:35:55.549Z"
   },
   {
    "duration": 12,
    "start_time": "2024-11-05T19:35:55.553Z"
   },
   {
    "duration": 10,
    "start_time": "2024-11-05T19:35:55.567Z"
   },
   {
    "duration": 20,
    "start_time": "2024-11-05T19:35:55.579Z"
   },
   {
    "duration": 4,
    "start_time": "2024-11-05T19:35:55.600Z"
   },
   {
    "duration": 3,
    "start_time": "2024-11-05T19:35:55.606Z"
   },
   {
    "duration": 42,
    "start_time": "2024-11-05T19:35:55.643Z"
   },
   {
    "duration": 9,
    "start_time": "2024-11-05T19:35:55.687Z"
   },
   {
    "duration": 6,
    "start_time": "2024-11-05T19:35:55.698Z"
   },
   {
    "duration": 38,
    "start_time": "2024-11-05T19:35:55.705Z"
   },
   {
    "duration": 4,
    "start_time": "2024-11-05T19:35:55.747Z"
   },
   {
    "duration": 57,
    "start_time": "2024-11-05T19:35:55.753Z"
   },
   {
    "duration": 4,
    "start_time": "2024-11-05T19:35:55.812Z"
   },
   {
    "duration": 26,
    "start_time": "2024-11-05T19:35:55.818Z"
   },
   {
    "duration": 20,
    "start_time": "2024-11-05T19:36:07.034Z"
   },
   {
    "duration": 15,
    "start_time": "2024-11-05T19:41:31.819Z"
   },
   {
    "duration": 15,
    "start_time": "2024-11-05T19:44:17.099Z"
   },
   {
    "duration": 14,
    "start_time": "2024-11-05T19:44:46.572Z"
   },
   {
    "duration": 15,
    "start_time": "2024-11-05T19:45:04.301Z"
   },
   {
    "duration": 15,
    "start_time": "2024-11-05T19:45:32.420Z"
   },
   {
    "duration": 15,
    "start_time": "2024-11-05T19:46:05.398Z"
   },
   {
    "duration": 15,
    "start_time": "2024-11-05T19:46:54.713Z"
   },
   {
    "duration": 13,
    "start_time": "2024-11-05T19:50:09.496Z"
   },
   {
    "duration": 14,
    "start_time": "2024-11-05T19:50:32.992Z"
   },
   {
    "duration": 13,
    "start_time": "2024-11-05T19:50:47.435Z"
   },
   {
    "duration": 13,
    "start_time": "2024-11-05T19:50:54.208Z"
   },
   {
    "duration": 8,
    "start_time": "2024-11-05T19:51:36.282Z"
   },
   {
    "duration": 40,
    "start_time": "2024-11-05T19:52:32.275Z"
   },
   {
    "duration": 55,
    "start_time": "2024-11-05T19:53:03.990Z"
   },
   {
    "duration": 237,
    "start_time": "2024-11-05T19:57:24.008Z"
   },
   {
    "duration": 41,
    "start_time": "2024-11-05T19:57:29.348Z"
   },
   {
    "duration": 21,
    "start_time": "2024-11-05T19:58:17.308Z"
   },
   {
    "duration": 20,
    "start_time": "2024-11-05T19:58:22.590Z"
   },
   {
    "duration": 20,
    "start_time": "2024-11-05T20:01:17.287Z"
   },
   {
    "duration": 21,
    "start_time": "2024-11-05T20:01:36.829Z"
   },
   {
    "duration": 167,
    "start_time": "2024-11-05T20:32:06.461Z"
   },
   {
    "duration": 2280,
    "start_time": "2024-11-05T20:32:19.350Z"
   },
   {
    "duration": 160,
    "start_time": "2024-11-05T20:32:21.633Z"
   },
   {
    "duration": 62,
    "start_time": "2024-11-05T20:32:21.795Z"
   },
   {
    "duration": 14,
    "start_time": "2024-11-05T20:32:21.858Z"
   },
   {
    "duration": 13,
    "start_time": "2024-11-05T20:32:21.875Z"
   },
   {
    "duration": 802,
    "start_time": "2024-11-05T20:32:21.890Z"
   },
   {
    "duration": 4,
    "start_time": "2024-11-05T20:32:22.695Z"
   },
   {
    "duration": 13,
    "start_time": "2024-11-05T20:32:22.700Z"
   },
   {
    "duration": 110,
    "start_time": "2024-11-05T20:32:22.715Z"
   },
   {
    "duration": 17,
    "start_time": "2024-11-05T20:32:22.826Z"
   },
   {
    "duration": 115,
    "start_time": "2024-11-05T20:32:22.845Z"
   },
   {
    "duration": 136,
    "start_time": "2024-11-05T20:32:22.966Z"
   },
   {
    "duration": 40,
    "start_time": "2024-11-05T20:32:23.104Z"
   },
   {
    "duration": 10,
    "start_time": "2024-11-05T20:32:23.148Z"
   },
   {
    "duration": 11,
    "start_time": "2024-11-05T20:32:23.160Z"
   },
   {
    "duration": 3,
    "start_time": "2024-11-05T20:32:23.173Z"
   },
   {
    "duration": 17,
    "start_time": "2024-11-05T20:32:23.178Z"
   },
   {
    "duration": 4,
    "start_time": "2024-11-05T20:32:23.197Z"
   },
   {
    "duration": 41,
    "start_time": "2024-11-05T20:32:23.203Z"
   },
   {
    "duration": 3,
    "start_time": "2024-11-05T20:32:23.247Z"
   },
   {
    "duration": 5,
    "start_time": "2024-11-05T20:32:23.252Z"
   },
   {
    "duration": 3,
    "start_time": "2024-11-05T20:32:23.258Z"
   },
   {
    "duration": 9,
    "start_time": "2024-11-05T20:32:23.263Z"
   },
   {
    "duration": 3,
    "start_time": "2024-11-05T20:32:23.274Z"
   },
   {
    "duration": 5,
    "start_time": "2024-11-05T20:32:23.279Z"
   },
   {
    "duration": 2,
    "start_time": "2024-11-05T20:32:23.286Z"
   },
   {
    "duration": 58,
    "start_time": "2024-11-05T20:32:23.290Z"
   },
   {
    "duration": 793,
    "start_time": "2024-11-05T20:32:23.351Z"
   },
   {
    "duration": 363,
    "start_time": "2024-11-05T20:32:24.146Z"
   },
   {
    "duration": 2,
    "start_time": "2024-11-05T20:32:24.511Z"
   },
   {
    "duration": 2,
    "start_time": "2024-11-05T20:32:24.515Z"
   },
   {
    "duration": 23,
    "start_time": "2024-11-05T20:32:24.520Z"
   },
   {
    "duration": 2,
    "start_time": "2024-11-05T20:32:24.544Z"
   },
   {
    "duration": 11,
    "start_time": "2024-11-05T20:32:24.549Z"
   },
   {
    "duration": 4,
    "start_time": "2024-11-05T20:32:24.561Z"
   },
   {
    "duration": 3,
    "start_time": "2024-11-05T20:32:24.566Z"
   },
   {
    "duration": 5,
    "start_time": "2024-11-05T20:32:24.571Z"
   },
   {
    "duration": 8,
    "start_time": "2024-11-05T20:32:24.578Z"
   },
   {
    "duration": 11,
    "start_time": "2024-11-05T20:32:24.588Z"
   },
   {
    "duration": 45,
    "start_time": "2024-11-05T20:32:24.600Z"
   },
   {
    "duration": 4,
    "start_time": "2024-11-05T20:32:24.651Z"
   },
   {
    "duration": 13,
    "start_time": "2024-11-05T20:32:24.656Z"
   },
   {
    "duration": 10,
    "start_time": "2024-11-05T20:32:24.671Z"
   },
   {
    "duration": 20,
    "start_time": "2024-11-05T20:32:24.683Z"
   },
   {
    "duration": 4,
    "start_time": "2024-11-05T20:32:24.705Z"
   },
   {
    "duration": 3,
    "start_time": "2024-11-05T20:32:24.743Z"
   },
   {
    "duration": 42,
    "start_time": "2024-11-05T20:32:24.748Z"
   },
   {
    "duration": 10,
    "start_time": "2024-11-05T20:32:24.792Z"
   },
   {
    "duration": 6,
    "start_time": "2024-11-05T20:32:24.805Z"
   },
   {
    "duration": 42,
    "start_time": "2024-11-05T20:32:24.813Z"
   },
   {
    "duration": 4,
    "start_time": "2024-11-05T20:32:24.857Z"
   },
   {
    "duration": 55,
    "start_time": "2024-11-05T20:32:24.863Z"
   },
   {
    "duration": 24,
    "start_time": "2024-11-05T20:32:24.920Z"
   },
   {
    "duration": 4,
    "start_time": "2024-11-05T20:32:24.946Z"
   },
   {
    "duration": 13,
    "start_time": "2024-11-05T20:32:24.952Z"
   },
   {
    "duration": 13,
    "start_time": "2024-11-05T20:32:24.967Z"
   },
   {
    "duration": 73,
    "start_time": "2024-11-05T20:32:24.981Z"
   },
   {
    "duration": 16,
    "start_time": "2024-11-05T20:32:25.056Z"
   },
   {
    "duration": 8,
    "start_time": "2024-11-05T20:32:25.074Z"
   },
   {
    "duration": 9,
    "start_time": "2024-11-05T20:32:46.829Z"
   },
   {
    "duration": 10,
    "start_time": "2024-11-05T20:33:32.251Z"
   },
   {
    "duration": 54,
    "start_time": "2024-11-05T20:39:32.159Z"
   },
   {
    "duration": 45,
    "start_time": "2024-11-05T20:43:29.514Z"
   },
   {
    "duration": 44,
    "start_time": "2024-11-05T20:43:43.100Z"
   },
   {
    "duration": 11,
    "start_time": "2024-11-05T20:46:19.623Z"
   },
   {
    "duration": 145,
    "start_time": "2024-11-05T20:51:07.511Z"
   },
   {
    "duration": 160,
    "start_time": "2024-11-05T20:51:40.069Z"
   },
   {
    "duration": 262,
    "start_time": "2024-11-05T20:52:53.247Z"
   },
   {
    "duration": 255,
    "start_time": "2024-11-05T20:54:22.376Z"
   },
   {
    "duration": 275,
    "start_time": "2024-11-05T20:57:42.547Z"
   },
   {
    "duration": 233,
    "start_time": "2024-11-05T20:58:32.632Z"
   },
   {
    "duration": 183,
    "start_time": "2024-11-05T21:05:17.655Z"
   },
   {
    "duration": 117,
    "start_time": "2024-11-05T21:05:28.613Z"
   },
   {
    "duration": 658,
    "start_time": "2024-11-05T21:07:29.174Z"
   },
   {
    "duration": 198,
    "start_time": "2024-11-05T21:10:27.465Z"
   },
   {
    "duration": 140,
    "start_time": "2024-11-05T21:10:41.073Z"
   },
   {
    "duration": 135,
    "start_time": "2024-11-05T21:12:37.625Z"
   },
   {
    "duration": 259,
    "start_time": "2024-11-05T21:13:35.611Z"
   },
   {
    "duration": 310,
    "start_time": "2024-11-05T21:16:16.848Z"
   },
   {
    "duration": 349,
    "start_time": "2024-11-05T21:16:25.813Z"
   },
   {
    "duration": 280,
    "start_time": "2024-11-05T21:17:08.174Z"
   },
   {
    "duration": 277,
    "start_time": "2024-11-05T21:17:19.050Z"
   },
   {
    "duration": 213,
    "start_time": "2024-11-05T21:17:34.649Z"
   },
   {
    "duration": 275,
    "start_time": "2024-11-05T21:17:40.143Z"
   },
   {
    "duration": 357,
    "start_time": "2024-11-05T21:17:52.320Z"
   },
   {
    "duration": 262,
    "start_time": "2024-11-05T21:18:01.320Z"
   },
   {
    "duration": 271,
    "start_time": "2024-11-05T21:18:10.084Z"
   },
   {
    "duration": 273,
    "start_time": "2024-11-05T21:18:20.623Z"
   },
   {
    "duration": 259,
    "start_time": "2024-11-05T21:18:33.904Z"
   },
   {
    "duration": 258,
    "start_time": "2024-11-05T21:19:13.219Z"
   },
   {
    "duration": 262,
    "start_time": "2024-11-05T21:19:24.371Z"
   },
   {
    "duration": 5,
    "start_time": "2024-11-05T21:20:20.207Z"
   },
   {
    "duration": 272,
    "start_time": "2024-11-05T21:20:42.418Z"
   },
   {
    "duration": 384,
    "start_time": "2024-11-05T21:21:16.026Z"
   },
   {
    "duration": 261,
    "start_time": "2024-11-05T21:23:09.827Z"
   },
   {
    "duration": 262,
    "start_time": "2024-11-05T21:23:53.223Z"
   },
   {
    "duration": 285,
    "start_time": "2024-11-05T21:24:12.236Z"
   },
   {
    "duration": 324,
    "start_time": "2024-11-05T21:25:55.869Z"
   },
   {
    "duration": 303,
    "start_time": "2024-11-05T21:26:51.168Z"
   },
   {
    "duration": 292,
    "start_time": "2024-11-05T21:27:33.159Z"
   },
   {
    "duration": 320,
    "start_time": "2024-11-05T21:28:38.711Z"
   },
   {
    "duration": 442,
    "start_time": "2024-11-05T21:29:58.985Z"
   },
   {
    "duration": 324,
    "start_time": "2024-11-05T21:30:19.936Z"
   },
   {
    "duration": 315,
    "start_time": "2024-11-05T21:31:38.192Z"
   },
   {
    "duration": 315,
    "start_time": "2024-11-05T21:32:01.271Z"
   },
   {
    "duration": 158,
    "start_time": "2024-11-05T21:32:19.436Z"
   },
   {
    "duration": 155,
    "start_time": "2024-11-05T21:32:23.790Z"
   },
   {
    "duration": 396,
    "start_time": "2024-11-05T21:32:54.121Z"
   },
   {
    "duration": 173,
    "start_time": "2024-11-05T21:32:54.519Z"
   },
   {
    "duration": 55,
    "start_time": "2024-11-05T21:32:54.694Z"
   },
   {
    "duration": 9,
    "start_time": "2024-11-05T21:32:54.750Z"
   },
   {
    "duration": 10,
    "start_time": "2024-11-05T21:32:54.763Z"
   },
   {
    "duration": 743,
    "start_time": "2024-11-05T21:32:54.774Z"
   },
   {
    "duration": 2,
    "start_time": "2024-11-05T21:32:55.519Z"
   },
   {
    "duration": 19,
    "start_time": "2024-11-05T21:32:55.524Z"
   },
   {
    "duration": 99,
    "start_time": "2024-11-05T21:32:55.544Z"
   },
   {
    "duration": 8,
    "start_time": "2024-11-05T21:32:55.645Z"
   },
   {
    "duration": 120,
    "start_time": "2024-11-05T21:32:55.655Z"
   },
   {
    "duration": 137,
    "start_time": "2024-11-05T21:32:55.778Z"
   },
   {
    "duration": 35,
    "start_time": "2024-11-05T21:32:55.917Z"
   },
   {
    "duration": 11,
    "start_time": "2024-11-05T21:32:55.957Z"
   },
   {
    "duration": 12,
    "start_time": "2024-11-05T21:32:55.969Z"
   },
   {
    "duration": 4,
    "start_time": "2024-11-05T21:32:55.983Z"
   },
   {
    "duration": 18,
    "start_time": "2024-11-05T21:32:55.989Z"
   },
   {
    "duration": 4,
    "start_time": "2024-11-05T21:32:56.008Z"
   },
   {
    "duration": 9,
    "start_time": "2024-11-05T21:32:56.043Z"
   },
   {
    "duration": 5,
    "start_time": "2024-11-05T21:32:56.053Z"
   },
   {
    "duration": 4,
    "start_time": "2024-11-05T21:32:56.060Z"
   },
   {
    "duration": 2,
    "start_time": "2024-11-05T21:32:56.066Z"
   },
   {
    "duration": 9,
    "start_time": "2024-11-05T21:32:56.070Z"
   },
   {
    "duration": 4,
    "start_time": "2024-11-05T21:32:56.080Z"
   },
   {
    "duration": 5,
    "start_time": "2024-11-05T21:32:56.085Z"
   },
   {
    "duration": 3,
    "start_time": "2024-11-05T21:32:56.091Z"
   },
   {
    "duration": 8,
    "start_time": "2024-11-05T21:32:56.142Z"
   },
   {
    "duration": 765,
    "start_time": "2024-11-05T21:32:56.152Z"
   },
   {
    "duration": 361,
    "start_time": "2024-11-05T21:32:56.919Z"
   },
   {
    "duration": 2,
    "start_time": "2024-11-05T21:32:57.283Z"
   },
   {
    "duration": 4,
    "start_time": "2024-11-05T21:32:57.286Z"
   },
   {
    "duration": 10,
    "start_time": "2024-11-05T21:32:57.291Z"
   },
   {
    "duration": 2,
    "start_time": "2024-11-05T21:32:57.303Z"
   },
   {
    "duration": 12,
    "start_time": "2024-11-05T21:32:57.306Z"
   },
   {
    "duration": 4,
    "start_time": "2024-11-05T21:32:57.343Z"
   },
   {
    "duration": 4,
    "start_time": "2024-11-05T21:32:57.350Z"
   },
   {
    "duration": 5,
    "start_time": "2024-11-05T21:32:57.356Z"
   },
   {
    "duration": 2,
    "start_time": "2024-11-05T21:32:57.363Z"
   },
   {
    "duration": 10,
    "start_time": "2024-11-05T21:32:57.368Z"
   },
   {
    "duration": 8,
    "start_time": "2024-11-05T21:32:57.381Z"
   },
   {
    "duration": 2,
    "start_time": "2024-11-05T21:32:57.394Z"
   },
   {
    "duration": 48,
    "start_time": "2024-11-05T21:32:57.397Z"
   },
   {
    "duration": 10,
    "start_time": "2024-11-05T21:32:57.446Z"
   },
   {
    "duration": 21,
    "start_time": "2024-11-05T21:32:57.457Z"
   },
   {
    "duration": 3,
    "start_time": "2024-11-05T21:32:57.480Z"
   },
   {
    "duration": 2,
    "start_time": "2024-11-05T21:32:57.485Z"
   },
   {
    "duration": 68,
    "start_time": "2024-11-05T21:32:57.489Z"
   },
   {
    "duration": 10,
    "start_time": "2024-11-05T21:32:57.559Z"
   },
   {
    "duration": 6,
    "start_time": "2024-11-05T21:32:57.571Z"
   },
   {
    "duration": 12,
    "start_time": "2024-11-05T21:32:57.579Z"
   },
   {
    "duration": 4,
    "start_time": "2024-11-05T21:32:57.592Z"
   },
   {
    "duration": 86,
    "start_time": "2024-11-05T21:32:57.597Z"
   },
   {
    "duration": 4,
    "start_time": "2024-11-05T21:32:57.685Z"
   },
   {
    "duration": 4,
    "start_time": "2024-11-05T21:32:57.691Z"
   },
   {
    "duration": 14,
    "start_time": "2024-11-05T21:32:57.696Z"
   },
   {
    "duration": 74,
    "start_time": "2024-11-05T21:32:57.712Z"
   },
   {
    "duration": 61,
    "start_time": "2024-11-05T21:32:57.788Z"
   },
   {
    "duration": 186,
    "start_time": "2024-11-05T21:32:57.851Z"
   },
   {
    "duration": 164,
    "start_time": "2024-11-05T21:32:58.042Z"
   },
   {
    "duration": 181,
    "start_time": "2024-11-05T21:33:40.459Z"
   },
   {
    "duration": 159,
    "start_time": "2024-11-05T21:34:18.887Z"
   },
   {
    "duration": 241,
    "start_time": "2024-11-05T21:35:48.304Z"
   },
   {
    "duration": 170,
    "start_time": "2024-11-05T21:35:56.719Z"
   },
   {
    "duration": 322,
    "start_time": "2024-11-05T21:37:39.735Z"
   },
   {
    "duration": 332,
    "start_time": "2024-11-05T21:48:36.295Z"
   },
   {
    "duration": 370,
    "start_time": "2024-11-05T21:48:52.758Z"
   },
   {
    "duration": 345,
    "start_time": "2024-11-05T21:49:08.143Z"
   },
   {
    "duration": 319,
    "start_time": "2024-11-05T21:49:47.226Z"
   },
   {
    "duration": 22,
    "start_time": "2024-11-05T21:51:49.203Z"
   },
   {
    "duration": 418,
    "start_time": "2024-11-05T21:53:56.736Z"
   },
   {
    "duration": 171,
    "start_time": "2024-11-05T21:53:57.156Z"
   },
   {
    "duration": 47,
    "start_time": "2024-11-05T21:53:57.329Z"
   },
   {
    "duration": 8,
    "start_time": "2024-11-05T21:53:57.378Z"
   },
   {
    "duration": 11,
    "start_time": "2024-11-05T21:53:57.389Z"
   },
   {
    "duration": 712,
    "start_time": "2024-11-05T21:53:57.401Z"
   },
   {
    "duration": 3,
    "start_time": "2024-11-05T21:53:58.115Z"
   },
   {
    "duration": 11,
    "start_time": "2024-11-05T21:53:58.120Z"
   },
   {
    "duration": 99,
    "start_time": "2024-11-05T21:53:58.132Z"
   },
   {
    "duration": 17,
    "start_time": "2024-11-05T21:53:58.233Z"
   },
   {
    "duration": 124,
    "start_time": "2024-11-05T21:53:58.252Z"
   },
   {
    "duration": 148,
    "start_time": "2024-11-05T21:53:58.378Z"
   },
   {
    "duration": 32,
    "start_time": "2024-11-05T21:53:58.528Z"
   },
   {
    "duration": 12,
    "start_time": "2024-11-05T21:53:58.564Z"
   },
   {
    "duration": 11,
    "start_time": "2024-11-05T21:53:58.577Z"
   },
   {
    "duration": 3,
    "start_time": "2024-11-05T21:53:58.590Z"
   },
   {
    "duration": 18,
    "start_time": "2024-11-05T21:53:58.595Z"
   },
   {
    "duration": 4,
    "start_time": "2024-11-05T21:53:58.643Z"
   },
   {
    "duration": 9,
    "start_time": "2024-11-05T21:53:58.649Z"
   },
   {
    "duration": 4,
    "start_time": "2024-11-05T21:53:58.660Z"
   },
   {
    "duration": 4,
    "start_time": "2024-11-05T21:53:58.666Z"
   },
   {
    "duration": 2,
    "start_time": "2024-11-05T21:53:58.672Z"
   },
   {
    "duration": 10,
    "start_time": "2024-11-05T21:53:58.676Z"
   },
   {
    "duration": 3,
    "start_time": "2024-11-05T21:53:58.688Z"
   },
   {
    "duration": 52,
    "start_time": "2024-11-05T21:53:58.692Z"
   },
   {
    "duration": 2,
    "start_time": "2024-11-05T21:53:58.746Z"
   },
   {
    "duration": 8,
    "start_time": "2024-11-05T21:53:58.749Z"
   },
   {
    "duration": 763,
    "start_time": "2024-11-05T21:53:58.759Z"
   },
   {
    "duration": 314,
    "start_time": "2024-11-05T21:53:59.524Z"
   },
   {
    "duration": 4,
    "start_time": "2024-11-05T21:53:59.839Z"
   },
   {
    "duration": 2,
    "start_time": "2024-11-05T21:53:59.845Z"
   },
   {
    "duration": 9,
    "start_time": "2024-11-05T21:53:59.850Z"
   },
   {
    "duration": 3,
    "start_time": "2024-11-05T21:53:59.860Z"
   },
   {
    "duration": 10,
    "start_time": "2024-11-05T21:53:59.864Z"
   },
   {
    "duration": 3,
    "start_time": "2024-11-05T21:53:59.876Z"
   },
   {
    "duration": 2,
    "start_time": "2024-11-05T21:53:59.881Z"
   },
   {
    "duration": 3,
    "start_time": "2024-11-05T21:53:59.885Z"
   },
   {
    "duration": 2,
    "start_time": "2024-11-05T21:53:59.890Z"
   },
   {
    "duration": 55,
    "start_time": "2024-11-05T21:53:59.894Z"
   },
   {
    "duration": 8,
    "start_time": "2024-11-05T21:53:59.951Z"
   },
   {
    "duration": 2,
    "start_time": "2024-11-05T21:53:59.964Z"
   },
   {
    "duration": 12,
    "start_time": "2024-11-05T21:53:59.967Z"
   },
   {
    "duration": 9,
    "start_time": "2024-11-05T21:53:59.981Z"
   },
   {
    "duration": 55,
    "start_time": "2024-11-05T21:53:59.992Z"
   },
   {
    "duration": 4,
    "start_time": "2024-11-05T21:54:00.049Z"
   },
   {
    "duration": 4,
    "start_time": "2024-11-05T21:54:00.056Z"
   },
   {
    "duration": 40,
    "start_time": "2024-11-05T21:54:00.062Z"
   },
   {
    "duration": 8,
    "start_time": "2024-11-05T21:54:00.104Z"
   },
   {
    "duration": 33,
    "start_time": "2024-11-05T21:54:00.114Z"
   },
   {
    "duration": 12,
    "start_time": "2024-11-05T21:54:00.148Z"
   },
   {
    "duration": 3,
    "start_time": "2024-11-05T21:54:00.162Z"
   },
   {
    "duration": 52,
    "start_time": "2024-11-05T21:54:00.167Z"
   },
   {
    "duration": 5,
    "start_time": "2024-11-05T21:54:00.243Z"
   },
   {
    "duration": 4,
    "start_time": "2024-11-05T21:54:00.249Z"
   },
   {
    "duration": 15,
    "start_time": "2024-11-05T21:54:00.255Z"
   },
   {
    "duration": 73,
    "start_time": "2024-11-05T21:54:00.272Z"
   },
   {
    "duration": 55,
    "start_time": "2024-11-05T21:54:00.347Z"
   },
   {
    "duration": 391,
    "start_time": "2024-11-05T21:54:00.405Z"
   },
   {
    "duration": 463,
    "start_time": "2024-11-05T21:57:30.073Z"
   },
   {
    "duration": 184,
    "start_time": "2024-11-05T21:57:30.538Z"
   },
   {
    "duration": 60,
    "start_time": "2024-11-05T21:57:30.723Z"
   },
   {
    "duration": 16,
    "start_time": "2024-11-05T21:57:30.785Z"
   },
   {
    "duration": 14,
    "start_time": "2024-11-05T21:57:30.804Z"
   },
   {
    "duration": 795,
    "start_time": "2024-11-05T21:57:30.820Z"
   },
   {
    "duration": 2,
    "start_time": "2024-11-05T21:57:31.617Z"
   },
   {
    "duration": 25,
    "start_time": "2024-11-05T21:57:31.621Z"
   },
   {
    "duration": 101,
    "start_time": "2024-11-05T21:57:31.647Z"
   },
   {
    "duration": 10,
    "start_time": "2024-11-05T21:57:31.750Z"
   },
   {
    "duration": 127,
    "start_time": "2024-11-05T21:57:31.761Z"
   },
   {
    "duration": 138,
    "start_time": "2024-11-05T21:57:31.890Z"
   },
   {
    "duration": 33,
    "start_time": "2024-11-05T21:57:32.029Z"
   },
   {
    "duration": 11,
    "start_time": "2024-11-05T21:57:32.066Z"
   },
   {
    "duration": 11,
    "start_time": "2024-11-05T21:57:32.078Z"
   },
   {
    "duration": 3,
    "start_time": "2024-11-05T21:57:32.090Z"
   },
   {
    "duration": 54,
    "start_time": "2024-11-05T21:57:32.095Z"
   },
   {
    "duration": 4,
    "start_time": "2024-11-05T21:57:32.151Z"
   },
   {
    "duration": 10,
    "start_time": "2024-11-05T21:57:32.156Z"
   },
   {
    "duration": 3,
    "start_time": "2024-11-05T21:57:32.167Z"
   },
   {
    "duration": 4,
    "start_time": "2024-11-05T21:57:32.172Z"
   },
   {
    "duration": 2,
    "start_time": "2024-11-05T21:57:32.178Z"
   },
   {
    "duration": 8,
    "start_time": "2024-11-05T21:57:32.182Z"
   },
   {
    "duration": 4,
    "start_time": "2024-11-05T21:57:32.192Z"
   },
   {
    "duration": 48,
    "start_time": "2024-11-05T21:57:32.198Z"
   },
   {
    "duration": 2,
    "start_time": "2024-11-05T21:57:32.248Z"
   },
   {
    "duration": 9,
    "start_time": "2024-11-05T21:57:32.252Z"
   },
   {
    "duration": 785,
    "start_time": "2024-11-05T21:57:32.263Z"
   },
   {
    "duration": 317,
    "start_time": "2024-11-05T21:57:33.051Z"
   },
   {
    "duration": 2,
    "start_time": "2024-11-05T21:57:33.370Z"
   },
   {
    "duration": 3,
    "start_time": "2024-11-05T21:57:33.374Z"
   },
   {
    "duration": 10,
    "start_time": "2024-11-05T21:57:33.379Z"
   },
   {
    "duration": 2,
    "start_time": "2024-11-05T21:57:33.391Z"
   },
   {
    "duration": 12,
    "start_time": "2024-11-05T21:57:33.395Z"
   },
   {
    "duration": 4,
    "start_time": "2024-11-05T21:57:33.444Z"
   },
   {
    "duration": 3,
    "start_time": "2024-11-05T21:57:33.449Z"
   },
   {
    "duration": 5,
    "start_time": "2024-11-05T21:57:33.453Z"
   },
   {
    "duration": 6,
    "start_time": "2024-11-05T21:57:33.459Z"
   },
   {
    "duration": 10,
    "start_time": "2024-11-05T21:57:33.466Z"
   },
   {
    "duration": 8,
    "start_time": "2024-11-05T21:57:33.477Z"
   },
   {
    "duration": 2,
    "start_time": "2024-11-05T21:57:33.489Z"
   },
   {
    "duration": 60,
    "start_time": "2024-11-05T21:57:33.493Z"
   },
   {
    "duration": 10,
    "start_time": "2024-11-05T21:57:33.555Z"
   },
   {
    "duration": 18,
    "start_time": "2024-11-05T21:57:33.567Z"
   },
   {
    "duration": 4,
    "start_time": "2024-11-05T21:57:33.587Z"
   },
   {
    "duration": 5,
    "start_time": "2024-11-05T21:57:33.592Z"
   },
   {
    "duration": 78,
    "start_time": "2024-11-05T21:57:33.598Z"
   },
   {
    "duration": 11,
    "start_time": "2024-11-05T21:57:33.677Z"
   },
   {
    "duration": 6,
    "start_time": "2024-11-05T21:57:33.689Z"
   },
   {
    "duration": 12,
    "start_time": "2024-11-05T21:57:33.697Z"
   },
   {
    "duration": 33,
    "start_time": "2024-11-05T21:57:33.710Z"
   },
   {
    "duration": 51,
    "start_time": "2024-11-05T21:57:33.745Z"
   },
   {
    "duration": 5,
    "start_time": "2024-11-05T21:57:33.798Z"
   },
   {
    "duration": 37,
    "start_time": "2024-11-05T21:57:33.805Z"
   },
   {
    "duration": 15,
    "start_time": "2024-11-05T21:57:33.844Z"
   },
   {
    "duration": 49,
    "start_time": "2024-11-05T21:57:33.861Z"
   },
   {
    "duration": 68,
    "start_time": "2024-11-05T21:57:33.912Z"
   },
   {
    "duration": 360,
    "start_time": "2024-11-05T21:57:33.982Z"
   },
   {
    "duration": 500,
    "start_time": "2024-11-05T22:02:00.169Z"
   },
   {
    "duration": 196,
    "start_time": "2024-11-05T22:02:00.672Z"
   },
   {
    "duration": 62,
    "start_time": "2024-11-05T22:02:00.870Z"
   },
   {
    "duration": 10,
    "start_time": "2024-11-05T22:02:00.934Z"
   },
   {
    "duration": 13,
    "start_time": "2024-11-05T22:02:00.948Z"
   },
   {
    "duration": 806,
    "start_time": "2024-11-05T22:02:00.963Z"
   },
   {
    "duration": 2,
    "start_time": "2024-11-05T22:02:01.771Z"
   },
   {
    "duration": 11,
    "start_time": "2024-11-05T22:02:01.775Z"
   },
   {
    "duration": 121,
    "start_time": "2024-11-05T22:02:01.788Z"
   },
   {
    "duration": 9,
    "start_time": "2024-11-05T22:02:01.912Z"
   },
   {
    "duration": 131,
    "start_time": "2024-11-05T22:02:01.922Z"
   },
   {
    "duration": 154,
    "start_time": "2024-11-05T22:02:02.056Z"
   },
   {
    "duration": 38,
    "start_time": "2024-11-05T22:02:02.212Z"
   },
   {
    "duration": 11,
    "start_time": "2024-11-05T22:02:02.254Z"
   },
   {
    "duration": 12,
    "start_time": "2024-11-05T22:02:02.266Z"
   },
   {
    "duration": 3,
    "start_time": "2024-11-05T22:02:02.280Z"
   },
   {
    "duration": 18,
    "start_time": "2024-11-05T22:02:02.285Z"
   },
   {
    "duration": 4,
    "start_time": "2024-11-05T22:02:02.305Z"
   },
   {
    "duration": 40,
    "start_time": "2024-11-05T22:02:02.310Z"
   },
   {
    "duration": 3,
    "start_time": "2024-11-05T22:02:02.351Z"
   },
   {
    "duration": 4,
    "start_time": "2024-11-05T22:02:02.356Z"
   },
   {
    "duration": 3,
    "start_time": "2024-11-05T22:02:02.362Z"
   },
   {
    "duration": 9,
    "start_time": "2024-11-05T22:02:02.366Z"
   },
   {
    "duration": 4,
    "start_time": "2024-11-05T22:02:02.377Z"
   },
   {
    "duration": 5,
    "start_time": "2024-11-05T22:02:02.383Z"
   },
   {
    "duration": 2,
    "start_time": "2024-11-05T22:02:02.390Z"
   },
   {
    "duration": 53,
    "start_time": "2024-11-05T22:02:02.394Z"
   },
   {
    "duration": 790,
    "start_time": "2024-11-05T22:02:02.449Z"
   },
   {
    "duration": 344,
    "start_time": "2024-11-05T22:02:03.242Z"
   },
   {
    "duration": 2,
    "start_time": "2024-11-05T22:02:03.588Z"
   },
   {
    "duration": 3,
    "start_time": "2024-11-05T22:02:03.591Z"
   },
   {
    "duration": 9,
    "start_time": "2024-11-05T22:02:03.596Z"
   },
   {
    "duration": 2,
    "start_time": "2024-11-05T22:02:03.607Z"
   },
   {
    "duration": 33,
    "start_time": "2024-11-05T22:02:03.610Z"
   },
   {
    "duration": 3,
    "start_time": "2024-11-05T22:02:03.645Z"
   },
   {
    "duration": 3,
    "start_time": "2024-11-05T22:02:03.650Z"
   },
   {
    "duration": 6,
    "start_time": "2024-11-05T22:02:03.655Z"
   },
   {
    "duration": 2,
    "start_time": "2024-11-05T22:02:03.663Z"
   },
   {
    "duration": 11,
    "start_time": "2024-11-05T22:02:03.667Z"
   },
   {
    "duration": 8,
    "start_time": "2024-11-05T22:02:03.681Z"
   },
   {
    "duration": 2,
    "start_time": "2024-11-05T22:02:03.694Z"
   },
   {
    "duration": 54,
    "start_time": "2024-11-05T22:02:03.697Z"
   },
   {
    "duration": 10,
    "start_time": "2024-11-05T22:02:03.752Z"
   },
   {
    "duration": 19,
    "start_time": "2024-11-05T22:02:03.763Z"
   },
   {
    "duration": 4,
    "start_time": "2024-11-05T22:02:03.784Z"
   },
   {
    "duration": 3,
    "start_time": "2024-11-05T22:02:03.789Z"
   },
   {
    "duration": 67,
    "start_time": "2024-11-05T22:02:03.794Z"
   },
   {
    "duration": 8,
    "start_time": "2024-11-05T22:02:03.863Z"
   },
   {
    "duration": 5,
    "start_time": "2024-11-05T22:02:03.873Z"
   },
   {
    "duration": 13,
    "start_time": "2024-11-05T22:02:03.879Z"
   },
   {
    "duration": 3,
    "start_time": "2024-11-05T22:02:03.894Z"
   },
   {
    "duration": 78,
    "start_time": "2024-11-05T22:02:03.898Z"
   },
   {
    "duration": 3,
    "start_time": "2024-11-05T22:02:03.978Z"
   },
   {
    "duration": 5,
    "start_time": "2024-11-05T22:02:03.983Z"
   },
   {
    "duration": 13,
    "start_time": "2024-11-05T22:02:03.989Z"
   },
   {
    "duration": 79,
    "start_time": "2024-11-05T22:02:04.004Z"
   },
   {
    "duration": 57,
    "start_time": "2024-11-05T22:02:04.085Z"
   },
   {
    "duration": 357,
    "start_time": "2024-11-05T22:02:04.144Z"
   },
   {
    "duration": 3,
    "start_time": "2024-11-05T22:02:18.400Z"
   },
   {
    "duration": 512,
    "start_time": "2024-11-05T22:05:10.553Z"
   },
   {
    "duration": 177,
    "start_time": "2024-11-05T22:05:11.067Z"
   },
   {
    "duration": 49,
    "start_time": "2024-11-05T22:05:11.246Z"
   },
   {
    "duration": 11,
    "start_time": "2024-11-05T22:05:11.297Z"
   },
   {
    "duration": 11,
    "start_time": "2024-11-05T22:05:11.310Z"
   },
   {
    "duration": 778,
    "start_time": "2024-11-05T22:05:11.323Z"
   },
   {
    "duration": 2,
    "start_time": "2024-11-05T22:05:12.105Z"
   },
   {
    "duration": 13,
    "start_time": "2024-11-05T22:05:12.108Z"
   },
   {
    "duration": 144,
    "start_time": "2024-11-05T22:05:12.123Z"
   },
   {
    "duration": 10,
    "start_time": "2024-11-05T22:05:12.269Z"
   },
   {
    "duration": 127,
    "start_time": "2024-11-05T22:05:12.281Z"
   },
   {
    "duration": 155,
    "start_time": "2024-11-05T22:05:12.410Z"
   },
   {
    "duration": 32,
    "start_time": "2024-11-05T22:05:12.567Z"
   },
   {
    "duration": 11,
    "start_time": "2024-11-05T22:05:12.602Z"
   },
   {
    "duration": 36,
    "start_time": "2024-11-05T22:05:12.614Z"
   },
   {
    "duration": 3,
    "start_time": "2024-11-05T22:05:12.652Z"
   },
   {
    "duration": 21,
    "start_time": "2024-11-05T22:05:12.656Z"
   },
   {
    "duration": 4,
    "start_time": "2024-11-05T22:05:12.678Z"
   },
   {
    "duration": 8,
    "start_time": "2024-11-05T22:05:12.684Z"
   },
   {
    "duration": 4,
    "start_time": "2024-11-05T22:05:12.694Z"
   },
   {
    "duration": 5,
    "start_time": "2024-11-05T22:05:12.700Z"
   },
   {
    "duration": 39,
    "start_time": "2024-11-05T22:05:12.706Z"
   },
   {
    "duration": 11,
    "start_time": "2024-11-05T22:05:12.747Z"
   },
   {
    "duration": 3,
    "start_time": "2024-11-05T22:05:12.761Z"
   },
   {
    "duration": 5,
    "start_time": "2024-11-05T22:05:12.766Z"
   },
   {
    "duration": 2,
    "start_time": "2024-11-05T22:05:12.773Z"
   },
   {
    "duration": 9,
    "start_time": "2024-11-05T22:05:12.777Z"
   },
   {
    "duration": 865,
    "start_time": "2024-11-05T22:05:12.788Z"
   },
   {
    "duration": 386,
    "start_time": "2024-11-05T22:05:13.656Z"
   },
   {
    "duration": 2,
    "start_time": "2024-11-05T22:05:14.045Z"
   },
   {
    "duration": 2,
    "start_time": "2024-11-05T22:05:14.049Z"
   },
   {
    "duration": 10,
    "start_time": "2024-11-05T22:05:14.052Z"
   },
   {
    "duration": 2,
    "start_time": "2024-11-05T22:05:14.064Z"
   },
   {
    "duration": 10,
    "start_time": "2024-11-05T22:05:14.068Z"
   },
   {
    "duration": 3,
    "start_time": "2024-11-05T22:05:14.080Z"
   },
   {
    "duration": 2,
    "start_time": "2024-11-05T22:05:14.085Z"
   },
   {
    "duration": 4,
    "start_time": "2024-11-05T22:05:14.089Z"
   },
   {
    "duration": 2,
    "start_time": "2024-11-05T22:05:14.095Z"
   },
   {
    "duration": 55,
    "start_time": "2024-11-05T22:05:14.098Z"
   },
   {
    "duration": 8,
    "start_time": "2024-11-05T22:05:14.155Z"
   },
   {
    "duration": 2,
    "start_time": "2024-11-05T22:05:14.167Z"
   },
   {
    "duration": 13,
    "start_time": "2024-11-05T22:05:14.171Z"
   },
   {
    "duration": 11,
    "start_time": "2024-11-05T22:05:14.185Z"
   },
   {
    "duration": 52,
    "start_time": "2024-11-05T22:05:14.198Z"
   },
   {
    "duration": 4,
    "start_time": "2024-11-05T22:05:14.252Z"
   },
   {
    "duration": 3,
    "start_time": "2024-11-05T22:05:14.257Z"
   },
   {
    "duration": 41,
    "start_time": "2024-11-05T22:05:14.262Z"
   },
   {
    "duration": 8,
    "start_time": "2024-11-05T22:05:14.305Z"
   },
   {
    "duration": 32,
    "start_time": "2024-11-05T22:05:14.315Z"
   },
   {
    "duration": 14,
    "start_time": "2024-11-05T22:05:14.348Z"
   },
   {
    "duration": 4,
    "start_time": "2024-11-05T22:05:14.364Z"
   },
   {
    "duration": 79,
    "start_time": "2024-11-05T22:05:14.370Z"
   },
   {
    "duration": 3,
    "start_time": "2024-11-05T22:05:14.451Z"
   },
   {
    "duration": 4,
    "start_time": "2024-11-05T22:05:14.457Z"
   },
   {
    "duration": 14,
    "start_time": "2024-11-05T22:05:14.463Z"
   },
   {
    "duration": 76,
    "start_time": "2024-11-05T22:05:14.480Z"
   },
   {
    "duration": 55,
    "start_time": "2024-11-05T22:05:14.558Z"
   },
   {
    "duration": 384,
    "start_time": "2024-11-05T22:05:14.615Z"
   },
   {
    "duration": 621,
    "start_time": "2024-11-05T22:05:15.002Z"
   },
   {
    "duration": 2165,
    "start_time": "2024-11-06T02:14:09.719Z"
   },
   {
    "duration": 152,
    "start_time": "2024-11-06T02:14:11.886Z"
   },
   {
    "duration": 59,
    "start_time": "2024-11-06T02:14:12.042Z"
   },
   {
    "duration": 15,
    "start_time": "2024-11-06T02:14:12.103Z"
   },
   {
    "duration": 14,
    "start_time": "2024-11-06T02:14:12.120Z"
   },
   {
    "duration": 854,
    "start_time": "2024-11-06T02:14:12.135Z"
   },
   {
    "duration": 2,
    "start_time": "2024-11-06T02:14:12.991Z"
   },
   {
    "duration": 10,
    "start_time": "2024-11-06T02:14:12.995Z"
   },
   {
    "duration": 106,
    "start_time": "2024-11-06T02:14:13.007Z"
   },
   {
    "duration": 10,
    "start_time": "2024-11-06T02:14:13.114Z"
   },
   {
    "duration": 128,
    "start_time": "2024-11-06T02:14:13.126Z"
   },
   {
    "duration": 134,
    "start_time": "2024-11-06T02:14:13.256Z"
   },
   {
    "duration": 28,
    "start_time": "2024-11-06T02:14:13.392Z"
   },
   {
    "duration": 24,
    "start_time": "2024-11-06T02:14:13.424Z"
   },
   {
    "duration": 15,
    "start_time": "2024-11-06T02:14:13.450Z"
   },
   {
    "duration": 3,
    "start_time": "2024-11-06T02:14:13.467Z"
   },
   {
    "duration": 17,
    "start_time": "2024-11-06T02:14:13.472Z"
   },
   {
    "duration": 3,
    "start_time": "2024-11-06T02:14:13.491Z"
   },
   {
    "duration": 9,
    "start_time": "2024-11-06T02:14:13.495Z"
   },
   {
    "duration": 3,
    "start_time": "2024-11-06T02:14:13.506Z"
   },
   {
    "duration": 5,
    "start_time": "2024-11-06T02:14:13.543Z"
   },
   {
    "duration": 3,
    "start_time": "2024-11-06T02:14:13.549Z"
   },
   {
    "duration": 9,
    "start_time": "2024-11-06T02:14:13.553Z"
   },
   {
    "duration": 4,
    "start_time": "2024-11-06T02:14:13.563Z"
   },
   {
    "duration": 4,
    "start_time": "2024-11-06T02:14:13.569Z"
   },
   {
    "duration": 2,
    "start_time": "2024-11-06T02:14:13.575Z"
   },
   {
    "duration": 8,
    "start_time": "2024-11-06T02:14:13.579Z"
   },
   {
    "duration": 773,
    "start_time": "2024-11-06T02:14:13.588Z"
   },
   {
    "duration": 312,
    "start_time": "2024-11-06T02:14:14.362Z"
   },
   {
    "duration": 2,
    "start_time": "2024-11-06T02:14:14.676Z"
   },
   {
    "duration": 2,
    "start_time": "2024-11-06T02:14:14.680Z"
   },
   {
    "duration": 10,
    "start_time": "2024-11-06T02:14:14.683Z"
   },
   {
    "duration": 2,
    "start_time": "2024-11-06T02:14:14.694Z"
   },
   {
    "duration": 10,
    "start_time": "2024-11-06T02:14:14.698Z"
   },
   {
    "duration": 34,
    "start_time": "2024-11-06T02:14:14.710Z"
   },
   {
    "duration": 3,
    "start_time": "2024-11-06T02:14:14.745Z"
   },
   {
    "duration": 4,
    "start_time": "2024-11-06T02:14:14.749Z"
   },
   {
    "duration": 3,
    "start_time": "2024-11-06T02:14:14.754Z"
   },
   {
    "duration": 9,
    "start_time": "2024-11-06T02:14:14.759Z"
   },
   {
    "duration": 9,
    "start_time": "2024-11-06T02:14:14.769Z"
   },
   {
    "duration": 2,
    "start_time": "2024-11-06T02:14:14.783Z"
   },
   {
    "duration": 11,
    "start_time": "2024-11-06T02:14:14.787Z"
   },
   {
    "duration": 10,
    "start_time": "2024-11-06T02:14:14.843Z"
   },
   {
    "duration": 19,
    "start_time": "2024-11-06T02:14:14.854Z"
   },
   {
    "duration": 4,
    "start_time": "2024-11-06T02:14:14.875Z"
   },
   {
    "duration": 2,
    "start_time": "2024-11-06T02:14:14.881Z"
   },
   {
    "duration": 64,
    "start_time": "2024-11-06T02:14:14.885Z"
   },
   {
    "duration": 9,
    "start_time": "2024-11-06T02:14:14.951Z"
   },
   {
    "duration": 5,
    "start_time": "2024-11-06T02:14:14.962Z"
   },
   {
    "duration": 13,
    "start_time": "2024-11-06T02:14:14.968Z"
   },
   {
    "duration": 4,
    "start_time": "2024-11-06T02:14:14.982Z"
   },
   {
    "duration": 90,
    "start_time": "2024-11-06T02:14:14.988Z"
   },
   {
    "duration": 4,
    "start_time": "2024-11-06T02:14:15.080Z"
   },
   {
    "duration": 3,
    "start_time": "2024-11-06T02:14:15.087Z"
   },
   {
    "duration": 15,
    "start_time": "2024-11-06T02:14:15.092Z"
   },
   {
    "duration": 80,
    "start_time": "2024-11-06T02:14:15.108Z"
   },
   {
    "duration": 62,
    "start_time": "2024-11-06T02:14:15.190Z"
   },
   {
    "duration": 354,
    "start_time": "2024-11-06T02:14:15.253Z"
   },
   {
    "duration": 430,
    "start_time": "2024-11-06T02:20:18.729Z"
   },
   {
    "duration": 182,
    "start_time": "2024-11-06T02:20:19.161Z"
   },
   {
    "duration": 59,
    "start_time": "2024-11-06T02:20:19.345Z"
   },
   {
    "duration": 9,
    "start_time": "2024-11-06T02:20:19.406Z"
   },
   {
    "duration": 9,
    "start_time": "2024-11-06T02:20:19.418Z"
   },
   {
    "duration": 792,
    "start_time": "2024-11-06T02:20:19.429Z"
   },
   {
    "duration": 2,
    "start_time": "2024-11-06T02:20:20.223Z"
   },
   {
    "duration": 5,
    "start_time": "2024-11-06T02:20:20.227Z"
   },
   {
    "duration": 0,
    "start_time": "2024-11-06T02:20:20.244Z"
   },
   {
    "duration": 0,
    "start_time": "2024-11-06T02:20:20.245Z"
   },
   {
    "duration": 0,
    "start_time": "2024-11-06T02:20:20.246Z"
   },
   {
    "duration": 0,
    "start_time": "2024-11-06T02:20:20.247Z"
   },
   {
    "duration": 0,
    "start_time": "2024-11-06T02:20:20.248Z"
   },
   {
    "duration": 0,
    "start_time": "2024-11-06T02:20:20.250Z"
   },
   {
    "duration": 0,
    "start_time": "2024-11-06T02:20:20.251Z"
   },
   {
    "duration": 0,
    "start_time": "2024-11-06T02:20:20.251Z"
   },
   {
    "duration": 0,
    "start_time": "2024-11-06T02:20:20.253Z"
   },
   {
    "duration": 0,
    "start_time": "2024-11-06T02:20:20.254Z"
   },
   {
    "duration": 0,
    "start_time": "2024-11-06T02:20:20.254Z"
   },
   {
    "duration": 0,
    "start_time": "2024-11-06T02:20:20.256Z"
   },
   {
    "duration": 0,
    "start_time": "2024-11-06T02:20:20.257Z"
   },
   {
    "duration": 0,
    "start_time": "2024-11-06T02:20:20.258Z"
   },
   {
    "duration": 0,
    "start_time": "2024-11-06T02:20:20.259Z"
   },
   {
    "duration": 0,
    "start_time": "2024-11-06T02:20:20.259Z"
   },
   {
    "duration": 0,
    "start_time": "2024-11-06T02:20:20.260Z"
   },
   {
    "duration": 0,
    "start_time": "2024-11-06T02:20:20.261Z"
   },
   {
    "duration": 0,
    "start_time": "2024-11-06T02:20:20.262Z"
   },
   {
    "duration": 0,
    "start_time": "2024-11-06T02:20:20.263Z"
   },
   {
    "duration": 0,
    "start_time": "2024-11-06T02:20:20.264Z"
   },
   {
    "duration": 0,
    "start_time": "2024-11-06T02:20:20.265Z"
   },
   {
    "duration": 0,
    "start_time": "2024-11-06T02:20:20.267Z"
   },
   {
    "duration": 0,
    "start_time": "2024-11-06T02:20:20.270Z"
   },
   {
    "duration": 0,
    "start_time": "2024-11-06T02:20:20.271Z"
   },
   {
    "duration": 0,
    "start_time": "2024-11-06T02:20:20.272Z"
   },
   {
    "duration": 0,
    "start_time": "2024-11-06T02:20:20.273Z"
   },
   {
    "duration": 0,
    "start_time": "2024-11-06T02:20:20.275Z"
   },
   {
    "duration": 0,
    "start_time": "2024-11-06T02:20:20.276Z"
   },
   {
    "duration": 0,
    "start_time": "2024-11-06T02:20:20.277Z"
   },
   {
    "duration": 0,
    "start_time": "2024-11-06T02:20:20.277Z"
   },
   {
    "duration": 0,
    "start_time": "2024-11-06T02:20:20.279Z"
   },
   {
    "duration": 0,
    "start_time": "2024-11-06T02:20:20.280Z"
   },
   {
    "duration": 0,
    "start_time": "2024-11-06T02:20:20.281Z"
   },
   {
    "duration": 0,
    "start_time": "2024-11-06T02:20:20.281Z"
   },
   {
    "duration": 0,
    "start_time": "2024-11-06T02:20:20.282Z"
   },
   {
    "duration": 0,
    "start_time": "2024-11-06T02:20:20.283Z"
   },
   {
    "duration": 0,
    "start_time": "2024-11-06T02:20:20.284Z"
   },
   {
    "duration": 0,
    "start_time": "2024-11-06T02:20:20.285Z"
   },
   {
    "duration": 0,
    "start_time": "2024-11-06T02:20:20.286Z"
   },
   {
    "duration": 0,
    "start_time": "2024-11-06T02:20:20.343Z"
   },
   {
    "duration": 0,
    "start_time": "2024-11-06T02:20:20.344Z"
   },
   {
    "duration": 0,
    "start_time": "2024-11-06T02:20:20.345Z"
   },
   {
    "duration": 0,
    "start_time": "2024-11-06T02:20:20.346Z"
   },
   {
    "duration": 0,
    "start_time": "2024-11-06T02:20:20.347Z"
   },
   {
    "duration": 0,
    "start_time": "2024-11-06T02:20:20.349Z"
   },
   {
    "duration": 0,
    "start_time": "2024-11-06T02:20:20.350Z"
   },
   {
    "duration": 0,
    "start_time": "2024-11-06T02:20:20.351Z"
   },
   {
    "duration": 0,
    "start_time": "2024-11-06T02:20:20.352Z"
   },
   {
    "duration": 0,
    "start_time": "2024-11-06T02:20:20.354Z"
   },
   {
    "duration": 10,
    "start_time": "2024-11-06T02:20:58.697Z"
   },
   {
    "duration": 399,
    "start_time": "2024-11-06T02:21:33.719Z"
   },
   {
    "duration": 166,
    "start_time": "2024-11-06T02:21:34.120Z"
   },
   {
    "duration": 43,
    "start_time": "2024-11-06T02:21:34.288Z"
   },
   {
    "duration": 17,
    "start_time": "2024-11-06T02:21:34.333Z"
   },
   {
    "duration": 9,
    "start_time": "2024-11-06T02:21:34.352Z"
   },
   {
    "duration": 718,
    "start_time": "2024-11-06T02:21:34.362Z"
   },
   {
    "duration": 2,
    "start_time": "2024-11-06T02:21:35.082Z"
   },
   {
    "duration": 11,
    "start_time": "2024-11-06T02:21:35.086Z"
   },
   {
    "duration": 113,
    "start_time": "2024-11-06T02:21:35.099Z"
   },
   {
    "duration": 9,
    "start_time": "2024-11-06T02:21:35.214Z"
   },
   {
    "duration": 125,
    "start_time": "2024-11-06T02:21:35.225Z"
   },
   {
    "duration": 139,
    "start_time": "2024-11-06T02:21:35.352Z"
   },
   {
    "duration": 27,
    "start_time": "2024-11-06T02:21:35.493Z"
   },
   {
    "duration": 23,
    "start_time": "2024-11-06T02:21:35.524Z"
   },
   {
    "duration": 13,
    "start_time": "2024-11-06T02:21:35.548Z"
   },
   {
    "duration": 4,
    "start_time": "2024-11-06T02:21:35.562Z"
   },
   {
    "duration": 19,
    "start_time": "2024-11-06T02:21:35.568Z"
   },
   {
    "duration": 4,
    "start_time": "2024-11-06T02:21:35.589Z"
   },
   {
    "duration": 9,
    "start_time": "2024-11-06T02:21:35.595Z"
   },
   {
    "duration": 5,
    "start_time": "2024-11-06T02:21:35.642Z"
   },
   {
    "duration": 5,
    "start_time": "2024-11-06T02:21:35.648Z"
   },
   {
    "duration": 3,
    "start_time": "2024-11-06T02:21:35.655Z"
   },
   {
    "duration": 11,
    "start_time": "2024-11-06T02:21:35.659Z"
   },
   {
    "duration": 4,
    "start_time": "2024-11-06T02:21:35.671Z"
   },
   {
    "duration": 4,
    "start_time": "2024-11-06T02:21:35.677Z"
   },
   {
    "duration": 3,
    "start_time": "2024-11-06T02:21:35.683Z"
   },
   {
    "duration": 8,
    "start_time": "2024-11-06T02:21:35.687Z"
   },
   {
    "duration": 776,
    "start_time": "2024-11-06T02:21:35.696Z"
   },
   {
    "duration": 311,
    "start_time": "2024-11-06T02:21:36.474Z"
   },
   {
    "duration": 3,
    "start_time": "2024-11-06T02:21:36.787Z"
   },
   {
    "duration": 4,
    "start_time": "2024-11-06T02:21:36.791Z"
   },
   {
    "duration": 9,
    "start_time": "2024-11-06T02:21:36.797Z"
   },
   {
    "duration": 2,
    "start_time": "2024-11-06T02:21:36.807Z"
   },
   {
    "duration": 33,
    "start_time": "2024-11-06T02:21:36.811Z"
   },
   {
    "duration": 4,
    "start_time": "2024-11-06T02:21:36.845Z"
   },
   {
    "duration": 3,
    "start_time": "2024-11-06T02:21:36.850Z"
   },
   {
    "duration": 4,
    "start_time": "2024-11-06T02:21:36.855Z"
   },
   {
    "duration": 2,
    "start_time": "2024-11-06T02:21:36.861Z"
   },
   {
    "duration": 9,
    "start_time": "2024-11-06T02:21:36.865Z"
   },
   {
    "duration": 7,
    "start_time": "2024-11-06T02:21:36.875Z"
   },
   {
    "duration": 1,
    "start_time": "2024-11-06T02:21:36.889Z"
   },
   {
    "duration": 51,
    "start_time": "2024-11-06T02:21:36.892Z"
   },
   {
    "duration": 9,
    "start_time": "2024-11-06T02:21:36.945Z"
   },
   {
    "duration": 18,
    "start_time": "2024-11-06T02:21:36.956Z"
   },
   {
    "duration": 3,
    "start_time": "2024-11-06T02:21:36.976Z"
   },
   {
    "duration": 2,
    "start_time": "2024-11-06T02:21:36.981Z"
   },
   {
    "duration": 64,
    "start_time": "2024-11-06T02:21:36.985Z"
   },
   {
    "duration": 10,
    "start_time": "2024-11-06T02:21:37.051Z"
   },
   {
    "duration": 7,
    "start_time": "2024-11-06T02:21:37.063Z"
   },
   {
    "duration": 13,
    "start_time": "2024-11-06T02:21:37.072Z"
   },
   {
    "duration": 4,
    "start_time": "2024-11-06T02:21:37.088Z"
   },
   {
    "duration": 112,
    "start_time": "2024-11-06T02:21:37.094Z"
   },
   {
    "duration": 5,
    "start_time": "2024-11-06T02:21:37.208Z"
   },
   {
    "duration": 5,
    "start_time": "2024-11-06T02:21:37.215Z"
   },
   {
    "duration": 33,
    "start_time": "2024-11-06T02:21:37.222Z"
   },
   {
    "duration": 54,
    "start_time": "2024-11-06T02:21:37.257Z"
   },
   {
    "duration": 94,
    "start_time": "2024-11-06T02:21:37.314Z"
   },
   {
    "duration": 357,
    "start_time": "2024-11-06T02:21:37.411Z"
   },
   {
    "duration": 3,
    "start_time": "2024-11-06T02:22:32.778Z"
   },
   {
    "duration": 135,
    "start_time": "2024-11-06T02:23:00.398Z"
   },
   {
    "duration": 5,
    "start_time": "2024-11-06T02:23:35.138Z"
   },
   {
    "duration": 113,
    "start_time": "2024-11-06T02:23:41.290Z"
   },
   {
    "duration": 426,
    "start_time": "2024-11-06T02:23:53.840Z"
   },
   {
    "duration": 164,
    "start_time": "2024-11-06T02:23:54.268Z"
   },
   {
    "duration": 42,
    "start_time": "2024-11-06T02:23:54.433Z"
   },
   {
    "duration": 9,
    "start_time": "2024-11-06T02:23:54.477Z"
   },
   {
    "duration": 9,
    "start_time": "2024-11-06T02:23:54.488Z"
   },
   {
    "duration": 750,
    "start_time": "2024-11-06T02:23:54.499Z"
   },
   {
    "duration": 2,
    "start_time": "2024-11-06T02:23:55.251Z"
   },
   {
    "duration": 12,
    "start_time": "2024-11-06T02:23:55.255Z"
   },
   {
    "duration": 106,
    "start_time": "2024-11-06T02:23:55.268Z"
   },
   {
    "duration": 9,
    "start_time": "2024-11-06T02:23:55.375Z"
   },
   {
    "duration": 119,
    "start_time": "2024-11-06T02:23:55.385Z"
   },
   {
    "duration": 138,
    "start_time": "2024-11-06T02:23:55.505Z"
   },
   {
    "duration": 30,
    "start_time": "2024-11-06T02:23:55.644Z"
   },
   {
    "duration": 10,
    "start_time": "2024-11-06T02:23:55.677Z"
   },
   {
    "duration": 12,
    "start_time": "2024-11-06T02:23:55.688Z"
   },
   {
    "duration": 3,
    "start_time": "2024-11-06T02:23:55.701Z"
   },
   {
    "duration": 47,
    "start_time": "2024-11-06T02:23:55.706Z"
   },
   {
    "duration": 4,
    "start_time": "2024-11-06T02:23:55.755Z"
   },
   {
    "duration": 11,
    "start_time": "2024-11-06T02:23:55.760Z"
   },
   {
    "duration": 4,
    "start_time": "2024-11-06T02:23:55.773Z"
   },
   {
    "duration": 5,
    "start_time": "2024-11-06T02:23:55.779Z"
   },
   {
    "duration": 3,
    "start_time": "2024-11-06T02:23:55.786Z"
   },
   {
    "duration": 10,
    "start_time": "2024-11-06T02:23:55.790Z"
   },
   {
    "duration": 42,
    "start_time": "2024-11-06T02:23:55.802Z"
   },
   {
    "duration": 5,
    "start_time": "2024-11-06T02:23:55.846Z"
   },
   {
    "duration": 4,
    "start_time": "2024-11-06T02:23:55.852Z"
   },
   {
    "duration": 8,
    "start_time": "2024-11-06T02:23:55.858Z"
   },
   {
    "duration": 789,
    "start_time": "2024-11-06T02:23:55.868Z"
   },
   {
    "duration": 316,
    "start_time": "2024-11-06T02:23:56.661Z"
   },
   {
    "duration": 3,
    "start_time": "2024-11-06T02:23:56.979Z"
   },
   {
    "duration": 2,
    "start_time": "2024-11-06T02:23:56.984Z"
   },
   {
    "duration": 9,
    "start_time": "2024-11-06T02:23:56.988Z"
   },
   {
    "duration": 3,
    "start_time": "2024-11-06T02:23:56.998Z"
   },
   {
    "duration": 11,
    "start_time": "2024-11-06T02:23:57.002Z"
   },
   {
    "duration": 4,
    "start_time": "2024-11-06T02:23:57.042Z"
   },
   {
    "duration": 3,
    "start_time": "2024-11-06T02:23:57.048Z"
   },
   {
    "duration": 4,
    "start_time": "2024-11-06T02:23:57.053Z"
   },
   {
    "duration": 3,
    "start_time": "2024-11-06T02:23:57.058Z"
   },
   {
    "duration": 11,
    "start_time": "2024-11-06T02:23:57.063Z"
   },
   {
    "duration": 9,
    "start_time": "2024-11-06T02:23:57.076Z"
   },
   {
    "duration": 2,
    "start_time": "2024-11-06T02:23:57.090Z"
   },
   {
    "duration": 56,
    "start_time": "2024-11-06T02:23:57.094Z"
   },
   {
    "duration": 10,
    "start_time": "2024-11-06T02:23:57.152Z"
   },
   {
    "duration": 20,
    "start_time": "2024-11-06T02:23:57.164Z"
   },
   {
    "duration": 3,
    "start_time": "2024-11-06T02:23:57.188Z"
   },
   {
    "duration": 3,
    "start_time": "2024-11-06T02:23:57.192Z"
   },
   {
    "duration": 64,
    "start_time": "2024-11-06T02:23:57.196Z"
   },
   {
    "duration": 8,
    "start_time": "2024-11-06T02:23:57.262Z"
   },
   {
    "duration": 5,
    "start_time": "2024-11-06T02:23:57.272Z"
   },
   {
    "duration": 13,
    "start_time": "2024-11-06T02:23:57.278Z"
   },
   {
    "duration": 4,
    "start_time": "2024-11-06T02:23:57.292Z"
   },
   {
    "duration": 84,
    "start_time": "2024-11-06T02:23:57.297Z"
   },
   {
    "duration": 4,
    "start_time": "2024-11-06T02:23:57.383Z"
   },
   {
    "duration": 4,
    "start_time": "2024-11-06T02:23:57.389Z"
   },
   {
    "duration": 14,
    "start_time": "2024-11-06T02:23:57.395Z"
   },
   {
    "duration": 75,
    "start_time": "2024-11-06T02:23:57.411Z"
   },
   {
    "duration": 60,
    "start_time": "2024-11-06T02:23:57.488Z"
   },
   {
    "duration": 355,
    "start_time": "2024-11-06T02:23:57.550Z"
   },
   {
    "duration": 28,
    "start_time": "2024-11-06T02:26:09.210Z"
   },
   {
    "duration": 122,
    "start_time": "2024-11-06T02:27:32.947Z"
   },
   {
    "duration": 22,
    "start_time": "2024-11-06T02:28:09.220Z"
   },
   {
    "duration": 13,
    "start_time": "2024-11-06T02:29:21.620Z"
   },
   {
    "duration": 12,
    "start_time": "2024-11-06T02:30:32.949Z"
   },
   {
    "duration": 417,
    "start_time": "2024-11-06T02:38:38.825Z"
   },
   {
    "duration": 169,
    "start_time": "2024-11-06T02:38:39.245Z"
   },
   {
    "duration": 50,
    "start_time": "2024-11-06T02:38:39.416Z"
   },
   {
    "duration": 9,
    "start_time": "2024-11-06T02:38:39.468Z"
   },
   {
    "duration": 10,
    "start_time": "2024-11-06T02:38:39.480Z"
   },
   {
    "duration": 764,
    "start_time": "2024-11-06T02:38:39.492Z"
   },
   {
    "duration": 3,
    "start_time": "2024-11-06T02:38:40.257Z"
   },
   {
    "duration": 11,
    "start_time": "2024-11-06T02:38:40.261Z"
   },
   {
    "duration": 113,
    "start_time": "2024-11-06T02:38:40.274Z"
   },
   {
    "duration": 12,
    "start_time": "2024-11-06T02:38:40.389Z"
   },
   {
    "duration": 134,
    "start_time": "2024-11-06T02:38:40.403Z"
   },
   {
    "duration": 157,
    "start_time": "2024-11-06T02:38:40.539Z"
   },
   {
    "duration": 34,
    "start_time": "2024-11-06T02:38:40.697Z"
   },
   {
    "duration": 13,
    "start_time": "2024-11-06T02:38:40.749Z"
   },
   {
    "duration": 13,
    "start_time": "2024-11-06T02:38:40.766Z"
   },
   {
    "duration": 4,
    "start_time": "2024-11-06T02:38:40.781Z"
   },
   {
    "duration": 22,
    "start_time": "2024-11-06T02:38:40.787Z"
   },
   {
    "duration": 31,
    "start_time": "2024-11-06T02:38:40.812Z"
   },
   {
    "duration": 11,
    "start_time": "2024-11-06T02:38:40.846Z"
   },
   {
    "duration": 4,
    "start_time": "2024-11-06T02:38:40.859Z"
   },
   {
    "duration": 6,
    "start_time": "2024-11-06T02:38:40.864Z"
   },
   {
    "duration": 2,
    "start_time": "2024-11-06T02:38:40.872Z"
   },
   {
    "duration": 11,
    "start_time": "2024-11-06T02:38:40.876Z"
   },
   {
    "duration": 4,
    "start_time": "2024-11-06T02:38:40.888Z"
   },
   {
    "duration": 5,
    "start_time": "2024-11-06T02:38:40.893Z"
   },
   {
    "duration": 2,
    "start_time": "2024-11-06T02:38:40.900Z"
   },
   {
    "duration": 49,
    "start_time": "2024-11-06T02:38:40.904Z"
   },
   {
    "duration": 833,
    "start_time": "2024-11-06T02:38:40.955Z"
   },
   {
    "duration": 373,
    "start_time": "2024-11-06T02:38:41.791Z"
   },
   {
    "duration": 2,
    "start_time": "2024-11-06T02:38:42.166Z"
   },
   {
    "duration": 2,
    "start_time": "2024-11-06T02:38:42.170Z"
   },
   {
    "duration": 9,
    "start_time": "2024-11-06T02:38:42.174Z"
   },
   {
    "duration": 3,
    "start_time": "2024-11-06T02:38:42.184Z"
   },
   {
    "duration": 12,
    "start_time": "2024-11-06T02:38:42.188Z"
   },
   {
    "duration": 4,
    "start_time": "2024-11-06T02:38:42.202Z"
   },
   {
    "duration": 2,
    "start_time": "2024-11-06T02:38:42.207Z"
   },
   {
    "duration": 34,
    "start_time": "2024-11-06T02:38:42.211Z"
   },
   {
    "duration": 3,
    "start_time": "2024-11-06T02:38:42.247Z"
   },
   {
    "duration": 10,
    "start_time": "2024-11-06T02:38:42.252Z"
   },
   {
    "duration": 9,
    "start_time": "2024-11-06T02:38:42.263Z"
   },
   {
    "duration": 2,
    "start_time": "2024-11-06T02:38:42.277Z"
   },
   {
    "duration": 12,
    "start_time": "2024-11-06T02:38:42.280Z"
   },
   {
    "duration": 54,
    "start_time": "2024-11-06T02:38:42.294Z"
   },
   {
    "duration": 20,
    "start_time": "2024-11-06T02:38:42.350Z"
   },
   {
    "duration": 4,
    "start_time": "2024-11-06T02:38:42.372Z"
   },
   {
    "duration": 2,
    "start_time": "2024-11-06T02:38:42.378Z"
   },
   {
    "duration": 67,
    "start_time": "2024-11-06T02:38:42.382Z"
   },
   {
    "duration": 15,
    "start_time": "2024-11-06T02:38:42.454Z"
   },
   {
    "duration": 10,
    "start_time": "2024-11-06T02:38:42.473Z"
   },
   {
    "duration": 15,
    "start_time": "2024-11-06T02:38:42.485Z"
   },
   {
    "duration": 5,
    "start_time": "2024-11-06T02:38:42.502Z"
   },
   {
    "duration": 75,
    "start_time": "2024-11-06T02:38:42.509Z"
   },
   {
    "duration": 4,
    "start_time": "2024-11-06T02:38:42.586Z"
   },
   {
    "duration": 3,
    "start_time": "2024-11-06T02:38:42.592Z"
   },
   {
    "duration": 14,
    "start_time": "2024-11-06T02:38:42.597Z"
   },
   {
    "duration": 73,
    "start_time": "2024-11-06T02:38:42.613Z"
   },
   {
    "duration": 64,
    "start_time": "2024-11-06T02:38:42.689Z"
   },
   {
    "duration": 381,
    "start_time": "2024-11-06T02:38:42.755Z"
   },
   {
    "duration": 25,
    "start_time": "2024-11-06T02:39:30.621Z"
   },
   {
    "duration": 4,
    "start_time": "2024-11-06T02:39:35.711Z"
   },
   {
    "duration": 19,
    "start_time": "2024-11-06T02:41:28.524Z"
   },
   {
    "duration": 20,
    "start_time": "2024-11-06T02:41:38.051Z"
   },
   {
    "duration": 19,
    "start_time": "2024-11-06T02:42:06.167Z"
   },
   {
    "duration": 9,
    "start_time": "2024-11-06T02:45:49.660Z"
   },
   {
    "duration": 11,
    "start_time": "2024-11-06T02:46:03.959Z"
   },
   {
    "duration": 10,
    "start_time": "2024-11-06T02:46:16.219Z"
   },
   {
    "duration": 4,
    "start_time": "2024-11-06T02:48:43.942Z"
   },
   {
    "duration": 5,
    "start_time": "2024-11-06T02:51:58.956Z"
   },
   {
    "duration": 5,
    "start_time": "2024-11-06T02:54:41.936Z"
   },
   {
    "duration": 10,
    "start_time": "2024-11-06T02:55:43.958Z"
   },
   {
    "duration": 4,
    "start_time": "2024-11-06T02:56:35.619Z"
   },
   {
    "duration": 4,
    "start_time": "2024-11-06T02:56:41.322Z"
   },
   {
    "duration": 6,
    "start_time": "2024-11-06T02:57:39.655Z"
   },
   {
    "duration": 5,
    "start_time": "2024-11-06T02:58:37.916Z"
   },
   {
    "duration": 12,
    "start_time": "2024-11-06T02:59:03.900Z"
   },
   {
    "duration": 10,
    "start_time": "2024-11-06T02:59:54.014Z"
   },
   {
    "duration": 13,
    "start_time": "2024-11-06T03:05:28.264Z"
   },
   {
    "duration": 56,
    "start_time": "2024-11-06T03:13:39.502Z"
   },
   {
    "duration": 83,
    "start_time": "2024-11-06T03:14:40.915Z"
   },
   {
    "duration": 69,
    "start_time": "2024-11-06T03:19:33.385Z"
   },
   {
    "duration": 31,
    "start_time": "2024-11-06T03:20:07.222Z"
   },
   {
    "duration": 32,
    "start_time": "2024-11-06T03:21:01.207Z"
   },
   {
    "duration": 31,
    "start_time": "2024-11-06T03:21:08.067Z"
   },
   {
    "duration": 10,
    "start_time": "2024-11-06T03:23:37.501Z"
   },
   {
    "duration": 10,
    "start_time": "2024-11-06T03:28:37.199Z"
   },
   {
    "duration": 10,
    "start_time": "2024-11-06T03:29:49.294Z"
   },
   {
    "duration": 10,
    "start_time": "2024-11-06T03:30:14.644Z"
   },
   {
    "duration": 411,
    "start_time": "2024-11-06T03:30:28.507Z"
   },
   {
    "duration": 171,
    "start_time": "2024-11-06T03:30:28.920Z"
   },
   {
    "duration": 43,
    "start_time": "2024-11-06T03:30:29.094Z"
   },
   {
    "duration": 10,
    "start_time": "2024-11-06T03:30:29.142Z"
   },
   {
    "duration": 10,
    "start_time": "2024-11-06T03:30:29.155Z"
   },
   {
    "duration": 735,
    "start_time": "2024-11-06T03:30:29.167Z"
   },
   {
    "duration": 2,
    "start_time": "2024-11-06T03:30:29.904Z"
   },
   {
    "duration": 11,
    "start_time": "2024-11-06T03:30:29.908Z"
   },
   {
    "duration": 120,
    "start_time": "2024-11-06T03:30:29.921Z"
   },
   {
    "duration": 13,
    "start_time": "2024-11-06T03:30:30.043Z"
   },
   {
    "duration": 124,
    "start_time": "2024-11-06T03:30:30.058Z"
   },
   {
    "duration": 141,
    "start_time": "2024-11-06T03:30:30.184Z"
   },
   {
    "duration": 38,
    "start_time": "2024-11-06T03:30:30.327Z"
   },
   {
    "duration": 10,
    "start_time": "2024-11-06T03:30:30.368Z"
   },
   {
    "duration": 11,
    "start_time": "2024-11-06T03:30:30.380Z"
   },
   {
    "duration": 3,
    "start_time": "2024-11-06T03:30:30.393Z"
   },
   {
    "duration": 17,
    "start_time": "2024-11-06T03:30:30.398Z"
   },
   {
    "duration": 28,
    "start_time": "2024-11-06T03:30:30.416Z"
   },
   {
    "duration": 10,
    "start_time": "2024-11-06T03:30:30.446Z"
   },
   {
    "duration": 4,
    "start_time": "2024-11-06T03:30:30.457Z"
   },
   {
    "duration": 5,
    "start_time": "2024-11-06T03:30:30.463Z"
   },
   {
    "duration": 4,
    "start_time": "2024-11-06T03:30:30.469Z"
   },
   {
    "duration": 21,
    "start_time": "2024-11-06T03:30:30.474Z"
   },
   {
    "duration": 6,
    "start_time": "2024-11-06T03:30:30.497Z"
   },
   {
    "duration": 6,
    "start_time": "2024-11-06T03:30:30.505Z"
   },
   {
    "duration": 3,
    "start_time": "2024-11-06T03:30:30.542Z"
   },
   {
    "duration": 11,
    "start_time": "2024-11-06T03:30:30.547Z"
   },
   {
    "duration": 812,
    "start_time": "2024-11-06T03:30:30.559Z"
   },
   {
    "duration": 109,
    "start_time": "2024-11-06T03:30:31.373Z"
   },
   {
    "duration": 10,
    "start_time": "2024-11-06T03:30:31.483Z"
   },
   {
    "duration": 11,
    "start_time": "2024-11-06T03:30:31.494Z"
   },
   {
    "duration": 3,
    "start_time": "2024-11-06T03:30:31.507Z"
   },
   {
    "duration": 2,
    "start_time": "2024-11-06T03:30:31.512Z"
   },
   {
    "duration": 4,
    "start_time": "2024-11-06T03:30:31.543Z"
   },
   {
    "duration": 2,
    "start_time": "2024-11-06T03:30:31.548Z"
   },
   {
    "duration": 9,
    "start_time": "2024-11-06T03:30:31.552Z"
   },
   {
    "duration": 7,
    "start_time": "2024-11-06T03:30:31.563Z"
   },
   {
    "duration": 3,
    "start_time": "2024-11-06T03:30:31.571Z"
   },
   {
    "duration": 11,
    "start_time": "2024-11-06T03:30:31.575Z"
   },
   {
    "duration": 10,
    "start_time": "2024-11-06T03:30:31.587Z"
   },
   {
    "duration": 62,
    "start_time": "2024-11-06T03:30:31.601Z"
   },
   {
    "duration": 4,
    "start_time": "2024-11-06T03:30:31.664Z"
   },
   {
    "duration": 3,
    "start_time": "2024-11-06T03:30:31.669Z"
   },
   {
    "duration": 44,
    "start_time": "2024-11-06T03:30:31.674Z"
   },
   {
    "duration": 26,
    "start_time": "2024-11-06T03:30:31.720Z"
   },
   {
    "duration": 31,
    "start_time": "2024-11-06T03:30:31.748Z"
   },
   {
    "duration": 17,
    "start_time": "2024-11-06T03:30:31.781Z"
   },
   {
    "duration": 4,
    "start_time": "2024-11-06T03:30:31.800Z"
   },
   {
    "duration": 493,
    "start_time": "2024-11-06T03:30:31.805Z"
   },
   {
    "duration": 3,
    "start_time": "2024-11-06T03:30:32.301Z"
   },
   {
    "duration": 4,
    "start_time": "2024-11-06T03:30:32.306Z"
   },
   {
    "duration": 30,
    "start_time": "2024-11-06T03:30:32.312Z"
   },
   {
    "duration": 49,
    "start_time": "2024-11-06T03:30:32.344Z"
   },
   {
    "duration": 65,
    "start_time": "2024-11-06T03:30:32.395Z"
   },
   {
    "duration": 355,
    "start_time": "2024-11-06T03:30:32.462Z"
   },
   {
    "duration": 4,
    "start_time": "2024-11-06T03:31:24.171Z"
   },
   {
    "duration": 4,
    "start_time": "2024-11-06T03:35:01.034Z"
   },
   {
    "duration": 8,
    "start_time": "2024-11-06T03:36:12.561Z"
   },
   {
    "duration": 7,
    "start_time": "2024-11-06T03:36:46.300Z"
   },
   {
    "duration": 7,
    "start_time": "2024-11-06T03:37:47.909Z"
   },
   {
    "duration": 16,
    "start_time": "2024-11-06T03:38:43.450Z"
   },
   {
    "duration": 5,
    "start_time": "2024-11-06T03:39:30.632Z"
   },
   {
    "duration": 4,
    "start_time": "2024-11-06T03:40:01.874Z"
   },
   {
    "duration": 4,
    "start_time": "2024-11-06T03:40:23.455Z"
   },
   {
    "duration": 4,
    "start_time": "2024-11-06T03:40:47.653Z"
   },
   {
    "duration": 2205,
    "start_time": "2024-11-06T15:25:06.365Z"
   },
   {
    "duration": 156,
    "start_time": "2024-11-06T15:25:08.576Z"
   },
   {
    "duration": 76,
    "start_time": "2024-11-06T15:25:08.735Z"
   },
   {
    "duration": 11,
    "start_time": "2024-11-06T15:25:08.813Z"
   },
   {
    "duration": 11,
    "start_time": "2024-11-06T15:25:08.825Z"
   },
   {
    "duration": 899,
    "start_time": "2024-11-06T15:25:08.839Z"
   },
   {
    "duration": 3,
    "start_time": "2024-11-06T15:25:09.740Z"
   },
   {
    "duration": 15,
    "start_time": "2024-11-06T15:25:09.745Z"
   },
   {
    "duration": 116,
    "start_time": "2024-11-06T15:25:09.773Z"
   },
   {
    "duration": 11,
    "start_time": "2024-11-06T15:25:09.891Z"
   },
   {
    "duration": 127,
    "start_time": "2024-11-06T15:25:09.906Z"
   },
   {
    "duration": 136,
    "start_time": "2024-11-06T15:25:10.035Z"
   },
   {
    "duration": 28,
    "start_time": "2024-11-06T15:25:10.173Z"
   },
   {
    "duration": 10,
    "start_time": "2024-11-06T15:25:10.202Z"
   },
   {
    "duration": 19,
    "start_time": "2024-11-06T15:25:10.214Z"
   },
   {
    "duration": 3,
    "start_time": "2024-11-06T15:25:10.235Z"
   },
   {
    "duration": 48,
    "start_time": "2024-11-06T15:25:10.240Z"
   },
   {
    "duration": 6,
    "start_time": "2024-11-06T15:25:10.289Z"
   },
   {
    "duration": 9,
    "start_time": "2024-11-06T15:25:10.296Z"
   },
   {
    "duration": 4,
    "start_time": "2024-11-06T15:25:10.307Z"
   },
   {
    "duration": 6,
    "start_time": "2024-11-06T15:25:10.314Z"
   },
   {
    "duration": 3,
    "start_time": "2024-11-06T15:25:10.322Z"
   },
   {
    "duration": 49,
    "start_time": "2024-11-06T15:25:10.327Z"
   },
   {
    "duration": 4,
    "start_time": "2024-11-06T15:25:10.377Z"
   },
   {
    "duration": 5,
    "start_time": "2024-11-06T15:25:10.383Z"
   },
   {
    "duration": 2,
    "start_time": "2024-11-06T15:25:10.389Z"
   },
   {
    "duration": 9,
    "start_time": "2024-11-06T15:25:10.396Z"
   },
   {
    "duration": 817,
    "start_time": "2024-11-06T15:25:10.407Z"
   },
   {
    "duration": 108,
    "start_time": "2024-11-06T15:25:11.227Z"
   },
   {
    "duration": 14,
    "start_time": "2024-11-06T15:25:11.337Z"
   },
   {
    "duration": 22,
    "start_time": "2024-11-06T15:25:11.354Z"
   },
   {
    "duration": 4,
    "start_time": "2024-11-06T15:25:11.379Z"
   },
   {
    "duration": 5,
    "start_time": "2024-11-06T15:25:11.385Z"
   },
   {
    "duration": 12,
    "start_time": "2024-11-06T15:25:11.392Z"
   },
   {
    "duration": 9,
    "start_time": "2024-11-06T15:25:11.406Z"
   },
   {
    "duration": 15,
    "start_time": "2024-11-06T15:25:11.417Z"
   },
   {
    "duration": 45,
    "start_time": "2024-11-06T15:25:11.434Z"
   },
   {
    "duration": 21,
    "start_time": "2024-11-06T15:25:11.480Z"
   },
   {
    "duration": 5,
    "start_time": "2024-11-06T15:25:11.503Z"
   },
   {
    "duration": 82,
    "start_time": "2024-11-06T15:25:11.511Z"
   },
   {
    "duration": 7,
    "start_time": "2024-11-06T15:25:11.595Z"
   },
   {
    "duration": 32,
    "start_time": "2024-11-06T15:25:11.604Z"
   },
   {
    "duration": 48,
    "start_time": "2024-11-06T15:25:11.639Z"
   },
   {
    "duration": 5,
    "start_time": "2024-11-06T15:25:11.689Z"
   },
   {
    "duration": 484,
    "start_time": "2024-11-06T15:25:11.696Z"
   },
   {
    "duration": 4,
    "start_time": "2024-11-06T15:25:12.181Z"
   },
   {
    "duration": 4,
    "start_time": "2024-11-06T15:25:12.187Z"
   },
   {
    "duration": 15,
    "start_time": "2024-11-06T15:25:12.192Z"
   },
   {
    "duration": 77,
    "start_time": "2024-11-06T15:25:12.209Z"
   },
   {
    "duration": 90,
    "start_time": "2024-11-06T15:25:12.288Z"
   },
   {
    "duration": 443,
    "start_time": "2024-11-06T15:25:12.380Z"
   },
   {
    "duration": 5,
    "start_time": "2024-11-06T15:26:45.553Z"
   },
   {
    "duration": 186,
    "start_time": "2024-11-06T15:31:37.190Z"
   },
   {
    "duration": 113,
    "start_time": "2024-11-06T15:31:46.900Z"
   },
   {
    "duration": 124,
    "start_time": "2024-11-06T15:32:50.022Z"
   },
   {
    "duration": 160,
    "start_time": "2024-11-06T15:33:00.643Z"
   },
   {
    "duration": 200,
    "start_time": "2024-11-06T15:34:04.681Z"
   },
   {
    "duration": 188,
    "start_time": "2024-11-06T15:34:16.346Z"
   },
   {
    "duration": 136,
    "start_time": "2024-11-06T15:35:28.326Z"
   },
   {
    "duration": 79,
    "start_time": "2024-11-06T15:42:28.046Z"
   },
   {
    "duration": 125,
    "start_time": "2024-11-06T15:43:10.291Z"
   },
   {
    "duration": 427,
    "start_time": "2024-11-06T15:46:13.336Z"
   },
   {
    "duration": 194,
    "start_time": "2024-11-06T15:46:13.765Z"
   },
   {
    "duration": 65,
    "start_time": "2024-11-06T15:46:13.960Z"
   },
   {
    "duration": 10,
    "start_time": "2024-11-06T15:46:14.027Z"
   },
   {
    "duration": 10,
    "start_time": "2024-11-06T15:46:14.040Z"
   },
   {
    "duration": 800,
    "start_time": "2024-11-06T15:46:14.051Z"
   },
   {
    "duration": 2,
    "start_time": "2024-11-06T15:46:14.853Z"
   },
   {
    "duration": 22,
    "start_time": "2024-11-06T15:46:14.857Z"
   },
   {
    "duration": 105,
    "start_time": "2024-11-06T15:46:14.880Z"
   },
   {
    "duration": 11,
    "start_time": "2024-11-06T15:46:14.987Z"
   },
   {
    "duration": 116,
    "start_time": "2024-11-06T15:46:15.000Z"
   },
   {
    "duration": 135,
    "start_time": "2024-11-06T15:46:15.118Z"
   },
   {
    "duration": 35,
    "start_time": "2024-11-06T15:46:15.255Z"
   },
   {
    "duration": 10,
    "start_time": "2024-11-06T15:46:15.294Z"
   },
   {
    "duration": 12,
    "start_time": "2024-11-06T15:46:15.306Z"
   },
   {
    "duration": 3,
    "start_time": "2024-11-06T15:46:15.320Z"
   },
   {
    "duration": 44,
    "start_time": "2024-11-06T15:46:15.326Z"
   },
   {
    "duration": 4,
    "start_time": "2024-11-06T15:46:15.372Z"
   },
   {
    "duration": 9,
    "start_time": "2024-11-06T15:46:15.377Z"
   },
   {
    "duration": 3,
    "start_time": "2024-11-06T15:46:15.388Z"
   },
   {
    "duration": 5,
    "start_time": "2024-11-06T15:46:15.393Z"
   },
   {
    "duration": 2,
    "start_time": "2024-11-06T15:46:15.400Z"
   },
   {
    "duration": 8,
    "start_time": "2024-11-06T15:46:15.404Z"
   },
   {
    "duration": 4,
    "start_time": "2024-11-06T15:46:15.413Z"
   },
   {
    "duration": 5,
    "start_time": "2024-11-06T15:46:15.418Z"
   },
   {
    "duration": 3,
    "start_time": "2024-11-06T15:46:15.469Z"
   },
   {
    "duration": 8,
    "start_time": "2024-11-06T15:46:15.474Z"
   },
   {
    "duration": 796,
    "start_time": "2024-11-06T15:46:15.484Z"
   },
   {
    "duration": 133,
    "start_time": "2024-11-06T15:46:16.282Z"
   },
   {
    "duration": 9,
    "start_time": "2024-11-06T15:46:16.417Z"
   },
   {
    "duration": 12,
    "start_time": "2024-11-06T15:46:16.427Z"
   },
   {
    "duration": 5,
    "start_time": "2024-11-06T15:46:16.440Z"
   },
   {
    "duration": 26,
    "start_time": "2024-11-06T15:46:16.446Z"
   },
   {
    "duration": 8,
    "start_time": "2024-11-06T15:46:16.473Z"
   },
   {
    "duration": 6,
    "start_time": "2024-11-06T15:46:16.483Z"
   },
   {
    "duration": 12,
    "start_time": "2024-11-06T15:46:16.490Z"
   },
   {
    "duration": 10,
    "start_time": "2024-11-06T15:46:16.503Z"
   },
   {
    "duration": 57,
    "start_time": "2024-11-06T15:46:16.514Z"
   },
   {
    "duration": 6,
    "start_time": "2024-11-06T15:46:16.573Z"
   },
   {
    "duration": 42,
    "start_time": "2024-11-06T15:46:16.580Z"
   },
   {
    "duration": 7,
    "start_time": "2024-11-06T15:46:16.627Z"
   },
   {
    "duration": 56,
    "start_time": "2024-11-06T15:46:16.635Z"
   },
   {
    "duration": 17,
    "start_time": "2024-11-06T15:46:16.693Z"
   },
   {
    "duration": 4,
    "start_time": "2024-11-06T15:46:16.712Z"
   },
   {
    "duration": 476,
    "start_time": "2024-11-06T15:46:16.718Z"
   },
   {
    "duration": 4,
    "start_time": "2024-11-06T15:46:17.195Z"
   },
   {
    "duration": 4,
    "start_time": "2024-11-06T15:46:17.200Z"
   },
   {
    "duration": 14,
    "start_time": "2024-11-06T15:46:17.206Z"
   },
   {
    "duration": 69,
    "start_time": "2024-11-06T15:46:17.222Z"
   },
   {
    "duration": 56,
    "start_time": "2024-11-06T15:46:17.293Z"
   },
   {
    "duration": 365,
    "start_time": "2024-11-06T15:46:17.350Z"
   },
   {
    "duration": 134,
    "start_time": "2024-11-06T15:46:17.717Z"
   },
   {
    "duration": 75,
    "start_time": "2024-11-06T15:50:17.927Z"
   },
   {
    "duration": 1025,
    "start_time": "2024-11-06T15:51:41.540Z"
   },
   {
    "duration": 79,
    "start_time": "2024-11-06T15:52:32.237Z"
   },
   {
    "duration": 1076,
    "start_time": "2024-11-06T15:54:26.296Z"
   },
   {
    "duration": 1117,
    "start_time": "2024-11-06T15:55:18.266Z"
   },
   {
    "duration": 1061,
    "start_time": "2024-11-06T15:55:32.606Z"
   },
   {
    "duration": 1062,
    "start_time": "2024-11-06T15:57:53.219Z"
   },
   {
    "duration": 1091,
    "start_time": "2024-11-06T15:58:45.108Z"
   },
   {
    "duration": 1177,
    "start_time": "2024-11-06T15:59:58.107Z"
   },
   {
    "duration": 1028,
    "start_time": "2024-11-06T16:00:38.395Z"
   },
   {
    "duration": 534,
    "start_time": "2024-11-06T16:05:26.536Z"
   },
   {
    "duration": 183,
    "start_time": "2024-11-06T16:05:27.073Z"
   },
   {
    "duration": 52,
    "start_time": "2024-11-06T16:05:27.258Z"
   },
   {
    "duration": 11,
    "start_time": "2024-11-06T16:05:27.312Z"
   },
   {
    "duration": 9,
    "start_time": "2024-11-06T16:05:27.327Z"
   },
   {
    "duration": 740,
    "start_time": "2024-11-06T16:05:27.339Z"
   },
   {
    "duration": 2,
    "start_time": "2024-11-06T16:05:28.082Z"
   },
   {
    "duration": 10,
    "start_time": "2024-11-06T16:05:28.086Z"
   },
   {
    "duration": 113,
    "start_time": "2024-11-06T16:05:28.098Z"
   },
   {
    "duration": 12,
    "start_time": "2024-11-06T16:05:28.212Z"
   },
   {
    "duration": 142,
    "start_time": "2024-11-06T16:05:28.226Z"
   },
   {
    "duration": 140,
    "start_time": "2024-11-06T16:05:28.370Z"
   },
   {
    "duration": 41,
    "start_time": "2024-11-06T16:05:28.512Z"
   },
   {
    "duration": 11,
    "start_time": "2024-11-06T16:05:28.569Z"
   },
   {
    "duration": 18,
    "start_time": "2024-11-06T16:05:28.582Z"
   },
   {
    "duration": 3,
    "start_time": "2024-11-06T16:05:28.602Z"
   },
   {
    "duration": 18,
    "start_time": "2024-11-06T16:05:28.606Z"
   },
   {
    "duration": 4,
    "start_time": "2024-11-06T16:05:28.626Z"
   },
   {
    "duration": 44,
    "start_time": "2024-11-06T16:05:28.631Z"
   },
   {
    "duration": 3,
    "start_time": "2024-11-06T16:05:28.678Z"
   },
   {
    "duration": 6,
    "start_time": "2024-11-06T16:05:28.683Z"
   },
   {
    "duration": 3,
    "start_time": "2024-11-06T16:05:28.691Z"
   },
   {
    "duration": 10,
    "start_time": "2024-11-06T16:05:28.695Z"
   },
   {
    "duration": 4,
    "start_time": "2024-11-06T16:05:28.707Z"
   },
   {
    "duration": 7,
    "start_time": "2024-11-06T16:05:28.715Z"
   },
   {
    "duration": 3,
    "start_time": "2024-11-06T16:05:28.724Z"
   },
   {
    "duration": 9,
    "start_time": "2024-11-06T16:05:28.770Z"
   },
   {
    "duration": 754,
    "start_time": "2024-11-06T16:05:28.781Z"
   },
   {
    "duration": 111,
    "start_time": "2024-11-06T16:05:29.537Z"
   },
   {
    "duration": 21,
    "start_time": "2024-11-06T16:05:29.649Z"
   },
   {
    "duration": 13,
    "start_time": "2024-11-06T16:05:29.671Z"
   },
   {
    "duration": 3,
    "start_time": "2024-11-06T16:05:29.687Z"
   },
   {
    "duration": 3,
    "start_time": "2024-11-06T16:05:29.693Z"
   },
   {
    "duration": 10,
    "start_time": "2024-11-06T16:05:29.698Z"
   },
   {
    "duration": 9,
    "start_time": "2024-11-06T16:05:29.710Z"
   },
   {
    "duration": 14,
    "start_time": "2024-11-06T16:05:29.722Z"
   },
   {
    "duration": 11,
    "start_time": "2024-11-06T16:05:29.771Z"
   },
   {
    "duration": 26,
    "start_time": "2024-11-06T16:05:29.784Z"
   },
   {
    "duration": 4,
    "start_time": "2024-11-06T16:05:29.812Z"
   },
   {
    "duration": 73,
    "start_time": "2024-11-06T16:05:29.817Z"
   },
   {
    "duration": 8,
    "start_time": "2024-11-06T16:05:29.895Z"
   },
   {
    "duration": 47,
    "start_time": "2024-11-06T16:05:29.905Z"
   },
   {
    "duration": 36,
    "start_time": "2024-11-06T16:05:29.954Z"
   },
   {
    "duration": 5,
    "start_time": "2024-11-06T16:05:29.992Z"
   },
   {
    "duration": 472,
    "start_time": "2024-11-06T16:05:29.999Z"
   },
   {
    "duration": 5,
    "start_time": "2024-11-06T16:05:30.473Z"
   },
   {
    "duration": 4,
    "start_time": "2024-11-06T16:05:30.481Z"
   },
   {
    "duration": 17,
    "start_time": "2024-11-06T16:05:30.487Z"
   },
   {
    "duration": 91,
    "start_time": "2024-11-06T16:05:30.506Z"
   },
   {
    "duration": 72,
    "start_time": "2024-11-06T16:05:30.600Z"
   },
   {
    "duration": 362,
    "start_time": "2024-11-06T16:05:30.675Z"
   },
   {
    "duration": 1068,
    "start_time": "2024-11-06T16:05:31.039Z"
   },
   {
    "duration": 1270,
    "start_time": "2024-11-06T16:06:59.433Z"
   },
   {
    "duration": 370,
    "start_time": "2024-11-06T16:07:54.119Z"
   },
   {
    "duration": 376,
    "start_time": "2024-11-06T16:08:14.126Z"
   },
   {
    "duration": 393,
    "start_time": "2024-11-06T16:08:42.717Z"
   },
   {
    "duration": 611,
    "start_time": "2024-11-06T16:08:57.105Z"
   },
   {
    "duration": 523,
    "start_time": "2024-11-06T16:11:54.863Z"
   },
   {
    "duration": 531,
    "start_time": "2024-11-06T16:12:09.748Z"
   },
   {
    "duration": 55,
    "start_time": "2024-11-06T16:16:21.795Z"
   },
   {
    "duration": 365,
    "start_time": "2024-11-06T16:17:58.985Z"
   },
   {
    "duration": 1283,
    "start_time": "2024-11-06T16:18:32.246Z"
   },
   {
    "duration": 1272,
    "start_time": "2024-11-06T16:22:28.784Z"
   },
   {
    "duration": 1260,
    "start_time": "2024-11-06T16:22:40.894Z"
   },
   {
    "duration": 1430,
    "start_time": "2024-11-06T16:23:04.105Z"
   },
   {
    "duration": 1815,
    "start_time": "2024-11-06T16:26:52.648Z"
   },
   {
    "duration": 1335,
    "start_time": "2024-11-06T16:27:13.107Z"
   },
   {
    "duration": 1268,
    "start_time": "2024-11-06T16:27:27.423Z"
   },
   {
    "duration": 1252,
    "start_time": "2024-11-06T16:27:37.841Z"
   },
   {
    "duration": 1407,
    "start_time": "2024-11-06T16:28:27.803Z"
   },
   {
    "duration": 1261,
    "start_time": "2024-11-06T16:30:01.651Z"
   },
   {
    "duration": 1329,
    "start_time": "2024-11-06T16:32:57.190Z"
   },
   {
    "duration": 1278,
    "start_time": "2024-11-06T16:33:04.920Z"
   },
   {
    "duration": 1259,
    "start_time": "2024-11-06T16:35:38.115Z"
   },
   {
    "duration": 1295,
    "start_time": "2024-11-06T16:36:30.491Z"
   },
   {
    "duration": 2145,
    "start_time": "2024-11-06T17:06:34.933Z"
   },
   {
    "duration": 155,
    "start_time": "2024-11-06T17:06:37.080Z"
   },
   {
    "duration": 61,
    "start_time": "2024-11-06T17:06:37.237Z"
   },
   {
    "duration": 9,
    "start_time": "2024-11-06T17:06:37.300Z"
   },
   {
    "duration": 10,
    "start_time": "2024-11-06T17:06:37.312Z"
   },
   {
    "duration": 814,
    "start_time": "2024-11-06T17:06:37.323Z"
   },
   {
    "duration": 2,
    "start_time": "2024-11-06T17:06:38.139Z"
   },
   {
    "duration": 12,
    "start_time": "2024-11-06T17:06:38.143Z"
   },
   {
    "duration": 109,
    "start_time": "2024-11-06T17:06:38.156Z"
   },
   {
    "duration": 13,
    "start_time": "2024-11-06T17:06:38.267Z"
   },
   {
    "duration": 120,
    "start_time": "2024-11-06T17:06:38.281Z"
   },
   {
    "duration": 133,
    "start_time": "2024-11-06T17:06:38.403Z"
   },
   {
    "duration": 30,
    "start_time": "2024-11-06T17:06:38.537Z"
   },
   {
    "duration": 10,
    "start_time": "2024-11-06T17:06:38.571Z"
   },
   {
    "duration": 27,
    "start_time": "2024-11-06T17:06:38.583Z"
   },
   {
    "duration": 4,
    "start_time": "2024-11-06T17:06:38.612Z"
   },
   {
    "duration": 20,
    "start_time": "2024-11-06T17:06:38.617Z"
   },
   {
    "duration": 4,
    "start_time": "2024-11-06T17:06:38.639Z"
   },
   {
    "duration": 10,
    "start_time": "2024-11-06T17:06:38.645Z"
   },
   {
    "duration": 4,
    "start_time": "2024-11-06T17:06:38.657Z"
   },
   {
    "duration": 46,
    "start_time": "2024-11-06T17:06:38.662Z"
   },
   {
    "duration": 2,
    "start_time": "2024-11-06T17:06:38.710Z"
   },
   {
    "duration": 9,
    "start_time": "2024-11-06T17:06:38.714Z"
   },
   {
    "duration": 4,
    "start_time": "2024-11-06T17:06:38.724Z"
   },
   {
    "duration": 5,
    "start_time": "2024-11-06T17:06:38.730Z"
   },
   {
    "duration": 2,
    "start_time": "2024-11-06T17:06:38.737Z"
   },
   {
    "duration": 8,
    "start_time": "2024-11-06T17:06:38.741Z"
   },
   {
    "duration": 780,
    "start_time": "2024-11-06T17:06:38.751Z"
   },
   {
    "duration": 106,
    "start_time": "2024-11-06T17:06:39.534Z"
   },
   {
    "duration": 9,
    "start_time": "2024-11-06T17:06:39.642Z"
   },
   {
    "duration": 11,
    "start_time": "2024-11-06T17:06:39.652Z"
   },
   {
    "duration": 4,
    "start_time": "2024-11-06T17:06:39.666Z"
   },
   {
    "duration": 5,
    "start_time": "2024-11-06T17:06:39.671Z"
   },
   {
    "duration": 35,
    "start_time": "2024-11-06T17:06:39.678Z"
   },
   {
    "duration": 7,
    "start_time": "2024-11-06T17:06:39.715Z"
   },
   {
    "duration": 12,
    "start_time": "2024-11-06T17:06:39.724Z"
   },
   {
    "duration": 9,
    "start_time": "2024-11-06T17:06:39.738Z"
   },
   {
    "duration": 22,
    "start_time": "2024-11-06T17:06:39.749Z"
   },
   {
    "duration": 34,
    "start_time": "2024-11-06T17:06:39.773Z"
   },
   {
    "duration": 45,
    "start_time": "2024-11-06T17:06:39.809Z"
   },
   {
    "duration": 7,
    "start_time": "2024-11-06T17:06:39.858Z"
   },
   {
    "duration": 56,
    "start_time": "2024-11-06T17:06:39.866Z"
   },
   {
    "duration": 17,
    "start_time": "2024-11-06T17:06:39.924Z"
   },
   {
    "duration": 4,
    "start_time": "2024-11-06T17:06:39.943Z"
   },
   {
    "duration": 460,
    "start_time": "2024-11-06T17:06:39.949Z"
   },
   {
    "duration": 4,
    "start_time": "2024-11-06T17:06:40.411Z"
   },
   {
    "duration": 3,
    "start_time": "2024-11-06T17:06:40.417Z"
   },
   {
    "duration": 14,
    "start_time": "2024-11-06T17:06:40.422Z"
   },
   {
    "duration": 71,
    "start_time": "2024-11-06T17:06:40.438Z"
   },
   {
    "duration": 53,
    "start_time": "2024-11-06T17:06:40.510Z"
   },
   {
    "duration": 364,
    "start_time": "2024-11-06T17:06:40.565Z"
   },
   {
    "duration": 586,
    "start_time": "2024-11-06T17:06:40.931Z"
   },
   {
    "duration": 1461,
    "start_time": "2024-11-06T17:06:41.519Z"
   },
   {
    "duration": 1381,
    "start_time": "2024-11-06T17:14:50.181Z"
   },
   {
    "duration": 1471,
    "start_time": "2024-11-06T17:15:08.217Z"
   },
   {
    "duration": 1350,
    "start_time": "2024-11-06T17:16:50.622Z"
   },
   {
    "duration": 1328,
    "start_time": "2024-11-06T17:17:03.462Z"
   },
   {
    "duration": 1537,
    "start_time": "2024-11-06T17:18:21.513Z"
   },
   {
    "duration": 1457,
    "start_time": "2024-11-06T17:18:29.768Z"
   },
   {
    "duration": 547,
    "start_time": "2024-11-06T17:19:39.075Z"
   },
   {
    "duration": 1456,
    "start_time": "2024-11-06T17:22:26.342Z"
   },
   {
    "duration": 1578,
    "start_time": "2024-11-06T17:23:32.400Z"
   },
   {
    "duration": 1430,
    "start_time": "2024-11-06T17:23:40.465Z"
   },
   {
    "duration": 1372,
    "start_time": "2024-11-06T17:24:09.827Z"
   },
   {
    "duration": 1401,
    "start_time": "2024-11-06T17:24:19.120Z"
   },
   {
    "duration": 1365,
    "start_time": "2024-11-06T17:24:56.098Z"
   },
   {
    "duration": 431,
    "start_time": "2024-11-06T17:33:19.255Z"
   },
   {
    "duration": 169,
    "start_time": "2024-11-06T17:33:19.688Z"
   },
   {
    "duration": 47,
    "start_time": "2024-11-06T17:33:19.859Z"
   },
   {
    "duration": 8,
    "start_time": "2024-11-06T17:33:19.908Z"
   },
   {
    "duration": 9,
    "start_time": "2024-11-06T17:33:19.919Z"
   },
   {
    "duration": 732,
    "start_time": "2024-11-06T17:33:19.930Z"
   },
   {
    "duration": 3,
    "start_time": "2024-11-06T17:33:20.664Z"
   },
   {
    "duration": 11,
    "start_time": "2024-11-06T17:33:20.668Z"
   },
   {
    "duration": 108,
    "start_time": "2024-11-06T17:33:20.681Z"
   },
   {
    "duration": 25,
    "start_time": "2024-11-06T17:33:20.791Z"
   },
   {
    "duration": 113,
    "start_time": "2024-11-06T17:33:20.819Z"
   },
   {
    "duration": 136,
    "start_time": "2024-11-06T17:33:20.934Z"
   },
   {
    "duration": 40,
    "start_time": "2024-11-06T17:33:21.071Z"
   },
   {
    "duration": 10,
    "start_time": "2024-11-06T17:33:21.115Z"
   },
   {
    "duration": 12,
    "start_time": "2024-11-06T17:33:21.126Z"
   },
   {
    "duration": 3,
    "start_time": "2024-11-06T17:33:21.139Z"
   },
   {
    "duration": 18,
    "start_time": "2024-11-06T17:33:21.144Z"
   },
   {
    "duration": 3,
    "start_time": "2024-11-06T17:33:21.164Z"
   },
   {
    "duration": 9,
    "start_time": "2024-11-06T17:33:21.205Z"
   },
   {
    "duration": 5,
    "start_time": "2024-11-06T17:33:21.216Z"
   },
   {
    "duration": 5,
    "start_time": "2024-11-06T17:33:21.222Z"
   },
   {
    "duration": 3,
    "start_time": "2024-11-06T17:33:21.228Z"
   },
   {
    "duration": 12,
    "start_time": "2024-11-06T17:33:21.232Z"
   },
   {
    "duration": 4,
    "start_time": "2024-11-06T17:33:21.245Z"
   },
   {
    "duration": 6,
    "start_time": "2024-11-06T17:33:21.250Z"
   },
   {
    "duration": 2,
    "start_time": "2024-11-06T17:33:21.258Z"
   },
   {
    "duration": 9,
    "start_time": "2024-11-06T17:33:21.305Z"
   },
   {
    "duration": 815,
    "start_time": "2024-11-06T17:33:21.316Z"
   },
   {
    "duration": 117,
    "start_time": "2024-11-06T17:33:22.133Z"
   },
   {
    "duration": 10,
    "start_time": "2024-11-06T17:33:22.251Z"
   },
   {
    "duration": 10,
    "start_time": "2024-11-06T17:33:22.263Z"
   },
   {
    "duration": 4,
    "start_time": "2024-11-06T17:33:22.274Z"
   },
   {
    "duration": 26,
    "start_time": "2024-11-06T17:33:22.280Z"
   },
   {
    "duration": 8,
    "start_time": "2024-11-06T17:33:22.307Z"
   },
   {
    "duration": 7,
    "start_time": "2024-11-06T17:33:22.317Z"
   },
   {
    "duration": 10,
    "start_time": "2024-11-06T17:33:22.326Z"
   },
   {
    "duration": 10,
    "start_time": "2024-11-06T17:33:22.338Z"
   },
   {
    "duration": 55,
    "start_time": "2024-11-06T17:33:22.351Z"
   },
   {
    "duration": 5,
    "start_time": "2024-11-06T17:33:22.408Z"
   },
   {
    "duration": 56,
    "start_time": "2024-11-06T17:33:22.415Z"
   },
   {
    "duration": 6,
    "start_time": "2024-11-06T17:33:22.477Z"
   },
   {
    "duration": 56,
    "start_time": "2024-11-06T17:33:22.485Z"
   },
   {
    "duration": 17,
    "start_time": "2024-11-06T17:33:22.544Z"
   },
   {
    "duration": 4,
    "start_time": "2024-11-06T17:33:22.562Z"
   },
   {
    "duration": 491,
    "start_time": "2024-11-06T17:33:22.568Z"
   },
   {
    "duration": 4,
    "start_time": "2024-11-06T17:33:23.061Z"
   },
   {
    "duration": 3,
    "start_time": "2024-11-06T17:33:23.067Z"
   },
   {
    "duration": 33,
    "start_time": "2024-11-06T17:33:23.072Z"
   },
   {
    "duration": 51,
    "start_time": "2024-11-06T17:33:23.107Z"
   },
   {
    "duration": 67,
    "start_time": "2024-11-06T17:33:23.159Z"
   },
   {
    "duration": 357,
    "start_time": "2024-11-06T17:33:23.227Z"
   },
   {
    "duration": 545,
    "start_time": "2024-11-06T17:33:23.585Z"
   },
   {
    "duration": 1398,
    "start_time": "2024-11-06T17:33:24.131Z"
   },
   {
    "duration": 1391,
    "start_time": "2024-11-06T17:33:25.531Z"
   },
   {
    "duration": 144,
    "start_time": "2024-11-06T17:34:43.544Z"
   },
   {
    "duration": 95,
    "start_time": "2024-11-06T17:35:38.861Z"
   },
   {
    "duration": 96,
    "start_time": "2024-11-06T17:36:16.927Z"
   },
   {
    "duration": 203,
    "start_time": "2024-11-06T17:36:55.970Z"
   },
   {
    "duration": 95,
    "start_time": "2024-11-06T17:37:16.452Z"
   },
   {
    "duration": 95,
    "start_time": "2024-11-06T17:37:58.715Z"
   },
   {
    "duration": 92,
    "start_time": "2024-11-06T17:40:15.553Z"
   },
   {
    "duration": 224,
    "start_time": "2024-11-06T17:40:24.942Z"
   },
   {
    "duration": 616,
    "start_time": "2024-11-06T17:42:37.484Z"
   },
   {
    "duration": 221,
    "start_time": "2024-11-06T17:43:31.940Z"
   },
   {
    "duration": 1403,
    "start_time": "2024-11-06T17:45:11.794Z"
   },
   {
    "duration": 154,
    "start_time": "2024-11-06T17:50:41.724Z"
   },
   {
    "duration": 415,
    "start_time": "2024-11-06T17:50:55.094Z"
   },
   {
    "duration": 195,
    "start_time": "2024-11-06T17:50:55.511Z"
   },
   {
    "duration": 58,
    "start_time": "2024-11-06T17:50:55.708Z"
   },
   {
    "duration": 10,
    "start_time": "2024-11-06T17:50:55.767Z"
   },
   {
    "duration": 9,
    "start_time": "2024-11-06T17:50:55.780Z"
   },
   {
    "duration": 815,
    "start_time": "2024-11-06T17:50:55.791Z"
   },
   {
    "duration": 2,
    "start_time": "2024-11-06T17:50:56.608Z"
   },
   {
    "duration": 11,
    "start_time": "2024-11-06T17:50:56.613Z"
   },
   {
    "duration": 109,
    "start_time": "2024-11-06T17:50:56.625Z"
   },
   {
    "duration": 12,
    "start_time": "2024-11-06T17:50:56.736Z"
   },
   {
    "duration": 122,
    "start_time": "2024-11-06T17:50:56.749Z"
   },
   {
    "duration": 139,
    "start_time": "2024-11-06T17:50:56.873Z"
   },
   {
    "duration": 35,
    "start_time": "2024-11-06T17:50:57.015Z"
   },
   {
    "duration": 12,
    "start_time": "2024-11-06T17:50:57.054Z"
   },
   {
    "duration": 12,
    "start_time": "2024-11-06T17:50:57.068Z"
   },
   {
    "duration": 3,
    "start_time": "2024-11-06T17:50:57.105Z"
   },
   {
    "duration": 18,
    "start_time": "2024-11-06T17:50:57.109Z"
   },
   {
    "duration": 4,
    "start_time": "2024-11-06T17:50:57.129Z"
   },
   {
    "duration": 9,
    "start_time": "2024-11-06T17:50:57.135Z"
   },
   {
    "duration": 4,
    "start_time": "2024-11-06T17:50:57.146Z"
   },
   {
    "duration": 6,
    "start_time": "2024-11-06T17:50:57.151Z"
   },
   {
    "duration": 3,
    "start_time": "2024-11-06T17:50:57.158Z"
   },
   {
    "duration": 44,
    "start_time": "2024-11-06T17:50:57.162Z"
   },
   {
    "duration": 4,
    "start_time": "2024-11-06T17:50:57.208Z"
   },
   {
    "duration": 5,
    "start_time": "2024-11-06T17:50:57.213Z"
   },
   {
    "duration": 3,
    "start_time": "2024-11-06T17:50:57.220Z"
   },
   {
    "duration": 8,
    "start_time": "2024-11-06T17:50:57.225Z"
   },
   {
    "duration": 794,
    "start_time": "2024-11-06T17:50:57.235Z"
   },
   {
    "duration": 113,
    "start_time": "2024-11-06T17:50:58.031Z"
   },
   {
    "duration": 10,
    "start_time": "2024-11-06T17:50:58.146Z"
   },
   {
    "duration": 11,
    "start_time": "2024-11-06T17:50:58.157Z"
   },
   {
    "duration": 4,
    "start_time": "2024-11-06T17:50:58.171Z"
   },
   {
    "duration": 28,
    "start_time": "2024-11-06T17:50:58.177Z"
   },
   {
    "duration": 8,
    "start_time": "2024-11-06T17:50:58.207Z"
   },
   {
    "duration": 7,
    "start_time": "2024-11-06T17:50:58.216Z"
   },
   {
    "duration": 11,
    "start_time": "2024-11-06T17:50:58.225Z"
   },
   {
    "duration": 9,
    "start_time": "2024-11-06T17:50:58.237Z"
   },
   {
    "duration": 20,
    "start_time": "2024-11-06T17:50:58.248Z"
   },
   {
    "duration": 37,
    "start_time": "2024-11-06T17:50:58.270Z"
   },
   {
    "duration": 42,
    "start_time": "2024-11-06T17:50:58.309Z"
   },
   {
    "duration": 7,
    "start_time": "2024-11-06T17:50:58.355Z"
   },
   {
    "duration": 51,
    "start_time": "2024-11-06T17:50:58.363Z"
   },
   {
    "duration": 17,
    "start_time": "2024-11-06T17:50:58.415Z"
   },
   {
    "duration": 4,
    "start_time": "2024-11-06T17:50:58.434Z"
   },
   {
    "duration": 471,
    "start_time": "2024-11-06T17:50:58.439Z"
   },
   {
    "duration": 4,
    "start_time": "2024-11-06T17:50:58.912Z"
   },
   {
    "duration": 5,
    "start_time": "2024-11-06T17:50:58.918Z"
   },
   {
    "duration": 21,
    "start_time": "2024-11-06T17:50:58.925Z"
   },
   {
    "duration": 65,
    "start_time": "2024-11-06T17:50:58.949Z"
   },
   {
    "duration": 52,
    "start_time": "2024-11-06T17:50:59.015Z"
   },
   {
    "duration": 360,
    "start_time": "2024-11-06T17:50:59.069Z"
   },
   {
    "duration": 550,
    "start_time": "2024-11-06T17:50:59.430Z"
   },
   {
    "duration": 1267,
    "start_time": "2024-11-06T17:50:59.982Z"
   },
   {
    "duration": 1438,
    "start_time": "2024-11-06T17:51:01.251Z"
   },
   {
    "duration": 328,
    "start_time": "2024-11-06T17:51:02.691Z"
   },
   {
    "duration": 227,
    "start_time": "2024-11-06T18:14:40.221Z"
   },
   {
    "duration": 261,
    "start_time": "2024-11-06T18:15:12.380Z"
   },
   {
    "duration": 248,
    "start_time": "2024-11-06T18:15:28.452Z"
   },
   {
    "duration": 464,
    "start_time": "2024-11-06T18:19:30.941Z"
   },
   {
    "duration": 186,
    "start_time": "2024-11-06T18:19:31.408Z"
   },
   {
    "duration": 60,
    "start_time": "2024-11-06T18:19:31.596Z"
   },
   {
    "duration": 10,
    "start_time": "2024-11-06T18:19:31.658Z"
   },
   {
    "duration": 10,
    "start_time": "2024-11-06T18:19:31.670Z"
   },
   {
    "duration": 812,
    "start_time": "2024-11-06T18:19:31.681Z"
   },
   {
    "duration": 2,
    "start_time": "2024-11-06T18:19:32.496Z"
   },
   {
    "duration": 20,
    "start_time": "2024-11-06T18:19:32.499Z"
   },
   {
    "duration": 106,
    "start_time": "2024-11-06T18:19:32.520Z"
   },
   {
    "duration": 12,
    "start_time": "2024-11-06T18:19:32.629Z"
   },
   {
    "duration": 124,
    "start_time": "2024-11-06T18:19:32.643Z"
   },
   {
    "duration": 148,
    "start_time": "2024-11-06T18:19:32.769Z"
   },
   {
    "duration": 31,
    "start_time": "2024-11-06T18:19:32.919Z"
   },
   {
    "duration": 10,
    "start_time": "2024-11-06T18:19:32.951Z"
   },
   {
    "duration": 11,
    "start_time": "2024-11-06T18:19:32.962Z"
   },
   {
    "duration": 4,
    "start_time": "2024-11-06T18:19:32.975Z"
   },
   {
    "duration": 21,
    "start_time": "2024-11-06T18:19:33.005Z"
   },
   {
    "duration": 4,
    "start_time": "2024-11-06T18:19:33.028Z"
   },
   {
    "duration": 9,
    "start_time": "2024-11-06T18:19:33.033Z"
   },
   {
    "duration": 4,
    "start_time": "2024-11-06T18:19:33.044Z"
   },
   {
    "duration": 4,
    "start_time": "2024-11-06T18:19:33.050Z"
   },
   {
    "duration": 2,
    "start_time": "2024-11-06T18:19:33.056Z"
   },
   {
    "duration": 52,
    "start_time": "2024-11-06T18:19:33.060Z"
   },
   {
    "duration": 4,
    "start_time": "2024-11-06T18:19:33.114Z"
   },
   {
    "duration": 6,
    "start_time": "2024-11-06T18:19:33.120Z"
   },
   {
    "duration": 2,
    "start_time": "2024-11-06T18:19:33.128Z"
   },
   {
    "duration": 8,
    "start_time": "2024-11-06T18:19:33.132Z"
   },
   {
    "duration": 785,
    "start_time": "2024-11-06T18:19:33.143Z"
   },
   {
    "duration": 106,
    "start_time": "2024-11-06T18:19:33.930Z"
   },
   {
    "duration": 9,
    "start_time": "2024-11-06T18:19:34.038Z"
   },
   {
    "duration": 10,
    "start_time": "2024-11-06T18:19:34.049Z"
   },
   {
    "duration": 4,
    "start_time": "2024-11-06T18:19:34.061Z"
   },
   {
    "duration": 4,
    "start_time": "2024-11-06T18:19:34.067Z"
   },
   {
    "duration": 37,
    "start_time": "2024-11-06T18:19:34.072Z"
   },
   {
    "duration": 7,
    "start_time": "2024-11-06T18:19:34.111Z"
   },
   {
    "duration": 12,
    "start_time": "2024-11-06T18:19:34.119Z"
   },
   {
    "duration": 14,
    "start_time": "2024-11-06T18:19:34.133Z"
   },
   {
    "duration": 25,
    "start_time": "2024-11-06T18:19:34.148Z"
   },
   {
    "duration": 5,
    "start_time": "2024-11-06T18:19:34.206Z"
   },
   {
    "duration": 47,
    "start_time": "2024-11-06T18:19:34.213Z"
   },
   {
    "duration": 7,
    "start_time": "2024-11-06T18:19:34.263Z"
   },
   {
    "duration": 52,
    "start_time": "2024-11-06T18:19:34.271Z"
   },
   {
    "duration": 17,
    "start_time": "2024-11-06T18:19:34.325Z"
   },
   {
    "duration": 4,
    "start_time": "2024-11-06T18:19:34.343Z"
   },
   {
    "duration": 464,
    "start_time": "2024-11-06T18:19:34.348Z"
   },
   {
    "duration": 5,
    "start_time": "2024-11-06T18:19:34.814Z"
   },
   {
    "duration": 5,
    "start_time": "2024-11-06T18:19:34.821Z"
   },
   {
    "duration": 14,
    "start_time": "2024-11-06T18:19:34.827Z"
   },
   {
    "duration": 75,
    "start_time": "2024-11-06T18:19:34.843Z"
   },
   {
    "duration": 52,
    "start_time": "2024-11-06T18:19:34.920Z"
   },
   {
    "duration": 373,
    "start_time": "2024-11-06T18:19:34.974Z"
   },
   {
    "duration": 538,
    "start_time": "2024-11-06T18:19:35.349Z"
   },
   {
    "duration": 1375,
    "start_time": "2024-11-06T18:19:35.889Z"
   },
   {
    "duration": 254,
    "start_time": "2024-11-06T18:19:37.266Z"
   },
   {
    "duration": 221,
    "start_time": "2024-11-06T18:20:18.206Z"
   },
   {
    "duration": 3,
    "start_time": "2024-11-06T18:24:17.580Z"
   },
   {
    "duration": 393,
    "start_time": "2024-11-06T18:24:31.355Z"
   },
   {
    "duration": 397,
    "start_time": "2024-11-06T18:25:41.508Z"
   },
   {
    "duration": 470,
    "start_time": "2024-11-06T18:26:17.472Z"
   },
   {
    "duration": 395,
    "start_time": "2024-11-06T18:26:50.615Z"
   },
   {
    "duration": 408,
    "start_time": "2024-11-06T18:27:36.719Z"
   },
   {
    "duration": 418,
    "start_time": "2024-11-06T18:30:15.554Z"
   },
   {
    "duration": 411,
    "start_time": "2024-11-06T18:31:14.886Z"
   },
   {
    "duration": 454,
    "start_time": "2024-11-06T18:32:02.355Z"
   },
   {
    "duration": 517,
    "start_time": "2024-11-06T18:33:02.357Z"
   },
   {
    "duration": 445,
    "start_time": "2024-11-06T18:36:00.791Z"
   },
   {
    "duration": 413,
    "start_time": "2024-11-06T18:36:20.892Z"
   },
   {
    "duration": 442,
    "start_time": "2024-11-06T18:36:39.722Z"
   },
   {
    "duration": 507,
    "start_time": "2024-11-06T18:37:34.410Z"
   },
   {
    "duration": 508,
    "start_time": "2024-11-06T18:37:48.531Z"
   },
   {
    "duration": 992,
    "start_time": "2024-11-06T18:38:27.357Z"
   },
   {
    "duration": 420,
    "start_time": "2024-11-06T18:38:46.555Z"
   },
   {
    "duration": 432,
    "start_time": "2024-11-06T18:40:13.356Z"
   },
   {
    "duration": 498,
    "start_time": "2024-11-06T18:40:28.976Z"
   },
   {
    "duration": 6,
    "start_time": "2024-11-06T18:44:40.833Z"
   },
   {
    "duration": 702,
    "start_time": "2024-11-06T18:46:12.770Z"
   },
   {
    "duration": 6,
    "start_time": "2024-11-06T18:46:40.769Z"
   },
   {
    "duration": 80,
    "start_time": "2024-11-06T18:48:51.227Z"
   },
   {
    "duration": 26,
    "start_time": "2024-11-06T18:49:00.380Z"
   },
   {
    "duration": 38,
    "start_time": "2024-11-06T18:49:22.472Z"
   },
   {
    "duration": 31,
    "start_time": "2024-11-06T18:49:28.170Z"
   },
   {
    "duration": 159,
    "start_time": "2024-11-06T20:11:01.902Z"
   },
   {
    "duration": 2095,
    "start_time": "2024-11-06T20:11:15.376Z"
   },
   {
    "duration": 146,
    "start_time": "2024-11-06T20:11:17.473Z"
   },
   {
    "duration": 58,
    "start_time": "2024-11-06T20:11:17.623Z"
   },
   {
    "duration": 9,
    "start_time": "2024-11-06T20:11:17.682Z"
   },
   {
    "duration": 9,
    "start_time": "2024-11-06T20:11:17.694Z"
   },
   {
    "duration": 789,
    "start_time": "2024-11-06T20:11:17.704Z"
   },
   {
    "duration": 2,
    "start_time": "2024-11-06T20:11:18.496Z"
   },
   {
    "duration": 15,
    "start_time": "2024-11-06T20:11:18.499Z"
   },
   {
    "duration": 95,
    "start_time": "2024-11-06T20:11:18.515Z"
   },
   {
    "duration": 12,
    "start_time": "2024-11-06T20:11:18.613Z"
   },
   {
    "duration": 118,
    "start_time": "2024-11-06T20:11:18.627Z"
   },
   {
    "duration": 145,
    "start_time": "2024-11-06T20:11:18.746Z"
   },
   {
    "duration": 31,
    "start_time": "2024-11-06T20:11:18.892Z"
   },
   {
    "duration": 10,
    "start_time": "2024-11-06T20:11:18.927Z"
   },
   {
    "duration": 12,
    "start_time": "2024-11-06T20:11:18.938Z"
   },
   {
    "duration": 4,
    "start_time": "2024-11-06T20:11:18.951Z"
   },
   {
    "duration": 17,
    "start_time": "2024-11-06T20:11:18.957Z"
   },
   {
    "duration": 3,
    "start_time": "2024-11-06T20:11:19.005Z"
   },
   {
    "duration": 10,
    "start_time": "2024-11-06T20:11:19.009Z"
   },
   {
    "duration": 4,
    "start_time": "2024-11-06T20:11:19.020Z"
   },
   {
    "duration": 5,
    "start_time": "2024-11-06T20:11:19.027Z"
   },
   {
    "duration": 3,
    "start_time": "2024-11-06T20:11:19.033Z"
   },
   {
    "duration": 8,
    "start_time": "2024-11-06T20:11:19.038Z"
   },
   {
    "duration": 3,
    "start_time": "2024-11-06T20:11:19.048Z"
   },
   {
    "duration": 5,
    "start_time": "2024-11-06T20:11:19.053Z"
   },
   {
    "duration": 2,
    "start_time": "2024-11-06T20:11:19.105Z"
   },
   {
    "duration": 7,
    "start_time": "2024-11-06T20:11:19.109Z"
   },
   {
    "duration": 753,
    "start_time": "2024-11-06T20:11:19.118Z"
   },
   {
    "duration": 110,
    "start_time": "2024-11-06T20:11:19.873Z"
   },
   {
    "duration": 9,
    "start_time": "2024-11-06T20:11:19.985Z"
   },
   {
    "duration": 18,
    "start_time": "2024-11-06T20:11:19.996Z"
   },
   {
    "duration": 5,
    "start_time": "2024-11-06T20:11:20.016Z"
   },
   {
    "duration": 4,
    "start_time": "2024-11-06T20:11:20.023Z"
   },
   {
    "duration": 8,
    "start_time": "2024-11-06T20:11:20.029Z"
   },
   {
    "duration": 6,
    "start_time": "2024-11-06T20:11:20.039Z"
   },
   {
    "duration": 12,
    "start_time": "2024-11-06T20:11:20.047Z"
   },
   {
    "duration": 49,
    "start_time": "2024-11-06T20:11:20.060Z"
   },
   {
    "duration": 20,
    "start_time": "2024-11-06T20:11:20.111Z"
   },
   {
    "duration": 4,
    "start_time": "2024-11-06T20:11:20.133Z"
   },
   {
    "duration": 42,
    "start_time": "2024-11-06T20:11:20.139Z"
   },
   {
    "duration": 7,
    "start_time": "2024-11-06T20:11:20.206Z"
   },
   {
    "duration": 32,
    "start_time": "2024-11-06T20:11:20.215Z"
   },
   {
    "duration": 16,
    "start_time": "2024-11-06T20:11:20.249Z"
   },
   {
    "duration": 5,
    "start_time": "2024-11-06T20:11:20.266Z"
   },
   {
    "duration": 470,
    "start_time": "2024-11-06T20:11:20.273Z"
   },
   {
    "duration": 4,
    "start_time": "2024-11-06T20:11:20.745Z"
   },
   {
    "duration": 4,
    "start_time": "2024-11-06T20:11:20.751Z"
   },
   {
    "duration": 14,
    "start_time": "2024-11-06T20:11:20.756Z"
   },
   {
    "duration": 72,
    "start_time": "2024-11-06T20:11:20.772Z"
   },
   {
    "duration": 60,
    "start_time": "2024-11-06T20:11:20.847Z"
   },
   {
    "duration": 367,
    "start_time": "2024-11-06T20:11:20.908Z"
   },
   {
    "duration": 582,
    "start_time": "2024-11-06T20:11:21.277Z"
   },
   {
    "duration": 1349,
    "start_time": "2024-11-06T20:11:21.861Z"
   },
   {
    "duration": 455,
    "start_time": "2024-11-06T20:11:23.212Z"
   },
   {
    "duration": 330,
    "start_time": "2024-11-06T20:11:23.669Z"
   },
   {
    "duration": 149,
    "start_time": "2024-11-06T20:12:05.968Z"
   },
   {
    "duration": 35,
    "start_time": "2024-11-06T20:12:33.145Z"
   },
   {
    "duration": 34,
    "start_time": "2024-11-06T20:14:35.366Z"
   },
   {
    "duration": 43,
    "start_time": "2024-11-06T20:15:18.506Z"
   },
   {
    "duration": 22,
    "start_time": "2024-11-06T20:15:39.932Z"
   },
   {
    "duration": 30,
    "start_time": "2024-11-06T20:17:57.647Z"
   },
   {
    "duration": 34,
    "start_time": "2024-11-06T20:18:42.721Z"
   },
   {
    "duration": 36,
    "start_time": "2024-11-06T20:20:19.694Z"
   },
   {
    "duration": 174,
    "start_time": "2024-11-06T20:22:14.842Z"
   },
   {
    "duration": 173,
    "start_time": "2024-11-06T20:22:28.450Z"
   },
   {
    "duration": 163,
    "start_time": "2024-11-06T20:22:53.965Z"
   },
   {
    "duration": 91,
    "start_time": "2024-11-06T20:24:30.020Z"
   },
   {
    "duration": 97,
    "start_time": "2024-11-06T20:25:50.370Z"
   },
   {
    "duration": 91,
    "start_time": "2024-11-06T20:29:09.263Z"
   },
   {
    "duration": 89,
    "start_time": "2024-11-06T20:29:34.459Z"
   },
   {
    "duration": 99,
    "start_time": "2024-11-06T20:29:43.220Z"
   },
   {
    "duration": 98,
    "start_time": "2024-11-06T20:30:44.242Z"
   },
   {
    "duration": 2254,
    "start_time": "2024-11-06T21:01:54.344Z"
   },
   {
    "duration": 562,
    "start_time": "2024-11-06T21:01:56.605Z"
   },
   {
    "duration": 0,
    "start_time": "2024-11-06T21:01:57.170Z"
   },
   {
    "duration": 0,
    "start_time": "2024-11-06T21:01:57.173Z"
   },
   {
    "duration": 0,
    "start_time": "2024-11-06T21:01:57.174Z"
   },
   {
    "duration": 0,
    "start_time": "2024-11-06T21:01:57.176Z"
   },
   {
    "duration": 0,
    "start_time": "2024-11-06T21:01:57.177Z"
   },
   {
    "duration": 0,
    "start_time": "2024-11-06T21:01:57.178Z"
   },
   {
    "duration": 0,
    "start_time": "2024-11-06T21:01:57.179Z"
   },
   {
    "duration": 0,
    "start_time": "2024-11-06T21:01:57.180Z"
   },
   {
    "duration": 0,
    "start_time": "2024-11-06T21:01:57.182Z"
   },
   {
    "duration": 0,
    "start_time": "2024-11-06T21:01:57.183Z"
   },
   {
    "duration": 1,
    "start_time": "2024-11-06T21:01:57.205Z"
   },
   {
    "duration": 0,
    "start_time": "2024-11-06T21:01:57.207Z"
   },
   {
    "duration": 0,
    "start_time": "2024-11-06T21:01:57.209Z"
   },
   {
    "duration": 0,
    "start_time": "2024-11-06T21:01:57.211Z"
   },
   {
    "duration": 0,
    "start_time": "2024-11-06T21:01:57.213Z"
   },
   {
    "duration": 0,
    "start_time": "2024-11-06T21:01:57.214Z"
   },
   {
    "duration": 0,
    "start_time": "2024-11-06T21:01:57.216Z"
   },
   {
    "duration": 0,
    "start_time": "2024-11-06T21:01:57.217Z"
   },
   {
    "duration": 0,
    "start_time": "2024-11-06T21:01:57.219Z"
   },
   {
    "duration": 0,
    "start_time": "2024-11-06T21:01:57.220Z"
   },
   {
    "duration": 0,
    "start_time": "2024-11-06T21:01:57.222Z"
   },
   {
    "duration": 0,
    "start_time": "2024-11-06T21:01:57.224Z"
   },
   {
    "duration": 0,
    "start_time": "2024-11-06T21:01:57.225Z"
   },
   {
    "duration": 0,
    "start_time": "2024-11-06T21:01:57.227Z"
   },
   {
    "duration": 0,
    "start_time": "2024-11-06T21:01:57.228Z"
   },
   {
    "duration": 0,
    "start_time": "2024-11-06T21:01:57.229Z"
   },
   {
    "duration": 0,
    "start_time": "2024-11-06T21:01:57.230Z"
   },
   {
    "duration": 0,
    "start_time": "2024-11-06T21:01:57.231Z"
   },
   {
    "duration": 0,
    "start_time": "2024-11-06T21:01:57.233Z"
   },
   {
    "duration": 0,
    "start_time": "2024-11-06T21:01:57.234Z"
   },
   {
    "duration": 0,
    "start_time": "2024-11-06T21:01:57.235Z"
   },
   {
    "duration": 0,
    "start_time": "2024-11-06T21:01:57.236Z"
   },
   {
    "duration": 0,
    "start_time": "2024-11-06T21:01:57.238Z"
   },
   {
    "duration": 0,
    "start_time": "2024-11-06T21:01:57.239Z"
   },
   {
    "duration": 0,
    "start_time": "2024-11-06T21:01:57.240Z"
   },
   {
    "duration": 0,
    "start_time": "2024-11-06T21:01:57.242Z"
   },
   {
    "duration": 0,
    "start_time": "2024-11-06T21:01:57.243Z"
   },
   {
    "duration": 0,
    "start_time": "2024-11-06T21:01:57.244Z"
   },
   {
    "duration": 0,
    "start_time": "2024-11-06T21:01:57.304Z"
   },
   {
    "duration": 0,
    "start_time": "2024-11-06T21:01:57.307Z"
   },
   {
    "duration": 0,
    "start_time": "2024-11-06T21:01:57.310Z"
   },
   {
    "duration": 0,
    "start_time": "2024-11-06T21:01:57.311Z"
   },
   {
    "duration": 0,
    "start_time": "2024-11-06T21:01:57.311Z"
   },
   {
    "duration": 0,
    "start_time": "2024-11-06T21:01:57.312Z"
   },
   {
    "duration": 0,
    "start_time": "2024-11-06T21:01:57.314Z"
   },
   {
    "duration": 0,
    "start_time": "2024-11-06T21:01:57.315Z"
   },
   {
    "duration": 0,
    "start_time": "2024-11-06T21:01:57.317Z"
   },
   {
    "duration": 0,
    "start_time": "2024-11-06T21:01:57.317Z"
   },
   {
    "duration": 0,
    "start_time": "2024-11-06T21:01:57.319Z"
   },
   {
    "duration": 0,
    "start_time": "2024-11-06T21:01:57.320Z"
   },
   {
    "duration": 0,
    "start_time": "2024-11-06T21:01:57.321Z"
   },
   {
    "duration": 0,
    "start_time": "2024-11-06T21:01:57.323Z"
   },
   {
    "duration": 0,
    "start_time": "2024-11-06T21:01:57.324Z"
   },
   {
    "duration": 2215,
    "start_time": "2024-11-07T16:10:34.708Z"
   },
   {
    "duration": 174,
    "start_time": "2024-11-07T16:10:36.925Z"
   },
   {
    "duration": 60,
    "start_time": "2024-11-07T16:10:37.101Z"
   },
   {
    "duration": 14,
    "start_time": "2024-11-07T16:10:37.163Z"
   },
   {
    "duration": 20,
    "start_time": "2024-11-07T16:10:37.180Z"
   },
   {
    "duration": 816,
    "start_time": "2024-11-07T16:10:37.202Z"
   },
   {
    "duration": 2,
    "start_time": "2024-11-07T16:10:38.021Z"
   },
   {
    "duration": 10,
    "start_time": "2024-11-07T16:10:38.025Z"
   },
   {
    "duration": 110,
    "start_time": "2024-11-07T16:10:38.037Z"
   },
   {
    "duration": 21,
    "start_time": "2024-11-07T16:10:38.149Z"
   },
   {
    "duration": 118,
    "start_time": "2024-11-07T16:10:38.172Z"
   },
   {
    "duration": 144,
    "start_time": "2024-11-07T16:10:38.292Z"
   },
   {
    "duration": 33,
    "start_time": "2024-11-07T16:10:38.437Z"
   },
   {
    "duration": 11,
    "start_time": "2024-11-07T16:10:38.474Z"
   },
   {
    "duration": 13,
    "start_time": "2024-11-07T16:10:38.486Z"
   },
   {
    "duration": 4,
    "start_time": "2024-11-07T16:10:38.500Z"
   },
   {
    "duration": 19,
    "start_time": "2024-11-07T16:10:38.506Z"
   },
   {
    "duration": 4,
    "start_time": "2024-11-07T16:10:38.527Z"
   },
   {
    "duration": 46,
    "start_time": "2024-11-07T16:10:38.532Z"
   },
   {
    "duration": 3,
    "start_time": "2024-11-07T16:10:38.580Z"
   },
   {
    "duration": 4,
    "start_time": "2024-11-07T16:10:38.585Z"
   },
   {
    "duration": 2,
    "start_time": "2024-11-07T16:10:38.591Z"
   },
   {
    "duration": 10,
    "start_time": "2024-11-07T16:10:38.595Z"
   },
   {
    "duration": 4,
    "start_time": "2024-11-07T16:10:38.606Z"
   },
   {
    "duration": 5,
    "start_time": "2024-11-07T16:10:38.612Z"
   },
   {
    "duration": 2,
    "start_time": "2024-11-07T16:10:38.619Z"
   },
   {
    "duration": 53,
    "start_time": "2024-11-07T16:10:38.623Z"
   },
   {
    "duration": 778,
    "start_time": "2024-11-07T16:10:38.678Z"
   },
   {
    "duration": 107,
    "start_time": "2024-11-07T16:10:39.458Z"
   },
   {
    "duration": 9,
    "start_time": "2024-11-07T16:10:39.570Z"
   },
   {
    "duration": 10,
    "start_time": "2024-11-07T16:10:39.581Z"
   },
   {
    "duration": 3,
    "start_time": "2024-11-07T16:10:39.593Z"
   },
   {
    "duration": 4,
    "start_time": "2024-11-07T16:10:39.598Z"
   },
   {
    "duration": 8,
    "start_time": "2024-11-07T16:10:39.603Z"
   },
   {
    "duration": 7,
    "start_time": "2024-11-07T16:10:39.612Z"
   },
   {
    "duration": 11,
    "start_time": "2024-11-07T16:10:39.620Z"
   },
   {
    "duration": 46,
    "start_time": "2024-11-07T16:10:39.632Z"
   },
   {
    "duration": 19,
    "start_time": "2024-11-07T16:10:39.680Z"
   },
   {
    "duration": 4,
    "start_time": "2024-11-07T16:10:39.701Z"
   },
   {
    "duration": 68,
    "start_time": "2024-11-07T16:10:39.707Z"
   },
   {
    "duration": 6,
    "start_time": "2024-11-07T16:10:39.780Z"
   },
   {
    "duration": 34,
    "start_time": "2024-11-07T16:10:39.788Z"
   },
   {
    "duration": 18,
    "start_time": "2024-11-07T16:10:39.824Z"
   },
   {
    "duration": 30,
    "start_time": "2024-11-07T16:10:39.843Z"
   },
   {
    "duration": 445,
    "start_time": "2024-11-07T16:10:39.874Z"
   },
   {
    "duration": 4,
    "start_time": "2024-11-07T16:10:40.322Z"
   },
   {
    "duration": 4,
    "start_time": "2024-11-07T16:10:40.328Z"
   },
   {
    "duration": 15,
    "start_time": "2024-11-07T16:10:40.334Z"
   },
   {
    "duration": 49,
    "start_time": "2024-11-07T16:10:40.372Z"
   },
   {
    "duration": 72,
    "start_time": "2024-11-07T16:10:40.423Z"
   },
   {
    "duration": 389,
    "start_time": "2024-11-07T16:10:40.497Z"
   },
   {
    "duration": 548,
    "start_time": "2024-11-07T16:10:40.888Z"
   },
   {
    "duration": 1414,
    "start_time": "2024-11-07T16:10:41.438Z"
   },
   {
    "duration": 463,
    "start_time": "2024-11-07T16:10:42.854Z"
   },
   {
    "duration": 160,
    "start_time": "2024-11-07T16:10:43.319Z"
   },
   {
    "duration": 114,
    "start_time": "2024-11-07T16:15:56.908Z"
   },
   {
    "duration": 3,
    "start_time": "2024-11-07T16:23:00.505Z"
   },
   {
    "duration": 3,
    "start_time": "2024-11-07T16:23:17.566Z"
   },
   {
    "duration": 2,
    "start_time": "2024-11-07T16:23:37.896Z"
   },
   {
    "duration": 14,
    "start_time": "2024-11-07T16:27:04.175Z"
   },
   {
    "duration": 14,
    "start_time": "2024-11-07T16:27:16.297Z"
   },
   {
    "duration": 18,
    "start_time": "2024-11-07T16:27:46.771Z"
   },
   {
    "duration": 13,
    "start_time": "2024-11-07T16:27:54.876Z"
   },
   {
    "duration": 6,
    "start_time": "2024-11-07T16:30:12.161Z"
   },
   {
    "duration": 422,
    "start_time": "2024-11-07T16:30:12.169Z"
   },
   {
    "duration": 159,
    "start_time": "2024-11-07T16:30:12.592Z"
   },
   {
    "duration": 51,
    "start_time": "2024-11-07T16:30:12.753Z"
   },
   {
    "duration": 9,
    "start_time": "2024-11-07T16:30:12.806Z"
   },
   {
    "duration": 10,
    "start_time": "2024-11-07T16:30:12.816Z"
   },
   {
    "duration": 749,
    "start_time": "2024-11-07T16:30:12.827Z"
   },
   {
    "duration": 2,
    "start_time": "2024-11-07T16:30:13.578Z"
   },
   {
    "duration": 10,
    "start_time": "2024-11-07T16:30:13.584Z"
   },
   {
    "duration": 111,
    "start_time": "2024-11-07T16:30:13.596Z"
   },
   {
    "duration": 12,
    "start_time": "2024-11-07T16:30:13.709Z"
   },
   {
    "duration": 122,
    "start_time": "2024-11-07T16:30:13.723Z"
   },
   {
    "duration": 143,
    "start_time": "2024-11-07T16:30:13.847Z"
   },
   {
    "duration": 27,
    "start_time": "2024-11-07T16:30:13.992Z"
   },
   {
    "duration": 10,
    "start_time": "2024-11-07T16:30:14.021Z"
   },
   {
    "duration": 12,
    "start_time": "2024-11-07T16:30:14.032Z"
   },
   {
    "duration": 3,
    "start_time": "2024-11-07T16:30:14.069Z"
   },
   {
    "duration": 18,
    "start_time": "2024-11-07T16:30:14.074Z"
   },
   {
    "duration": 4,
    "start_time": "2024-11-07T16:30:14.093Z"
   },
   {
    "duration": 9,
    "start_time": "2024-11-07T16:30:14.099Z"
   },
   {
    "duration": 3,
    "start_time": "2024-11-07T16:30:14.111Z"
   },
   {
    "duration": 4,
    "start_time": "2024-11-07T16:30:14.117Z"
   },
   {
    "duration": 3,
    "start_time": "2024-11-07T16:30:14.123Z"
   },
   {
    "duration": 47,
    "start_time": "2024-11-07T16:30:14.130Z"
   },
   {
    "duration": 4,
    "start_time": "2024-11-07T16:30:14.178Z"
   },
   {
    "duration": 5,
    "start_time": "2024-11-07T16:30:14.184Z"
   },
   {
    "duration": 3,
    "start_time": "2024-11-07T16:30:14.191Z"
   },
   {
    "duration": 7,
    "start_time": "2024-11-07T16:30:14.196Z"
   },
   {
    "duration": 789,
    "start_time": "2024-11-07T16:30:14.205Z"
   },
   {
    "duration": 104,
    "start_time": "2024-11-07T16:30:14.996Z"
   },
   {
    "duration": 9,
    "start_time": "2024-11-07T16:30:15.102Z"
   },
   {
    "duration": 10,
    "start_time": "2024-11-07T16:30:15.113Z"
   },
   {
    "duration": 4,
    "start_time": "2024-11-07T16:30:15.125Z"
   },
   {
    "duration": 4,
    "start_time": "2024-11-07T16:30:15.130Z"
   },
   {
    "duration": 36,
    "start_time": "2024-11-07T16:30:15.136Z"
   },
   {
    "duration": 6,
    "start_time": "2024-11-07T16:30:15.174Z"
   },
   {
    "duration": 11,
    "start_time": "2024-11-07T16:30:15.182Z"
   },
   {
    "duration": 9,
    "start_time": "2024-11-07T16:30:15.195Z"
   },
   {
    "duration": 24,
    "start_time": "2024-11-07T16:30:15.206Z"
   },
   {
    "duration": 38,
    "start_time": "2024-11-07T16:30:15.232Z"
   },
   {
    "duration": 45,
    "start_time": "2024-11-07T16:30:15.272Z"
   },
   {
    "duration": 8,
    "start_time": "2024-11-07T16:30:15.319Z"
   },
   {
    "duration": 56,
    "start_time": "2024-11-07T16:30:15.328Z"
   },
   {
    "duration": 17,
    "start_time": "2024-11-07T16:30:15.386Z"
   },
   {
    "duration": 5,
    "start_time": "2024-11-07T16:30:15.404Z"
   },
   {
    "duration": 474,
    "start_time": "2024-11-07T16:30:15.411Z"
   },
   {
    "duration": 4,
    "start_time": "2024-11-07T16:30:15.887Z"
   },
   {
    "duration": 4,
    "start_time": "2024-11-07T16:30:15.893Z"
   },
   {
    "duration": 14,
    "start_time": "2024-11-07T16:30:15.899Z"
   },
   {
    "duration": 76,
    "start_time": "2024-11-07T16:30:15.914Z"
   },
   {
    "duration": 54,
    "start_time": "2024-11-07T16:30:15.991Z"
   },
   {
    "duration": 380,
    "start_time": "2024-11-07T16:30:16.046Z"
   },
   {
    "duration": 583,
    "start_time": "2024-11-07T16:30:16.428Z"
   },
   {
    "duration": 1542,
    "start_time": "2024-11-07T16:30:17.013Z"
   },
   {
    "duration": 473,
    "start_time": "2024-11-07T16:30:18.557Z"
   },
   {
    "duration": 160,
    "start_time": "2024-11-07T16:30:19.033Z"
   },
   {
    "duration": 6,
    "start_time": "2024-11-07T18:43:03.205Z"
   },
   {
    "duration": 2243,
    "start_time": "2024-11-07T18:43:03.214Z"
   },
   {
    "duration": 561,
    "start_time": "2024-11-07T18:43:05.459Z"
   },
   {
    "duration": 0,
    "start_time": "2024-11-07T18:43:06.025Z"
   },
   {
    "duration": 0,
    "start_time": "2024-11-07T18:43:06.026Z"
   },
   {
    "duration": 0,
    "start_time": "2024-11-07T18:43:06.026Z"
   },
   {
    "duration": 0,
    "start_time": "2024-11-07T18:43:06.028Z"
   },
   {
    "duration": 0,
    "start_time": "2024-11-07T18:43:06.029Z"
   },
   {
    "duration": 0,
    "start_time": "2024-11-07T18:43:06.030Z"
   },
   {
    "duration": 0,
    "start_time": "2024-11-07T18:43:06.031Z"
   },
   {
    "duration": 0,
    "start_time": "2024-11-07T18:43:06.032Z"
   },
   {
    "duration": 0,
    "start_time": "2024-11-07T18:43:06.033Z"
   },
   {
    "duration": 0,
    "start_time": "2024-11-07T18:43:06.034Z"
   },
   {
    "duration": 0,
    "start_time": "2024-11-07T18:43:06.035Z"
   },
   {
    "duration": 0,
    "start_time": "2024-11-07T18:43:06.036Z"
   },
   {
    "duration": 0,
    "start_time": "2024-11-07T18:43:06.037Z"
   },
   {
    "duration": 0,
    "start_time": "2024-11-07T18:43:06.038Z"
   },
   {
    "duration": 0,
    "start_time": "2024-11-07T18:43:06.039Z"
   },
   {
    "duration": 0,
    "start_time": "2024-11-07T18:43:06.040Z"
   },
   {
    "duration": 0,
    "start_time": "2024-11-07T18:43:06.042Z"
   },
   {
    "duration": 0,
    "start_time": "2024-11-07T18:43:06.043Z"
   },
   {
    "duration": 0,
    "start_time": "2024-11-07T18:43:06.045Z"
   },
   {
    "duration": 0,
    "start_time": "2024-11-07T18:43:06.046Z"
   },
   {
    "duration": 0,
    "start_time": "2024-11-07T18:43:06.047Z"
   },
   {
    "duration": 0,
    "start_time": "2024-11-07T18:43:06.048Z"
   },
   {
    "duration": 0,
    "start_time": "2024-11-07T18:43:06.049Z"
   },
   {
    "duration": 0,
    "start_time": "2024-11-07T18:43:06.050Z"
   },
   {
    "duration": 0,
    "start_time": "2024-11-07T18:43:06.051Z"
   },
   {
    "duration": 0,
    "start_time": "2024-11-07T18:43:06.053Z"
   },
   {
    "duration": 0,
    "start_time": "2024-11-07T18:43:06.054Z"
   },
   {
    "duration": 0,
    "start_time": "2024-11-07T18:43:06.055Z"
   },
   {
    "duration": 0,
    "start_time": "2024-11-07T18:43:06.057Z"
   },
   {
    "duration": 0,
    "start_time": "2024-11-07T18:43:06.058Z"
   },
   {
    "duration": 0,
    "start_time": "2024-11-07T18:43:06.110Z"
   },
   {
    "duration": 0,
    "start_time": "2024-11-07T18:43:06.111Z"
   },
   {
    "duration": 0,
    "start_time": "2024-11-07T18:43:06.113Z"
   },
   {
    "duration": 0,
    "start_time": "2024-11-07T18:43:06.114Z"
   },
   {
    "duration": 0,
    "start_time": "2024-11-07T18:43:06.116Z"
   },
   {
    "duration": 0,
    "start_time": "2024-11-07T18:43:06.117Z"
   },
   {
    "duration": 0,
    "start_time": "2024-11-07T18:43:06.119Z"
   },
   {
    "duration": 0,
    "start_time": "2024-11-07T18:43:06.120Z"
   },
   {
    "duration": 0,
    "start_time": "2024-11-07T18:43:06.122Z"
   },
   {
    "duration": 0,
    "start_time": "2024-11-07T18:43:06.123Z"
   },
   {
    "duration": 0,
    "start_time": "2024-11-07T18:43:06.125Z"
   },
   {
    "duration": 0,
    "start_time": "2024-11-07T18:43:06.126Z"
   },
   {
    "duration": 1,
    "start_time": "2024-11-07T18:43:06.127Z"
   },
   {
    "duration": 0,
    "start_time": "2024-11-07T18:43:06.129Z"
   },
   {
    "duration": 0,
    "start_time": "2024-11-07T18:43:06.130Z"
   },
   {
    "duration": 0,
    "start_time": "2024-11-07T18:43:06.131Z"
   },
   {
    "duration": 0,
    "start_time": "2024-11-07T18:43:06.132Z"
   },
   {
    "duration": 0,
    "start_time": "2024-11-07T18:43:06.133Z"
   },
   {
    "duration": 0,
    "start_time": "2024-11-07T18:43:06.134Z"
   },
   {
    "duration": 0,
    "start_time": "2024-11-07T18:43:06.135Z"
   },
   {
    "duration": 0,
    "start_time": "2024-11-07T18:43:06.136Z"
   },
   {
    "duration": 0,
    "start_time": "2024-11-07T18:43:06.137Z"
   },
   {
    "duration": 0,
    "start_time": "2024-11-07T18:43:06.138Z"
   },
   {
    "duration": 6,
    "start_time": "2024-11-07T19:04:55.384Z"
   },
   {
    "duration": 2167,
    "start_time": "2024-11-07T19:04:55.393Z"
   },
   {
    "duration": 161,
    "start_time": "2024-11-07T19:04:57.562Z"
   },
   {
    "duration": 63,
    "start_time": "2024-11-07T19:04:57.725Z"
   },
   {
    "duration": 13,
    "start_time": "2024-11-07T19:04:57.792Z"
   },
   {
    "duration": 17,
    "start_time": "2024-11-07T19:04:57.806Z"
   },
   {
    "duration": 777,
    "start_time": "2024-11-07T19:04:57.825Z"
   },
   {
    "duration": 2,
    "start_time": "2024-11-07T19:04:58.608Z"
   },
   {
    "duration": 10,
    "start_time": "2024-11-07T19:04:58.612Z"
   },
   {
    "duration": 100,
    "start_time": "2024-11-07T19:04:58.623Z"
   },
   {
    "duration": 11,
    "start_time": "2024-11-07T19:04:58.725Z"
   },
   {
    "duration": 115,
    "start_time": "2024-11-07T19:04:58.738Z"
   },
   {
    "duration": 134,
    "start_time": "2024-11-07T19:04:58.857Z"
   },
   {
    "duration": 39,
    "start_time": "2024-11-07T19:04:58.993Z"
   },
   {
    "duration": 10,
    "start_time": "2024-11-07T19:04:59.033Z"
   },
   {
    "duration": 10,
    "start_time": "2024-11-07T19:04:59.045Z"
   },
   {
    "duration": 3,
    "start_time": "2024-11-07T19:04:59.057Z"
   },
   {
    "duration": 17,
    "start_time": "2024-11-07T19:04:59.062Z"
   },
   {
    "duration": 29,
    "start_time": "2024-11-07T19:04:59.081Z"
   },
   {
    "duration": 9,
    "start_time": "2024-11-07T19:04:59.112Z"
   },
   {
    "duration": 3,
    "start_time": "2024-11-07T19:04:59.123Z"
   },
   {
    "duration": 5,
    "start_time": "2024-11-07T19:04:59.128Z"
   },
   {
    "duration": 3,
    "start_time": "2024-11-07T19:04:59.134Z"
   },
   {
    "duration": 9,
    "start_time": "2024-11-07T19:04:59.139Z"
   },
   {
    "duration": 3,
    "start_time": "2024-11-07T19:04:59.149Z"
   },
   {
    "duration": 5,
    "start_time": "2024-11-07T19:04:59.154Z"
   },
   {
    "duration": 2,
    "start_time": "2024-11-07T19:04:59.161Z"
   },
   {
    "duration": 10,
    "start_time": "2024-11-07T19:04:59.208Z"
   },
   {
    "duration": 754,
    "start_time": "2024-11-07T19:04:59.219Z"
   },
   {
    "duration": 100,
    "start_time": "2024-11-07T19:04:59.975Z"
   },
   {
    "duration": 9,
    "start_time": "2024-11-07T19:05:00.077Z"
   },
   {
    "duration": 22,
    "start_time": "2024-11-07T19:05:00.087Z"
   },
   {
    "duration": 4,
    "start_time": "2024-11-07T19:05:00.110Z"
   },
   {
    "duration": 3,
    "start_time": "2024-11-07T19:05:00.116Z"
   },
   {
    "duration": 7,
    "start_time": "2024-11-07T19:05:00.121Z"
   },
   {
    "duration": 6,
    "start_time": "2024-11-07T19:05:00.130Z"
   },
   {
    "duration": 11,
    "start_time": "2024-11-07T19:05:00.138Z"
   },
   {
    "duration": 9,
    "start_time": "2024-11-07T19:05:00.150Z"
   },
   {
    "duration": 57,
    "start_time": "2024-11-07T19:05:00.161Z"
   },
   {
    "duration": 4,
    "start_time": "2024-11-07T19:05:00.223Z"
   },
   {
    "duration": 44,
    "start_time": "2024-11-07T19:05:00.229Z"
   },
   {
    "duration": 7,
    "start_time": "2024-11-07T19:05:00.274Z"
   },
   {
    "duration": 56,
    "start_time": "2024-11-07T19:05:00.283Z"
   },
   {
    "duration": 17,
    "start_time": "2024-11-07T19:05:00.340Z"
   },
   {
    "duration": 4,
    "start_time": "2024-11-07T19:05:00.359Z"
   },
   {
    "duration": 469,
    "start_time": "2024-11-07T19:05:00.365Z"
   },
   {
    "duration": 4,
    "start_time": "2024-11-07T19:05:00.835Z"
   },
   {
    "duration": 4,
    "start_time": "2024-11-07T19:05:00.841Z"
   },
   {
    "duration": 13,
    "start_time": "2024-11-07T19:05:00.846Z"
   },
   {
    "duration": 72,
    "start_time": "2024-11-07T19:05:00.862Z"
   },
   {
    "duration": 53,
    "start_time": "2024-11-07T19:05:00.936Z"
   },
   {
    "duration": 359,
    "start_time": "2024-11-07T19:05:00.991Z"
   },
   {
    "duration": 607,
    "start_time": "2024-11-07T19:05:01.351Z"
   },
   {
    "duration": 1587,
    "start_time": "2024-11-07T19:05:01.960Z"
   },
   {
    "duration": 496,
    "start_time": "2024-11-07T19:05:03.549Z"
   },
   {
    "duration": 164,
    "start_time": "2024-11-07T19:05:04.047Z"
   },
   {
    "duration": 6,
    "start_time": "2024-11-07T19:09:35.238Z"
   },
   {
    "duration": 3,
    "start_time": "2024-11-07T19:11:06.815Z"
   },
   {
    "duration": 4,
    "start_time": "2024-11-07T19:11:55.704Z"
   },
   {
    "duration": 3,
    "start_time": "2024-11-07T19:14:35.639Z"
   },
   {
    "duration": 4,
    "start_time": "2024-11-07T19:15:26.947Z"
   },
   {
    "duration": 2,
    "start_time": "2024-11-07T19:15:37.719Z"
   },
   {
    "duration": 6,
    "start_time": "2024-11-07T19:15:56.335Z"
   },
   {
    "duration": 445,
    "start_time": "2024-11-07T19:15:56.343Z"
   },
   {
    "duration": 161,
    "start_time": "2024-11-07T19:15:56.790Z"
   },
   {
    "duration": 4,
    "start_time": "2024-11-07T19:15:56.953Z"
   },
   {
    "duration": 0,
    "start_time": "2024-11-07T19:15:56.960Z"
   },
   {
    "duration": 0,
    "start_time": "2024-11-07T19:15:56.961Z"
   },
   {
    "duration": 0,
    "start_time": "2024-11-07T19:15:56.962Z"
   },
   {
    "duration": 0,
    "start_time": "2024-11-07T19:15:56.963Z"
   },
   {
    "duration": 0,
    "start_time": "2024-11-07T19:15:56.965Z"
   },
   {
    "duration": 0,
    "start_time": "2024-11-07T19:15:56.966Z"
   },
   {
    "duration": 0,
    "start_time": "2024-11-07T19:15:56.967Z"
   },
   {
    "duration": 0,
    "start_time": "2024-11-07T19:15:56.968Z"
   },
   {
    "duration": 0,
    "start_time": "2024-11-07T19:15:56.970Z"
   },
   {
    "duration": 0,
    "start_time": "2024-11-07T19:15:56.972Z"
   },
   {
    "duration": 0,
    "start_time": "2024-11-07T19:15:56.973Z"
   },
   {
    "duration": 0,
    "start_time": "2024-11-07T19:15:56.974Z"
   },
   {
    "duration": 0,
    "start_time": "2024-11-07T19:15:57.009Z"
   },
   {
    "duration": 0,
    "start_time": "2024-11-07T19:15:57.011Z"
   },
   {
    "duration": 0,
    "start_time": "2024-11-07T19:15:57.012Z"
   },
   {
    "duration": 0,
    "start_time": "2024-11-07T19:15:57.013Z"
   },
   {
    "duration": 0,
    "start_time": "2024-11-07T19:15:57.015Z"
   },
   {
    "duration": 0,
    "start_time": "2024-11-07T19:15:57.017Z"
   },
   {
    "duration": 0,
    "start_time": "2024-11-07T19:15:57.019Z"
   },
   {
    "duration": 0,
    "start_time": "2024-11-07T19:15:57.021Z"
   },
   {
    "duration": 0,
    "start_time": "2024-11-07T19:15:57.022Z"
   },
   {
    "duration": 0,
    "start_time": "2024-11-07T19:15:57.023Z"
   },
   {
    "duration": 0,
    "start_time": "2024-11-07T19:15:57.024Z"
   },
   {
    "duration": 0,
    "start_time": "2024-11-07T19:15:57.025Z"
   },
   {
    "duration": 0,
    "start_time": "2024-11-07T19:15:57.026Z"
   },
   {
    "duration": 0,
    "start_time": "2024-11-07T19:15:57.027Z"
   },
   {
    "duration": 0,
    "start_time": "2024-11-07T19:15:57.029Z"
   },
   {
    "duration": 0,
    "start_time": "2024-11-07T19:15:57.030Z"
   },
   {
    "duration": 0,
    "start_time": "2024-11-07T19:15:57.031Z"
   },
   {
    "duration": 0,
    "start_time": "2024-11-07T19:15:57.032Z"
   },
   {
    "duration": 0,
    "start_time": "2024-11-07T19:15:57.033Z"
   },
   {
    "duration": 0,
    "start_time": "2024-11-07T19:15:57.034Z"
   },
   {
    "duration": 0,
    "start_time": "2024-11-07T19:15:57.035Z"
   },
   {
    "duration": 0,
    "start_time": "2024-11-07T19:15:57.037Z"
   },
   {
    "duration": 0,
    "start_time": "2024-11-07T19:15:57.038Z"
   },
   {
    "duration": 0,
    "start_time": "2024-11-07T19:15:57.039Z"
   },
   {
    "duration": 0,
    "start_time": "2024-11-07T19:15:57.040Z"
   },
   {
    "duration": 0,
    "start_time": "2024-11-07T19:15:57.041Z"
   },
   {
    "duration": 0,
    "start_time": "2024-11-07T19:15:57.042Z"
   },
   {
    "duration": 0,
    "start_time": "2024-11-07T19:15:57.045Z"
   },
   {
    "duration": 0,
    "start_time": "2024-11-07T19:15:57.046Z"
   },
   {
    "duration": 0,
    "start_time": "2024-11-07T19:15:57.047Z"
   },
   {
    "duration": 0,
    "start_time": "2024-11-07T19:15:57.109Z"
   },
   {
    "duration": 0,
    "start_time": "2024-11-07T19:15:57.110Z"
   },
   {
    "duration": 0,
    "start_time": "2024-11-07T19:15:57.111Z"
   },
   {
    "duration": 0,
    "start_time": "2024-11-07T19:15:57.112Z"
   },
   {
    "duration": 0,
    "start_time": "2024-11-07T19:15:57.114Z"
   },
   {
    "duration": 0,
    "start_time": "2024-11-07T19:15:57.114Z"
   },
   {
    "duration": 0,
    "start_time": "2024-11-07T19:15:57.116Z"
   },
   {
    "duration": 0,
    "start_time": "2024-11-07T19:15:57.117Z"
   },
   {
    "duration": 0,
    "start_time": "2024-11-07T19:15:57.118Z"
   },
   {
    "duration": 0,
    "start_time": "2024-11-07T19:15:57.119Z"
   },
   {
    "duration": 0,
    "start_time": "2024-11-07T19:15:57.120Z"
   },
   {
    "duration": 0,
    "start_time": "2024-11-07T19:15:57.121Z"
   },
   {
    "duration": 6,
    "start_time": "2024-11-07T19:16:25.736Z"
   },
   {
    "duration": 433,
    "start_time": "2024-11-07T19:16:25.753Z"
   },
   {
    "duration": 163,
    "start_time": "2024-11-07T19:16:26.188Z"
   },
   {
    "duration": 3,
    "start_time": "2024-11-07T19:16:26.352Z"
   },
   {
    "duration": 56,
    "start_time": "2024-11-07T19:16:26.356Z"
   },
   {
    "duration": 9,
    "start_time": "2024-11-07T19:16:26.414Z"
   },
   {
    "duration": 9,
    "start_time": "2024-11-07T19:16:26.425Z"
   },
   {
    "duration": 713,
    "start_time": "2024-11-07T19:16:26.436Z"
   },
   {
    "duration": 3,
    "start_time": "2024-11-07T19:16:27.150Z"
   },
   {
    "duration": 10,
    "start_time": "2024-11-07T19:16:27.155Z"
   },
   {
    "duration": 113,
    "start_time": "2024-11-07T19:16:27.167Z"
   },
   {
    "duration": 14,
    "start_time": "2024-11-07T19:16:27.282Z"
   },
   {
    "duration": 127,
    "start_time": "2024-11-07T19:16:27.298Z"
   },
   {
    "duration": 138,
    "start_time": "2024-11-07T19:16:27.426Z"
   },
   {
    "duration": 27,
    "start_time": "2024-11-07T19:16:27.569Z"
   },
   {
    "duration": 23,
    "start_time": "2024-11-07T19:16:27.599Z"
   },
   {
    "duration": 12,
    "start_time": "2024-11-07T19:16:27.624Z"
   },
   {
    "duration": 4,
    "start_time": "2024-11-07T19:16:27.637Z"
   },
   {
    "duration": 18,
    "start_time": "2024-11-07T19:16:27.642Z"
   },
   {
    "duration": 6,
    "start_time": "2024-11-07T19:16:27.662Z"
   },
   {
    "duration": 9,
    "start_time": "2024-11-07T19:16:27.669Z"
   },
   {
    "duration": 3,
    "start_time": "2024-11-07T19:16:27.709Z"
   },
   {
    "duration": 6,
    "start_time": "2024-11-07T19:16:27.714Z"
   },
   {
    "duration": 3,
    "start_time": "2024-11-07T19:16:27.721Z"
   },
   {
    "duration": 9,
    "start_time": "2024-11-07T19:16:27.726Z"
   },
   {
    "duration": 3,
    "start_time": "2024-11-07T19:16:27.738Z"
   },
   {
    "duration": 5,
    "start_time": "2024-11-07T19:16:27.744Z"
   },
   {
    "duration": 2,
    "start_time": "2024-11-07T19:16:27.751Z"
   },
   {
    "duration": 7,
    "start_time": "2024-11-07T19:16:27.756Z"
   },
   {
    "duration": 798,
    "start_time": "2024-11-07T19:16:27.765Z"
   },
   {
    "duration": 101,
    "start_time": "2024-11-07T19:16:28.565Z"
   },
   {
    "duration": 10,
    "start_time": "2024-11-07T19:16:28.668Z"
   },
   {
    "duration": 11,
    "start_time": "2024-11-07T19:16:28.680Z"
   },
   {
    "duration": 4,
    "start_time": "2024-11-07T19:16:28.708Z"
   },
   {
    "duration": 4,
    "start_time": "2024-11-07T19:16:28.713Z"
   },
   {
    "duration": 7,
    "start_time": "2024-11-07T19:16:28.720Z"
   },
   {
    "duration": 6,
    "start_time": "2024-11-07T19:16:28.729Z"
   },
   {
    "duration": 11,
    "start_time": "2024-11-07T19:16:28.737Z"
   },
   {
    "duration": 9,
    "start_time": "2024-11-07T19:16:28.750Z"
   },
   {
    "duration": 61,
    "start_time": "2024-11-07T19:16:28.761Z"
   },
   {
    "duration": 4,
    "start_time": "2024-11-07T19:16:28.824Z"
   },
   {
    "duration": 46,
    "start_time": "2024-11-07T19:16:28.834Z"
   },
   {
    "duration": 6,
    "start_time": "2024-11-07T19:16:28.882Z"
   },
   {
    "duration": 31,
    "start_time": "2024-11-07T19:16:28.909Z"
   },
   {
    "duration": 18,
    "start_time": "2024-11-07T19:16:28.941Z"
   },
   {
    "duration": 4,
    "start_time": "2024-11-07T19:16:28.962Z"
   },
   {
    "duration": 461,
    "start_time": "2024-11-07T19:16:28.968Z"
   },
   {
    "duration": 4,
    "start_time": "2024-11-07T19:16:29.432Z"
   },
   {
    "duration": 4,
    "start_time": "2024-11-07T19:16:29.438Z"
   },
   {
    "duration": 14,
    "start_time": "2024-11-07T19:16:29.443Z"
   },
   {
    "duration": 76,
    "start_time": "2024-11-07T19:16:29.459Z"
   },
   {
    "duration": 62,
    "start_time": "2024-11-07T19:16:29.536Z"
   },
   {
    "duration": 389,
    "start_time": "2024-11-07T19:16:29.609Z"
   },
   {
    "duration": 554,
    "start_time": "2024-11-07T19:16:30.009Z"
   },
   {
    "duration": 1354,
    "start_time": "2024-11-07T19:16:30.565Z"
   },
   {
    "duration": 445,
    "start_time": "2024-11-07T19:16:31.922Z"
   },
   {
    "duration": 164,
    "start_time": "2024-11-07T19:16:32.369Z"
   },
   {
    "duration": 6,
    "start_time": "2024-11-07T20:54:33.940Z"
   },
   {
    "duration": 2230,
    "start_time": "2024-11-07T20:54:33.950Z"
   },
   {
    "duration": 156,
    "start_time": "2024-11-07T20:54:36.182Z"
   },
   {
    "duration": 3,
    "start_time": "2024-11-07T20:54:36.340Z"
   },
   {
    "duration": 60,
    "start_time": "2024-11-07T20:54:36.345Z"
   },
   {
    "duration": 12,
    "start_time": "2024-11-07T20:54:36.406Z"
   },
   {
    "duration": 14,
    "start_time": "2024-11-07T20:54:36.420Z"
   },
   {
    "duration": 838,
    "start_time": "2024-11-07T20:54:36.436Z"
   },
   {
    "duration": 3,
    "start_time": "2024-11-07T20:54:37.276Z"
   },
   {
    "duration": 11,
    "start_time": "2024-11-07T20:54:37.282Z"
   },
   {
    "duration": 101,
    "start_time": "2024-11-07T20:54:37.311Z"
   },
   {
    "duration": 12,
    "start_time": "2024-11-07T20:54:37.414Z"
   },
   {
    "duration": 120,
    "start_time": "2024-11-07T20:54:37.429Z"
   },
   {
    "duration": 145,
    "start_time": "2024-11-07T20:54:37.550Z"
   },
   {
    "duration": 33,
    "start_time": "2024-11-07T20:54:37.696Z"
   },
   {
    "duration": 10,
    "start_time": "2024-11-07T20:54:37.730Z"
   },
   {
    "duration": 12,
    "start_time": "2024-11-07T20:54:37.741Z"
   },
   {
    "duration": 4,
    "start_time": "2024-11-07T20:54:37.754Z"
   },
   {
    "duration": 18,
    "start_time": "2024-11-07T20:54:37.760Z"
   },
   {
    "duration": 31,
    "start_time": "2024-11-07T20:54:37.781Z"
   },
   {
    "duration": 9,
    "start_time": "2024-11-07T20:54:37.814Z"
   },
   {
    "duration": 3,
    "start_time": "2024-11-07T20:54:37.825Z"
   },
   {
    "duration": 5,
    "start_time": "2024-11-07T20:54:37.830Z"
   },
   {
    "duration": 4,
    "start_time": "2024-11-07T20:54:37.836Z"
   },
   {
    "duration": 9,
    "start_time": "2024-11-07T20:54:37.841Z"
   },
   {
    "duration": 4,
    "start_time": "2024-11-07T20:54:37.851Z"
   },
   {
    "duration": 4,
    "start_time": "2024-11-07T20:54:37.857Z"
   },
   {
    "duration": 3,
    "start_time": "2024-11-07T20:54:37.862Z"
   },
   {
    "duration": 8,
    "start_time": "2024-11-07T20:54:37.914Z"
   },
   {
    "duration": 811,
    "start_time": "2024-11-07T20:54:37.924Z"
   },
   {
    "duration": 113,
    "start_time": "2024-11-07T20:54:38.739Z"
   },
   {
    "duration": 9,
    "start_time": "2024-11-07T20:54:38.854Z"
   },
   {
    "duration": 10,
    "start_time": "2024-11-07T20:54:38.865Z"
   },
   {
    "duration": 4,
    "start_time": "2024-11-07T20:54:38.878Z"
   },
   {
    "duration": 31,
    "start_time": "2024-11-07T20:54:38.883Z"
   },
   {
    "duration": 7,
    "start_time": "2024-11-07T20:54:38.916Z"
   },
   {
    "duration": 7,
    "start_time": "2024-11-07T20:54:38.925Z"
   },
   {
    "duration": 12,
    "start_time": "2024-11-07T20:54:38.933Z"
   },
   {
    "duration": 10,
    "start_time": "2024-11-07T20:54:38.947Z"
   },
   {
    "duration": 54,
    "start_time": "2024-11-07T20:54:38.959Z"
   },
   {
    "duration": 4,
    "start_time": "2024-11-07T20:54:39.015Z"
   },
   {
    "duration": 45,
    "start_time": "2024-11-07T20:54:39.021Z"
   },
   {
    "duration": 7,
    "start_time": "2024-11-07T20:54:39.068Z"
   },
   {
    "duration": 57,
    "start_time": "2024-11-07T20:54:39.077Z"
   },
   {
    "duration": 17,
    "start_time": "2024-11-07T20:54:39.136Z"
   },
   {
    "duration": 4,
    "start_time": "2024-11-07T20:54:39.155Z"
   },
   {
    "duration": 460,
    "start_time": "2024-11-07T20:54:39.160Z"
   },
   {
    "duration": 4,
    "start_time": "2024-11-07T20:54:39.622Z"
   },
   {
    "duration": 4,
    "start_time": "2024-11-07T20:54:39.628Z"
   },
   {
    "duration": 15,
    "start_time": "2024-11-07T20:54:39.633Z"
   },
   {
    "duration": 77,
    "start_time": "2024-11-07T20:54:39.650Z"
   },
   {
    "duration": 53,
    "start_time": "2024-11-07T20:54:39.728Z"
   },
   {
    "duration": 380,
    "start_time": "2024-11-07T20:54:39.783Z"
   },
   {
    "duration": 635,
    "start_time": "2024-11-07T20:54:40.165Z"
   },
   {
    "duration": 1517,
    "start_time": "2024-11-07T20:54:40.802Z"
   },
   {
    "duration": 523,
    "start_time": "2024-11-07T20:54:42.321Z"
   },
   {
    "duration": 172,
    "start_time": "2024-11-07T20:54:42.846Z"
   },
   {
    "duration": 2,
    "start_time": "2024-11-07T20:59:09.105Z"
   },
   {
    "duration": 6,
    "start_time": "2024-11-08T16:01:24.287Z"
   },
   {
    "duration": 2139,
    "start_time": "2024-11-08T16:01:24.977Z"
   },
   {
    "duration": 158,
    "start_time": "2024-11-08T16:03:45.121Z"
   },
   {
    "duration": 122,
    "start_time": "2024-11-08T16:04:15.434Z"
   },
   {
    "duration": 56,
    "start_time": "2024-11-08T16:04:50.097Z"
   },
   {
    "duration": 11,
    "start_time": "2024-11-08T16:05:03.275Z"
   },
   {
    "duration": 12,
    "start_time": "2024-11-08T16:06:30.302Z"
   },
   {
    "duration": 799,
    "start_time": "2024-11-08T16:07:01.175Z"
   },
   {
    "duration": 6,
    "start_time": "2024-11-08T16:07:27.892Z"
   },
   {
    "duration": 407,
    "start_time": "2024-11-08T16:07:27.900Z"
   },
   {
    "duration": 175,
    "start_time": "2024-11-08T16:07:28.309Z"
   },
   {
    "duration": 46,
    "start_time": "2024-11-08T16:07:28.486Z"
   },
   {
    "duration": 8,
    "start_time": "2024-11-08T16:07:28.534Z"
   },
   {
    "duration": 9,
    "start_time": "2024-11-08T16:07:28.544Z"
   },
   {
    "duration": 729,
    "start_time": "2024-11-08T16:07:28.555Z"
   },
   {
    "duration": 2,
    "start_time": "2024-11-08T16:07:29.286Z"
   },
   {
    "duration": 11,
    "start_time": "2024-11-08T16:07:29.292Z"
   },
   {
    "duration": 109,
    "start_time": "2024-11-08T16:07:29.304Z"
   },
   {
    "duration": 18,
    "start_time": "2024-11-08T16:07:29.415Z"
   },
   {
    "duration": 113,
    "start_time": "2024-11-08T16:07:29.435Z"
   },
   {
    "duration": 134,
    "start_time": "2024-11-08T16:07:29.549Z"
   },
   {
    "duration": 27,
    "start_time": "2024-11-08T16:07:29.685Z"
   },
   {
    "duration": 18,
    "start_time": "2024-11-08T16:07:29.714Z"
   },
   {
    "duration": 11,
    "start_time": "2024-11-08T16:07:29.734Z"
   },
   {
    "duration": 4,
    "start_time": "2024-11-08T16:07:29.747Z"
   },
   {
    "duration": 17,
    "start_time": "2024-11-08T16:07:29.753Z"
   },
   {
    "duration": 3,
    "start_time": "2024-11-08T16:07:29.772Z"
   },
   {
    "duration": 9,
    "start_time": "2024-11-08T16:07:29.777Z"
   },
   {
    "duration": 38,
    "start_time": "2024-11-08T16:07:29.788Z"
   },
   {
    "duration": 6,
    "start_time": "2024-11-08T16:07:29.828Z"
   },
   {
    "duration": 2,
    "start_time": "2024-11-08T16:07:29.836Z"
   },
   {
    "duration": 10,
    "start_time": "2024-11-08T16:07:29.843Z"
   },
   {
    "duration": 4,
    "start_time": "2024-11-08T16:07:29.854Z"
   },
   {
    "duration": 6,
    "start_time": "2024-11-08T16:07:29.859Z"
   },
   {
    "duration": 2,
    "start_time": "2024-11-08T16:07:29.866Z"
   },
   {
    "duration": 8,
    "start_time": "2024-11-08T16:07:29.870Z"
   },
   {
    "duration": 792,
    "start_time": "2024-11-08T16:07:29.879Z"
   },
   {
    "duration": 108,
    "start_time": "2024-11-08T16:07:30.673Z"
   },
   {
    "duration": 10,
    "start_time": "2024-11-08T16:07:30.782Z"
   },
   {
    "duration": 11,
    "start_time": "2024-11-08T16:07:30.793Z"
   },
   {
    "duration": 3,
    "start_time": "2024-11-08T16:07:30.823Z"
   },
   {
    "duration": 4,
    "start_time": "2024-11-08T16:07:30.828Z"
   },
   {
    "duration": 7,
    "start_time": "2024-11-08T16:07:30.834Z"
   },
   {
    "duration": 7,
    "start_time": "2024-11-08T16:07:30.842Z"
   },
   {
    "duration": 11,
    "start_time": "2024-11-08T16:07:30.850Z"
   },
   {
    "duration": 9,
    "start_time": "2024-11-08T16:07:30.863Z"
   },
   {
    "duration": 57,
    "start_time": "2024-11-08T16:07:30.874Z"
   },
   {
    "duration": 4,
    "start_time": "2024-11-08T16:07:30.933Z"
   },
   {
    "duration": 44,
    "start_time": "2024-11-08T16:07:30.939Z"
   },
   {
    "duration": 7,
    "start_time": "2024-11-08T16:07:30.984Z"
   },
   {
    "duration": 57,
    "start_time": "2024-11-08T16:07:30.992Z"
   },
   {
    "duration": 17,
    "start_time": "2024-11-08T16:07:31.051Z"
   },
   {
    "duration": 4,
    "start_time": "2024-11-08T16:07:31.070Z"
   },
   {
    "duration": 469,
    "start_time": "2024-11-08T16:07:31.076Z"
   },
   {
    "duration": 4,
    "start_time": "2024-11-08T16:07:31.546Z"
   },
   {
    "duration": 4,
    "start_time": "2024-11-08T16:07:31.552Z"
   },
   {
    "duration": 14,
    "start_time": "2024-11-08T16:07:31.558Z"
   },
   {
    "duration": 72,
    "start_time": "2024-11-08T16:07:31.573Z"
   },
   {
    "duration": 53,
    "start_time": "2024-11-08T16:07:31.647Z"
   },
   {
    "duration": 362,
    "start_time": "2024-11-08T16:07:31.702Z"
   },
   {
    "duration": 553,
    "start_time": "2024-11-08T16:07:32.066Z"
   },
   {
    "duration": 1426,
    "start_time": "2024-11-08T16:07:32.625Z"
   },
   {
    "duration": 455,
    "start_time": "2024-11-08T16:07:34.053Z"
   },
   {
    "duration": 160,
    "start_time": "2024-11-08T16:07:34.509Z"
   },
   {
    "duration": 7,
    "start_time": "2024-11-08T16:50:38.686Z"
   },
   {
    "duration": 2074,
    "start_time": "2024-11-08T16:50:38.696Z"
   },
   {
    "duration": 154,
    "start_time": "2024-11-08T16:50:40.772Z"
   },
   {
    "duration": 59,
    "start_time": "2024-11-08T16:50:40.928Z"
   },
   {
    "duration": 8,
    "start_time": "2024-11-08T16:50:40.990Z"
   },
   {
    "duration": 10,
    "start_time": "2024-11-08T16:50:41.000Z"
   },
   {
    "duration": 771,
    "start_time": "2024-11-08T16:50:41.011Z"
   },
   {
    "duration": 3,
    "start_time": "2024-11-08T16:50:41.783Z"
   },
   {
    "duration": 23,
    "start_time": "2024-11-08T16:50:41.788Z"
   },
   {
    "duration": 88,
    "start_time": "2024-11-08T16:50:41.813Z"
   },
   {
    "duration": 12,
    "start_time": "2024-11-08T16:50:41.910Z"
   },
   {
    "duration": 120,
    "start_time": "2024-11-08T16:50:41.923Z"
   },
   {
    "duration": 133,
    "start_time": "2024-11-08T16:50:42.044Z"
   },
   {
    "duration": 35,
    "start_time": "2024-11-08T16:50:42.180Z"
   },
   {
    "duration": 10,
    "start_time": "2024-11-08T16:50:42.217Z"
   },
   {
    "duration": 12,
    "start_time": "2024-11-08T16:50:42.228Z"
   },
   {
    "duration": 3,
    "start_time": "2024-11-08T16:50:42.243Z"
   },
   {
    "duration": 18,
    "start_time": "2024-11-08T16:50:42.247Z"
   },
   {
    "duration": 4,
    "start_time": "2024-11-08T16:50:42.266Z"
   },
   {
    "duration": 44,
    "start_time": "2024-11-08T16:50:42.272Z"
   },
   {
    "duration": 3,
    "start_time": "2024-11-08T16:50:42.318Z"
   },
   {
    "duration": 5,
    "start_time": "2024-11-08T16:50:42.322Z"
   },
   {
    "duration": 2,
    "start_time": "2024-11-08T16:50:42.329Z"
   },
   {
    "duration": 8,
    "start_time": "2024-11-08T16:50:42.333Z"
   },
   {
    "duration": 3,
    "start_time": "2024-11-08T16:50:42.343Z"
   },
   {
    "duration": 5,
    "start_time": "2024-11-08T16:50:42.348Z"
   },
   {
    "duration": 2,
    "start_time": "2024-11-08T16:50:42.355Z"
   },
   {
    "duration": 52,
    "start_time": "2024-11-08T16:50:42.359Z"
   },
   {
    "duration": 757,
    "start_time": "2024-11-08T16:50:42.413Z"
   },
   {
    "duration": 100,
    "start_time": "2024-11-08T16:50:43.172Z"
   },
   {
    "duration": 9,
    "start_time": "2024-11-08T16:50:43.274Z"
   },
   {
    "duration": 26,
    "start_time": "2024-11-08T16:50:43.284Z"
   },
   {
    "duration": 4,
    "start_time": "2024-11-08T16:50:43.311Z"
   },
   {
    "duration": 3,
    "start_time": "2024-11-08T16:50:43.317Z"
   },
   {
    "duration": 8,
    "start_time": "2024-11-08T16:50:43.322Z"
   },
   {
    "duration": 6,
    "start_time": "2024-11-08T16:50:43.331Z"
   },
   {
    "duration": 12,
    "start_time": "2024-11-08T16:50:43.339Z"
   },
   {
    "duration": 9,
    "start_time": "2024-11-08T16:50:43.353Z"
   },
   {
    "duration": 62,
    "start_time": "2024-11-08T16:50:43.364Z"
   },
   {
    "duration": 4,
    "start_time": "2024-11-08T16:50:43.429Z"
   },
   {
    "duration": 44,
    "start_time": "2024-11-08T16:50:43.438Z"
   },
   {
    "duration": 28,
    "start_time": "2024-11-08T16:50:43.483Z"
   },
   {
    "duration": 31,
    "start_time": "2024-11-08T16:50:43.512Z"
   },
   {
    "duration": 17,
    "start_time": "2024-11-08T16:50:43.545Z"
   },
   {
    "duration": 4,
    "start_time": "2024-11-08T16:50:43.565Z"
   },
   {
    "duration": 459,
    "start_time": "2024-11-08T16:50:43.572Z"
   },
   {
    "duration": 4,
    "start_time": "2024-11-08T16:50:44.033Z"
   },
   {
    "duration": 4,
    "start_time": "2024-11-08T16:50:44.039Z"
   },
   {
    "duration": 13,
    "start_time": "2024-11-08T16:50:44.045Z"
   },
   {
    "duration": 81,
    "start_time": "2024-11-08T16:50:44.060Z"
   },
   {
    "duration": 52,
    "start_time": "2024-11-08T16:50:44.143Z"
   },
   {
    "duration": 392,
    "start_time": "2024-11-08T16:50:44.197Z"
   },
   {
    "duration": 568,
    "start_time": "2024-11-08T16:50:44.591Z"
   },
   {
    "duration": 1294,
    "start_time": "2024-11-08T16:50:45.161Z"
   },
   {
    "duration": 421,
    "start_time": "2024-11-08T16:50:46.457Z"
   },
   {
    "duration": 161,
    "start_time": "2024-11-08T16:50:46.879Z"
   },
   {
    "duration": 156,
    "start_time": "2024-11-08T20:03:32.671Z"
   },
   {
    "duration": 2446,
    "start_time": "2024-11-08T20:03:43.141Z"
   },
   {
    "duration": 162,
    "start_time": "2024-11-08T20:03:45.589Z"
   },
   {
    "duration": 68,
    "start_time": "2024-11-08T20:03:45.753Z"
   },
   {
    "duration": 11,
    "start_time": "2024-11-08T20:03:45.822Z"
   },
   {
    "duration": 11,
    "start_time": "2024-11-08T20:03:45.835Z"
   },
   {
    "duration": 815,
    "start_time": "2024-11-08T20:03:45.848Z"
   },
   {
    "duration": 10,
    "start_time": "2024-11-08T20:03:46.665Z"
   },
   {
    "duration": 96,
    "start_time": "2024-11-08T20:03:46.677Z"
   },
   {
    "duration": 20,
    "start_time": "2024-11-08T20:03:46.775Z"
   },
   {
    "duration": 122,
    "start_time": "2024-11-08T20:03:46.797Z"
   },
   {
    "duration": 133,
    "start_time": "2024-11-08T20:03:46.921Z"
   },
   {
    "duration": 36,
    "start_time": "2024-11-08T20:03:47.056Z"
   },
   {
    "duration": 10,
    "start_time": "2024-11-08T20:03:47.094Z"
   },
   {
    "duration": 12,
    "start_time": "2024-11-08T20:03:47.108Z"
   },
   {
    "duration": 3,
    "start_time": "2024-11-08T20:03:47.121Z"
   },
   {
    "duration": 18,
    "start_time": "2024-11-08T20:03:47.126Z"
   },
   {
    "duration": 4,
    "start_time": "2024-11-08T20:03:47.146Z"
   },
   {
    "duration": 43,
    "start_time": "2024-11-08T20:03:47.151Z"
   },
   {
    "duration": 3,
    "start_time": "2024-11-08T20:03:47.196Z"
   },
   {
    "duration": 5,
    "start_time": "2024-11-08T20:03:47.202Z"
   },
   {
    "duration": 8,
    "start_time": "2024-11-08T20:03:47.208Z"
   },
   {
    "duration": 3,
    "start_time": "2024-11-08T20:03:47.218Z"
   },
   {
    "duration": 5,
    "start_time": "2024-11-08T20:03:47.224Z"
   },
   {
    "duration": 8,
    "start_time": "2024-11-08T20:03:47.230Z"
   },
   {
    "duration": 820,
    "start_time": "2024-11-08T20:03:47.239Z"
   },
   {
    "duration": 111,
    "start_time": "2024-11-08T20:03:48.060Z"
   },
   {
    "duration": 15,
    "start_time": "2024-11-08T20:03:48.172Z"
   },
   {
    "duration": 11,
    "start_time": "2024-11-08T20:03:48.189Z"
   },
   {
    "duration": 4,
    "start_time": "2024-11-08T20:03:48.202Z"
   },
   {
    "duration": 4,
    "start_time": "2024-11-08T20:03:48.207Z"
   },
   {
    "duration": 7,
    "start_time": "2024-11-08T20:03:48.213Z"
   },
   {
    "duration": 6,
    "start_time": "2024-11-08T20:03:48.222Z"
   },
   {
    "duration": 12,
    "start_time": "2024-11-08T20:03:48.229Z"
   },
   {
    "duration": 51,
    "start_time": "2024-11-08T20:03:48.242Z"
   },
   {
    "duration": 20,
    "start_time": "2024-11-08T20:03:48.295Z"
   },
   {
    "duration": 5,
    "start_time": "2024-11-08T20:03:48.318Z"
   },
   {
    "duration": 64,
    "start_time": "2024-11-08T20:03:48.325Z"
   },
   {
    "duration": 7,
    "start_time": "2024-11-08T20:03:48.391Z"
   },
   {
    "duration": 32,
    "start_time": "2024-11-08T20:03:48.399Z"
   },
   {
    "duration": 17,
    "start_time": "2024-11-08T20:03:48.433Z"
   },
   {
    "duration": 4,
    "start_time": "2024-11-08T20:03:48.486Z"
   },
   {
    "duration": 446,
    "start_time": "2024-11-08T20:03:48.492Z"
   },
   {
    "duration": 4,
    "start_time": "2024-11-08T20:03:48.940Z"
   },
   {
    "duration": 3,
    "start_time": "2024-11-08T20:03:48.946Z"
   },
   {
    "duration": 36,
    "start_time": "2024-11-08T20:03:48.951Z"
   },
   {
    "duration": 52,
    "start_time": "2024-11-08T20:03:48.989Z"
   },
   {
    "duration": 65,
    "start_time": "2024-11-08T20:03:49.043Z"
   },
   {
    "duration": 391,
    "start_time": "2024-11-08T20:03:49.109Z"
   },
   {
    "duration": 548,
    "start_time": "2024-11-08T20:03:49.502Z"
   },
   {
    "duration": 1372,
    "start_time": "2024-11-08T20:03:50.052Z"
   },
   {
    "duration": 460,
    "start_time": "2024-11-08T20:03:51.426Z"
   },
   {
    "duration": 156,
    "start_time": "2024-11-08T20:03:51.888Z"
   },
   {
    "duration": 427,
    "start_time": "2024-11-08T20:10:03.273Z"
   },
   {
    "duration": 170,
    "start_time": "2024-11-08T20:10:03.702Z"
   },
   {
    "duration": 54,
    "start_time": "2024-11-08T20:10:03.874Z"
   },
   {
    "duration": 8,
    "start_time": "2024-11-08T20:10:03.931Z"
   },
   {
    "duration": 9,
    "start_time": "2024-11-08T20:10:03.940Z"
   },
   {
    "duration": 750,
    "start_time": "2024-11-08T20:10:03.950Z"
   },
   {
    "duration": 10,
    "start_time": "2024-11-08T20:10:04.702Z"
   },
   {
    "duration": 110,
    "start_time": "2024-11-08T20:10:04.714Z"
   },
   {
    "duration": 12,
    "start_time": "2024-11-08T20:10:04.826Z"
   },
   {
    "duration": 127,
    "start_time": "2024-11-08T20:10:04.842Z"
   },
   {
    "duration": 143,
    "start_time": "2024-11-08T20:10:04.971Z"
   },
   {
    "duration": 28,
    "start_time": "2024-11-08T20:10:05.116Z"
   },
   {
    "duration": 10,
    "start_time": "2024-11-08T20:10:05.146Z"
   },
   {
    "duration": 36,
    "start_time": "2024-11-08T20:10:05.158Z"
   },
   {
    "duration": 3,
    "start_time": "2024-11-08T20:10:05.196Z"
   },
   {
    "duration": 18,
    "start_time": "2024-11-08T20:10:05.201Z"
   },
   {
    "duration": 4,
    "start_time": "2024-11-08T20:10:05.221Z"
   },
   {
    "duration": 9,
    "start_time": "2024-11-08T20:10:05.226Z"
   },
   {
    "duration": 4,
    "start_time": "2024-11-08T20:10:05.236Z"
   },
   {
    "duration": 5,
    "start_time": "2024-11-08T20:10:05.241Z"
   },
   {
    "duration": 40,
    "start_time": "2024-11-08T20:10:05.247Z"
   },
   {
    "duration": 3,
    "start_time": "2024-11-08T20:10:05.289Z"
   },
   {
    "duration": 5,
    "start_time": "2024-11-08T20:10:05.294Z"
   },
   {
    "duration": 7,
    "start_time": "2024-11-08T20:10:05.301Z"
   },
   {
    "duration": 797,
    "start_time": "2024-11-08T20:10:05.309Z"
   },
   {
    "duration": 112,
    "start_time": "2024-11-08T20:10:06.107Z"
   },
   {
    "duration": 9,
    "start_time": "2024-11-08T20:10:06.220Z"
   },
   {
    "duration": 11,
    "start_time": "2024-11-08T20:10:06.234Z"
   },
   {
    "duration": 4,
    "start_time": "2024-11-08T20:10:06.246Z"
   },
   {
    "duration": 7,
    "start_time": "2024-11-08T20:10:06.251Z"
   },
   {
    "duration": 31,
    "start_time": "2024-11-08T20:10:06.262Z"
   },
   {
    "duration": 6,
    "start_time": "2024-11-08T20:10:06.294Z"
   },
   {
    "duration": 11,
    "start_time": "2024-11-08T20:10:06.302Z"
   },
   {
    "duration": 9,
    "start_time": "2024-11-08T20:10:06.315Z"
   },
   {
    "duration": 21,
    "start_time": "2024-11-08T20:10:06.326Z"
   },
   {
    "duration": 39,
    "start_time": "2024-11-08T20:10:06.348Z"
   },
   {
    "duration": 44,
    "start_time": "2024-11-08T20:10:06.389Z"
   },
   {
    "duration": 6,
    "start_time": "2024-11-08T20:10:06.436Z"
   },
   {
    "duration": 54,
    "start_time": "2024-11-08T20:10:06.444Z"
   },
   {
    "duration": 16,
    "start_time": "2024-11-08T20:10:06.500Z"
   },
   {
    "duration": 4,
    "start_time": "2024-11-08T20:10:06.518Z"
   },
   {
    "duration": 471,
    "start_time": "2024-11-08T20:10:06.524Z"
   },
   {
    "duration": 5,
    "start_time": "2024-11-08T20:10:06.996Z"
   },
   {
    "duration": 4,
    "start_time": "2024-11-08T20:10:07.003Z"
   },
   {
    "duration": 14,
    "start_time": "2024-11-08T20:10:07.009Z"
   },
   {
    "duration": 70,
    "start_time": "2024-11-08T20:10:07.024Z"
   },
   {
    "duration": 52,
    "start_time": "2024-11-08T20:10:07.096Z"
   },
   {
    "duration": 366,
    "start_time": "2024-11-08T20:10:07.150Z"
   },
   {
    "duration": 569,
    "start_time": "2024-11-08T20:10:07.519Z"
   },
   {
    "duration": 1381,
    "start_time": "2024-11-08T20:10:08.091Z"
   },
   {
    "duration": 466,
    "start_time": "2024-11-08T20:10:09.474Z"
   },
   {
    "duration": 164,
    "start_time": "2024-11-08T20:10:09.942Z"
   },
   {
    "duration": 105,
    "start_time": "2024-11-08T20:12:21.925Z"
   },
   {
    "duration": 4,
    "start_time": "2024-11-08T20:14:37.135Z"
   },
   {
    "duration": 14,
    "start_time": "2024-11-08T20:17:21.218Z"
   },
   {
    "duration": 44,
    "start_time": "2024-11-08T20:17:31.916Z"
   },
   {
    "duration": 31,
    "start_time": "2024-11-08T20:18:46.749Z"
   },
   {
    "duration": 322,
    "start_time": "2024-11-08T20:20:25.020Z"
   },
   {
    "duration": 613,
    "start_time": "2024-11-08T20:21:12.587Z"
   },
   {
    "duration": 1354,
    "start_time": "2024-11-08T20:21:41.007Z"
   },
   {
    "duration": 478,
    "start_time": "2024-11-08T20:22:32.787Z"
   },
   {
    "duration": 688,
    "start_time": "2024-11-08T20:37:40.950Z"
   },
   {
    "duration": 693,
    "start_time": "2024-11-08T20:38:34.929Z"
   },
   {
    "duration": 655,
    "start_time": "2024-11-08T20:41:55.909Z"
   },
   {
    "duration": 669,
    "start_time": "2024-11-08T20:42:24.249Z"
   },
   {
    "duration": 130,
    "start_time": "2024-11-08T20:45:02.268Z"
   },
   {
    "duration": 135,
    "start_time": "2024-11-08T20:46:09.514Z"
   },
   {
    "duration": 125,
    "start_time": "2024-11-08T20:46:35.060Z"
   },
   {
    "duration": 127,
    "start_time": "2024-11-08T20:46:53.895Z"
   },
   {
    "duration": 127,
    "start_time": "2024-11-08T20:47:39.067Z"
   },
   {
    "duration": 131,
    "start_time": "2024-11-08T20:48:02.974Z"
   },
   {
    "duration": 132,
    "start_time": "2024-11-08T20:48:16.557Z"
   },
   {
    "duration": 181,
    "start_time": "2024-11-08T20:48:29.261Z"
   },
   {
    "duration": 137,
    "start_time": "2024-11-08T20:48:41.302Z"
   },
   {
    "duration": 150,
    "start_time": "2024-11-08T20:49:08.244Z"
   }
  ],
  "kernelspec": {
   "display_name": "Python 3 (ipykernel)",
   "language": "python",
   "name": "python3"
  },
  "language_info": {
   "codemirror_mode": {
    "name": "ipython",
    "version": 3
   },
   "file_extension": ".py",
   "mimetype": "text/x-python",
   "name": "python",
   "nbconvert_exporter": "python",
   "pygments_lexer": "ipython3",
   "version": "3.9.19"
  },
  "toc": {
   "base_numbering": 1,
   "nav_menu": {
    "height": "301px",
    "width": "473px"
   },
   "number_sections": true,
   "sideBar": true,
   "skip_h1_title": true,
   "title_cell": "Table of Contents",
   "title_sidebar": "Contents",
   "toc_cell": false,
   "toc_position": {},
   "toc_section_display": true,
   "toc_window_display": true
  },
  "vscode": {
   "interpreter": {
    "hash": "01a7be9ec63e704a62cefc5fe7a4756944464ee731be31632bdf42a4cb4688cf"
   }
  }
 },
 "nbformat": 4,
 "nbformat_minor": 5
}
